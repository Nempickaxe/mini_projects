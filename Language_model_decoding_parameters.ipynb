{
  "nbformat": 4,
  "nbformat_minor": 0,
  "metadata": {
    "colab": {
      "name": "Language model decoding parameters.ipynb",
      "provenance": [],
      "collapsed_sections": [],
      "authorship_tag": "ABX9TyNnqYEBU6vgXAaSPf5iC8YH",
      "include_colab_link": true
    },
    "kernelspec": {
      "name": "python3",
      "display_name": "Python 3"
    },
    "widgets": {
      "application/vnd.jupyter.widget-state+json": {
        "068da84503814951907e53a7caa4ba68": {
          "model_module": "@jupyter-widgets/controls",
          "model_name": "HBoxModel",
          "state": {
            "_view_name": "HBoxView",
            "_dom_classes": [],
            "_model_name": "HBoxModel",
            "_view_module": "@jupyter-widgets/controls",
            "_model_module_version": "1.5.0",
            "_view_count": null,
            "_view_module_version": "1.5.0",
            "box_style": "",
            "layout": "IPY_MODEL_5b796a7d7bb846a28dbec2740c815a74",
            "_model_module": "@jupyter-widgets/controls",
            "children": [
              "IPY_MODEL_291af5b4479f44f8a97b6d0d35fd9523",
              "IPY_MODEL_1165c9a6c45249d7acfc4dd94bfd29e4"
            ]
          }
        },
        "5b796a7d7bb846a28dbec2740c815a74": {
          "model_module": "@jupyter-widgets/base",
          "model_name": "LayoutModel",
          "state": {
            "_view_name": "LayoutView",
            "grid_template_rows": null,
            "right": null,
            "justify_content": null,
            "_view_module": "@jupyter-widgets/base",
            "overflow": null,
            "_model_module_version": "1.2.0",
            "_view_count": null,
            "flex_flow": null,
            "width": null,
            "min_width": null,
            "border": null,
            "align_items": null,
            "bottom": null,
            "_model_module": "@jupyter-widgets/base",
            "top": null,
            "grid_column": null,
            "overflow_y": null,
            "overflow_x": null,
            "grid_auto_flow": null,
            "grid_area": null,
            "grid_template_columns": null,
            "flex": null,
            "_model_name": "LayoutModel",
            "justify_items": null,
            "grid_row": null,
            "max_height": null,
            "align_content": null,
            "visibility": null,
            "align_self": null,
            "height": null,
            "min_height": null,
            "padding": null,
            "grid_auto_rows": null,
            "grid_gap": null,
            "max_width": null,
            "order": null,
            "_view_module_version": "1.2.0",
            "grid_template_areas": null,
            "object_position": null,
            "object_fit": null,
            "grid_auto_columns": null,
            "margin": null,
            "display": null,
            "left": null
          }
        },
        "291af5b4479f44f8a97b6d0d35fd9523": {
          "model_module": "@jupyter-widgets/controls",
          "model_name": "FloatProgressModel",
          "state": {
            "_view_name": "ProgressView",
            "style": "IPY_MODEL_bcc64e73baee419b8b240c332b93f80b",
            "_dom_classes": [],
            "description": "Downloading: 100%",
            "_model_name": "FloatProgressModel",
            "bar_style": "success",
            "max": 548118077,
            "_view_module": "@jupyter-widgets/controls",
            "_model_module_version": "1.5.0",
            "value": 548118077,
            "_view_count": null,
            "_view_module_version": "1.5.0",
            "orientation": "horizontal",
            "min": 0,
            "description_tooltip": null,
            "_model_module": "@jupyter-widgets/controls",
            "layout": "IPY_MODEL_7e06d5feb58843c18b9030c9b72c1892"
          }
        },
        "1165c9a6c45249d7acfc4dd94bfd29e4": {
          "model_module": "@jupyter-widgets/controls",
          "model_name": "HTMLModel",
          "state": {
            "_view_name": "HTMLView",
            "style": "IPY_MODEL_44a368f97b0c41a999f11df7bf50058e",
            "_dom_classes": [],
            "description": "",
            "_model_name": "HTMLModel",
            "placeholder": "​",
            "_view_module": "@jupyter-widgets/controls",
            "_model_module_version": "1.5.0",
            "value": " 548M/548M [25:49&lt;00:00, 354kB/s]",
            "_view_count": null,
            "_view_module_version": "1.5.0",
            "description_tooltip": null,
            "_model_module": "@jupyter-widgets/controls",
            "layout": "IPY_MODEL_9dc2d04ff9b24b478e23beb7ab26d2ca"
          }
        },
        "bcc64e73baee419b8b240c332b93f80b": {
          "model_module": "@jupyter-widgets/controls",
          "model_name": "ProgressStyleModel",
          "state": {
            "_view_name": "StyleView",
            "_model_name": "ProgressStyleModel",
            "description_width": "initial",
            "_view_module": "@jupyter-widgets/base",
            "_model_module_version": "1.5.0",
            "_view_count": null,
            "_view_module_version": "1.2.0",
            "bar_color": null,
            "_model_module": "@jupyter-widgets/controls"
          }
        },
        "7e06d5feb58843c18b9030c9b72c1892": {
          "model_module": "@jupyter-widgets/base",
          "model_name": "LayoutModel",
          "state": {
            "_view_name": "LayoutView",
            "grid_template_rows": null,
            "right": null,
            "justify_content": null,
            "_view_module": "@jupyter-widgets/base",
            "overflow": null,
            "_model_module_version": "1.2.0",
            "_view_count": null,
            "flex_flow": null,
            "width": null,
            "min_width": null,
            "border": null,
            "align_items": null,
            "bottom": null,
            "_model_module": "@jupyter-widgets/base",
            "top": null,
            "grid_column": null,
            "overflow_y": null,
            "overflow_x": null,
            "grid_auto_flow": null,
            "grid_area": null,
            "grid_template_columns": null,
            "flex": null,
            "_model_name": "LayoutModel",
            "justify_items": null,
            "grid_row": null,
            "max_height": null,
            "align_content": null,
            "visibility": null,
            "align_self": null,
            "height": null,
            "min_height": null,
            "padding": null,
            "grid_auto_rows": null,
            "grid_gap": null,
            "max_width": null,
            "order": null,
            "_view_module_version": "1.2.0",
            "grid_template_areas": null,
            "object_position": null,
            "object_fit": null,
            "grid_auto_columns": null,
            "margin": null,
            "display": null,
            "left": null
          }
        },
        "44a368f97b0c41a999f11df7bf50058e": {
          "model_module": "@jupyter-widgets/controls",
          "model_name": "DescriptionStyleModel",
          "state": {
            "_view_name": "StyleView",
            "_model_name": "DescriptionStyleModel",
            "description_width": "",
            "_view_module": "@jupyter-widgets/base",
            "_model_module_version": "1.5.0",
            "_view_count": null,
            "_view_module_version": "1.2.0",
            "_model_module": "@jupyter-widgets/controls"
          }
        },
        "9dc2d04ff9b24b478e23beb7ab26d2ca": {
          "model_module": "@jupyter-widgets/base",
          "model_name": "LayoutModel",
          "state": {
            "_view_name": "LayoutView",
            "grid_template_rows": null,
            "right": null,
            "justify_content": null,
            "_view_module": "@jupyter-widgets/base",
            "overflow": null,
            "_model_module_version": "1.2.0",
            "_view_count": null,
            "flex_flow": null,
            "width": null,
            "min_width": null,
            "border": null,
            "align_items": null,
            "bottom": null,
            "_model_module": "@jupyter-widgets/base",
            "top": null,
            "grid_column": null,
            "overflow_y": null,
            "overflow_x": null,
            "grid_auto_flow": null,
            "grid_area": null,
            "grid_template_columns": null,
            "flex": null,
            "_model_name": "LayoutModel",
            "justify_items": null,
            "grid_row": null,
            "max_height": null,
            "align_content": null,
            "visibility": null,
            "align_self": null,
            "height": null,
            "min_height": null,
            "padding": null,
            "grid_auto_rows": null,
            "grid_gap": null,
            "max_width": null,
            "order": null,
            "_view_module_version": "1.2.0",
            "grid_template_areas": null,
            "object_position": null,
            "object_fit": null,
            "grid_auto_columns": null,
            "margin": null,
            "display": null,
            "left": null
          }
        },
        "8f1b1c98e2cf42388553ef4b643cea59": {
          "model_module": "@jupyter-widgets/controls",
          "model_name": "HBoxModel",
          "state": {
            "_view_name": "HBoxView",
            "_dom_classes": [],
            "_model_name": "HBoxModel",
            "_view_module": "@jupyter-widgets/controls",
            "_model_module_version": "1.5.0",
            "_view_count": null,
            "_view_module_version": "1.5.0",
            "box_style": "",
            "layout": "IPY_MODEL_f35b39486b044b8094dbe52383901225",
            "_model_module": "@jupyter-widgets/controls",
            "children": [
              "IPY_MODEL_b72044d6df024790aafc5efd0c3fccc9",
              "IPY_MODEL_6946f353a7f14e738e40184584cdbbc6"
            ]
          }
        },
        "f35b39486b044b8094dbe52383901225": {
          "model_module": "@jupyter-widgets/base",
          "model_name": "LayoutModel",
          "state": {
            "_view_name": "LayoutView",
            "grid_template_rows": null,
            "right": null,
            "justify_content": null,
            "_view_module": "@jupyter-widgets/base",
            "overflow": null,
            "_model_module_version": "1.2.0",
            "_view_count": null,
            "flex_flow": null,
            "width": null,
            "min_width": null,
            "border": null,
            "align_items": null,
            "bottom": null,
            "_model_module": "@jupyter-widgets/base",
            "top": null,
            "grid_column": null,
            "overflow_y": null,
            "overflow_x": null,
            "grid_auto_flow": null,
            "grid_area": null,
            "grid_template_columns": null,
            "flex": null,
            "_model_name": "LayoutModel",
            "justify_items": null,
            "grid_row": null,
            "max_height": null,
            "align_content": null,
            "visibility": null,
            "align_self": null,
            "height": null,
            "min_height": null,
            "padding": null,
            "grid_auto_rows": null,
            "grid_gap": null,
            "max_width": null,
            "order": null,
            "_view_module_version": "1.2.0",
            "grid_template_areas": null,
            "object_position": null,
            "object_fit": null,
            "grid_auto_columns": null,
            "margin": null,
            "display": null,
            "left": null
          }
        },
        "b72044d6df024790aafc5efd0c3fccc9": {
          "model_module": "@jupyter-widgets/controls",
          "model_name": "FloatProgressModel",
          "state": {
            "_view_name": "ProgressView",
            "style": "IPY_MODEL_1040143743ce40eab0c09b1ad9bded0b",
            "_dom_classes": [],
            "description": "Downloading: 100%",
            "_model_name": "FloatProgressModel",
            "bar_style": "success",
            "max": 665,
            "_view_module": "@jupyter-widgets/controls",
            "_model_module_version": "1.5.0",
            "value": 665,
            "_view_count": null,
            "_view_module_version": "1.5.0",
            "orientation": "horizontal",
            "min": 0,
            "description_tooltip": null,
            "_model_module": "@jupyter-widgets/controls",
            "layout": "IPY_MODEL_533bed2926924325b71e317e0fc80eae"
          }
        },
        "6946f353a7f14e738e40184584cdbbc6": {
          "model_module": "@jupyter-widgets/controls",
          "model_name": "HTMLModel",
          "state": {
            "_view_name": "HTMLView",
            "style": "IPY_MODEL_70528772a3df49ad8d6cc521c0222b88",
            "_dom_classes": [],
            "description": "",
            "_model_name": "HTMLModel",
            "placeholder": "​",
            "_view_module": "@jupyter-widgets/controls",
            "_model_module_version": "1.5.0",
            "value": " 665/665 [00:11&lt;00:00, 58.8B/s]",
            "_view_count": null,
            "_view_module_version": "1.5.0",
            "description_tooltip": null,
            "_model_module": "@jupyter-widgets/controls",
            "layout": "IPY_MODEL_f05c99857b324986bb0d5838016deb7d"
          }
        },
        "1040143743ce40eab0c09b1ad9bded0b": {
          "model_module": "@jupyter-widgets/controls",
          "model_name": "ProgressStyleModel",
          "state": {
            "_view_name": "StyleView",
            "_model_name": "ProgressStyleModel",
            "description_width": "initial",
            "_view_module": "@jupyter-widgets/base",
            "_model_module_version": "1.5.0",
            "_view_count": null,
            "_view_module_version": "1.2.0",
            "bar_color": null,
            "_model_module": "@jupyter-widgets/controls"
          }
        },
        "533bed2926924325b71e317e0fc80eae": {
          "model_module": "@jupyter-widgets/base",
          "model_name": "LayoutModel",
          "state": {
            "_view_name": "LayoutView",
            "grid_template_rows": null,
            "right": null,
            "justify_content": null,
            "_view_module": "@jupyter-widgets/base",
            "overflow": null,
            "_model_module_version": "1.2.0",
            "_view_count": null,
            "flex_flow": null,
            "width": null,
            "min_width": null,
            "border": null,
            "align_items": null,
            "bottom": null,
            "_model_module": "@jupyter-widgets/base",
            "top": null,
            "grid_column": null,
            "overflow_y": null,
            "overflow_x": null,
            "grid_auto_flow": null,
            "grid_area": null,
            "grid_template_columns": null,
            "flex": null,
            "_model_name": "LayoutModel",
            "justify_items": null,
            "grid_row": null,
            "max_height": null,
            "align_content": null,
            "visibility": null,
            "align_self": null,
            "height": null,
            "min_height": null,
            "padding": null,
            "grid_auto_rows": null,
            "grid_gap": null,
            "max_width": null,
            "order": null,
            "_view_module_version": "1.2.0",
            "grid_template_areas": null,
            "object_position": null,
            "object_fit": null,
            "grid_auto_columns": null,
            "margin": null,
            "display": null,
            "left": null
          }
        },
        "70528772a3df49ad8d6cc521c0222b88": {
          "model_module": "@jupyter-widgets/controls",
          "model_name": "DescriptionStyleModel",
          "state": {
            "_view_name": "StyleView",
            "_model_name": "DescriptionStyleModel",
            "description_width": "",
            "_view_module": "@jupyter-widgets/base",
            "_model_module_version": "1.5.0",
            "_view_count": null,
            "_view_module_version": "1.2.0",
            "_model_module": "@jupyter-widgets/controls"
          }
        },
        "f05c99857b324986bb0d5838016deb7d": {
          "model_module": "@jupyter-widgets/base",
          "model_name": "LayoutModel",
          "state": {
            "_view_name": "LayoutView",
            "grid_template_rows": null,
            "right": null,
            "justify_content": null,
            "_view_module": "@jupyter-widgets/base",
            "overflow": null,
            "_model_module_version": "1.2.0",
            "_view_count": null,
            "flex_flow": null,
            "width": null,
            "min_width": null,
            "border": null,
            "align_items": null,
            "bottom": null,
            "_model_module": "@jupyter-widgets/base",
            "top": null,
            "grid_column": null,
            "overflow_y": null,
            "overflow_x": null,
            "grid_auto_flow": null,
            "grid_area": null,
            "grid_template_columns": null,
            "flex": null,
            "_model_name": "LayoutModel",
            "justify_items": null,
            "grid_row": null,
            "max_height": null,
            "align_content": null,
            "visibility": null,
            "align_self": null,
            "height": null,
            "min_height": null,
            "padding": null,
            "grid_auto_rows": null,
            "grid_gap": null,
            "max_width": null,
            "order": null,
            "_view_module_version": "1.2.0",
            "grid_template_areas": null,
            "object_position": null,
            "object_fit": null,
            "grid_auto_columns": null,
            "margin": null,
            "display": null,
            "left": null
          }
        },
        "83ea318ba2a34f8a8cd31a9e215439ab": {
          "model_module": "@jupyter-widgets/controls",
          "model_name": "HBoxModel",
          "state": {
            "_view_name": "HBoxView",
            "_dom_classes": [],
            "_model_name": "HBoxModel",
            "_view_module": "@jupyter-widgets/controls",
            "_model_module_version": "1.5.0",
            "_view_count": null,
            "_view_module_version": "1.5.0",
            "box_style": "",
            "layout": "IPY_MODEL_305cb51d85544989aa722eccb72fde2e",
            "_model_module": "@jupyter-widgets/controls",
            "children": [
              "IPY_MODEL_7b4ecfa4b9034d5090da2edc83745cff",
              "IPY_MODEL_404cda68e10745a8834cbf8d0d31873b"
            ]
          }
        },
        "305cb51d85544989aa722eccb72fde2e": {
          "model_module": "@jupyter-widgets/base",
          "model_name": "LayoutModel",
          "state": {
            "_view_name": "LayoutView",
            "grid_template_rows": null,
            "right": null,
            "justify_content": null,
            "_view_module": "@jupyter-widgets/base",
            "overflow": null,
            "_model_module_version": "1.2.0",
            "_view_count": null,
            "flex_flow": null,
            "width": null,
            "min_width": null,
            "border": null,
            "align_items": null,
            "bottom": null,
            "_model_module": "@jupyter-widgets/base",
            "top": null,
            "grid_column": null,
            "overflow_y": null,
            "overflow_x": null,
            "grid_auto_flow": null,
            "grid_area": null,
            "grid_template_columns": null,
            "flex": null,
            "_model_name": "LayoutModel",
            "justify_items": null,
            "grid_row": null,
            "max_height": null,
            "align_content": null,
            "visibility": null,
            "align_self": null,
            "height": null,
            "min_height": null,
            "padding": null,
            "grid_auto_rows": null,
            "grid_gap": null,
            "max_width": null,
            "order": null,
            "_view_module_version": "1.2.0",
            "grid_template_areas": null,
            "object_position": null,
            "object_fit": null,
            "grid_auto_columns": null,
            "margin": null,
            "display": null,
            "left": null
          }
        },
        "7b4ecfa4b9034d5090da2edc83745cff": {
          "model_module": "@jupyter-widgets/controls",
          "model_name": "FloatProgressModel",
          "state": {
            "_view_name": "ProgressView",
            "style": "IPY_MODEL_755c7613e94b4ecbbf17f5346fdd26b1",
            "_dom_classes": [],
            "description": "Downloading: 100%",
            "_model_name": "FloatProgressModel",
            "bar_style": "success",
            "max": 497933648,
            "_view_module": "@jupyter-widgets/controls",
            "_model_module_version": "1.5.0",
            "value": 497933648,
            "_view_count": null,
            "_view_module_version": "1.5.0",
            "orientation": "horizontal",
            "min": 0,
            "description_tooltip": null,
            "_model_module": "@jupyter-widgets/controls",
            "layout": "IPY_MODEL_52549b1d78fc495692bf610baf6160a8"
          }
        },
        "404cda68e10745a8834cbf8d0d31873b": {
          "model_module": "@jupyter-widgets/controls",
          "model_name": "HTMLModel",
          "state": {
            "_view_name": "HTMLView",
            "style": "IPY_MODEL_31c6f13daea44b24a53057ab2e90c79b",
            "_dom_classes": [],
            "description": "",
            "_model_name": "HTMLModel",
            "placeholder": "​",
            "_view_module": "@jupyter-widgets/controls",
            "_model_module_version": "1.5.0",
            "value": " 498M/498M [00:10&lt;00:00, 46.5MB/s]",
            "_view_count": null,
            "_view_module_version": "1.5.0",
            "description_tooltip": null,
            "_model_module": "@jupyter-widgets/controls",
            "layout": "IPY_MODEL_07be5e73072e4cb6a7f740dfdeb11aca"
          }
        },
        "755c7613e94b4ecbbf17f5346fdd26b1": {
          "model_module": "@jupyter-widgets/controls",
          "model_name": "ProgressStyleModel",
          "state": {
            "_view_name": "StyleView",
            "_model_name": "ProgressStyleModel",
            "description_width": "initial",
            "_view_module": "@jupyter-widgets/base",
            "_model_module_version": "1.5.0",
            "_view_count": null,
            "_view_module_version": "1.2.0",
            "bar_color": null,
            "_model_module": "@jupyter-widgets/controls"
          }
        },
        "52549b1d78fc495692bf610baf6160a8": {
          "model_module": "@jupyter-widgets/base",
          "model_name": "LayoutModel",
          "state": {
            "_view_name": "LayoutView",
            "grid_template_rows": null,
            "right": null,
            "justify_content": null,
            "_view_module": "@jupyter-widgets/base",
            "overflow": null,
            "_model_module_version": "1.2.0",
            "_view_count": null,
            "flex_flow": null,
            "width": null,
            "min_width": null,
            "border": null,
            "align_items": null,
            "bottom": null,
            "_model_module": "@jupyter-widgets/base",
            "top": null,
            "grid_column": null,
            "overflow_y": null,
            "overflow_x": null,
            "grid_auto_flow": null,
            "grid_area": null,
            "grid_template_columns": null,
            "flex": null,
            "_model_name": "LayoutModel",
            "justify_items": null,
            "grid_row": null,
            "max_height": null,
            "align_content": null,
            "visibility": null,
            "align_self": null,
            "height": null,
            "min_height": null,
            "padding": null,
            "grid_auto_rows": null,
            "grid_gap": null,
            "max_width": null,
            "order": null,
            "_view_module_version": "1.2.0",
            "grid_template_areas": null,
            "object_position": null,
            "object_fit": null,
            "grid_auto_columns": null,
            "margin": null,
            "display": null,
            "left": null
          }
        },
        "31c6f13daea44b24a53057ab2e90c79b": {
          "model_module": "@jupyter-widgets/controls",
          "model_name": "DescriptionStyleModel",
          "state": {
            "_view_name": "StyleView",
            "_model_name": "DescriptionStyleModel",
            "description_width": "",
            "_view_module": "@jupyter-widgets/base",
            "_model_module_version": "1.5.0",
            "_view_count": null,
            "_view_module_version": "1.2.0",
            "_model_module": "@jupyter-widgets/controls"
          }
        },
        "07be5e73072e4cb6a7f740dfdeb11aca": {
          "model_module": "@jupyter-widgets/base",
          "model_name": "LayoutModel",
          "state": {
            "_view_name": "LayoutView",
            "grid_template_rows": null,
            "right": null,
            "justify_content": null,
            "_view_module": "@jupyter-widgets/base",
            "overflow": null,
            "_model_module_version": "1.2.0",
            "_view_count": null,
            "flex_flow": null,
            "width": null,
            "min_width": null,
            "border": null,
            "align_items": null,
            "bottom": null,
            "_model_module": "@jupyter-widgets/base",
            "top": null,
            "grid_column": null,
            "overflow_y": null,
            "overflow_x": null,
            "grid_auto_flow": null,
            "grid_area": null,
            "grid_template_columns": null,
            "flex": null,
            "_model_name": "LayoutModel",
            "justify_items": null,
            "grid_row": null,
            "max_height": null,
            "align_content": null,
            "visibility": null,
            "align_self": null,
            "height": null,
            "min_height": null,
            "padding": null,
            "grid_auto_rows": null,
            "grid_gap": null,
            "max_width": null,
            "order": null,
            "_view_module_version": "1.2.0",
            "grid_template_areas": null,
            "object_position": null,
            "object_fit": null,
            "grid_auto_columns": null,
            "margin": null,
            "display": null,
            "left": null
          }
        }
      }
    }
  },
  "cells": [
    {
      "cell_type": "markdown",
      "metadata": {
        "id": "view-in-github",
        "colab_type": "text"
      },
      "source": [
        "<a href=\"https://colab.research.google.com/github/Nempickaxe/mini_projects/blob/master/Language_model_decoding_parameters.ipynb\" target=\"_parent\"><img src=\"https://colab.research.google.com/assets/colab-badge.svg\" alt=\"Open In Colab\"/></a>"
      ]
    },
    {
      "cell_type": "code",
      "metadata": {
        "colab": {
          "base_uri": "https://localhost:8080/"
        },
        "id": "uc-vN3p28U7X",
        "outputId": "27e4f3b1-fadb-4b96-e3f9-8cb8d3c2ea97"
      },
      "source": [
        "!pip install transformers\n",
        "!pip install ecco"
      ],
      "execution_count": 2,
      "outputs": [
        {
          "output_type": "stream",
          "text": [
            "Requirement already satisfied: transformers in /usr/local/lib/python3.6/dist-packages (4.2.2)\n",
            "Requirement already satisfied: requests in /usr/local/lib/python3.6/dist-packages (from transformers) (2.23.0)\n",
            "Requirement already satisfied: tokenizers==0.9.4 in /usr/local/lib/python3.6/dist-packages (from transformers) (0.9.4)\n",
            "Requirement already satisfied: filelock in /usr/local/lib/python3.6/dist-packages (from transformers) (3.0.12)\n",
            "Requirement already satisfied: dataclasses; python_version < \"3.7\" in /usr/local/lib/python3.6/dist-packages (from transformers) (0.8)\n",
            "Requirement already satisfied: packaging in /usr/local/lib/python3.6/dist-packages (from transformers) (20.8)\n",
            "Requirement already satisfied: importlib-metadata; python_version < \"3.8\" in /usr/local/lib/python3.6/dist-packages (from transformers) (3.3.0)\n",
            "Requirement already satisfied: tqdm>=4.27 in /usr/local/lib/python3.6/dist-packages (from transformers) (4.41.1)\n",
            "Requirement already satisfied: regex!=2019.12.17 in /usr/local/lib/python3.6/dist-packages (from transformers) (2019.12.20)\n",
            "Requirement already satisfied: sacremoses in /usr/local/lib/python3.6/dist-packages (from transformers) (0.0.43)\n",
            "Requirement already satisfied: numpy in /usr/local/lib/python3.6/dist-packages (from transformers) (1.19.5)\n",
            "Requirement already satisfied: idna<3,>=2.5 in /usr/local/lib/python3.6/dist-packages (from requests->transformers) (2.10)\n",
            "Requirement already satisfied: certifi>=2017.4.17 in /usr/local/lib/python3.6/dist-packages (from requests->transformers) (2020.12.5)\n",
            "Requirement already satisfied: urllib3!=1.25.0,!=1.25.1,<1.26,>=1.21.1 in /usr/local/lib/python3.6/dist-packages (from requests->transformers) (1.24.3)\n",
            "Requirement already satisfied: chardet<4,>=3.0.2 in /usr/local/lib/python3.6/dist-packages (from requests->transformers) (3.0.4)\n",
            "Requirement already satisfied: pyparsing>=2.0.2 in /usr/local/lib/python3.6/dist-packages (from packaging->transformers) (2.4.7)\n",
            "Requirement already satisfied: typing-extensions>=3.6.4; python_version < \"3.8\" in /usr/local/lib/python3.6/dist-packages (from importlib-metadata; python_version < \"3.8\"->transformers) (3.7.4.3)\n",
            "Requirement already satisfied: zipp>=0.5 in /usr/local/lib/python3.6/dist-packages (from importlib-metadata; python_version < \"3.8\"->transformers) (3.4.0)\n",
            "Requirement already satisfied: click in /usr/local/lib/python3.6/dist-packages (from sacremoses->transformers) (7.1.2)\n",
            "Requirement already satisfied: six in /usr/local/lib/python3.6/dist-packages (from sacremoses->transformers) (1.15.0)\n",
            "Requirement already satisfied: joblib in /usr/local/lib/python3.6/dist-packages (from sacremoses->transformers) (1.0.0)\n",
            "Collecting ecco\n",
            "  Downloading https://files.pythonhosted.org/packages/f8/de/206ccd06fbdb3e2231ac4dd80aadc5ce1671b237f4cd423fd02cfe1e518a/ecco-0.0.12-py2.py3-none-any.whl\n",
            "Collecting scikit-learn~=0.23\n",
            "\u001b[?25l  Downloading https://files.pythonhosted.org/packages/e2/4c/6111b9a325f29527d7f262e2ee8c730d354b47a728d955e186dacad57a0d/scikit_learn-0.24.1-cp36-cp36m-manylinux2010_x86_64.whl (22.2MB)\n",
            "\u001b[K     |████████████████████████████████| 22.2MB 1.4MB/s \n",
            "\u001b[?25hCollecting transformers<3.5\n",
            "\u001b[?25l  Downloading https://files.pythonhosted.org/packages/2c/4e/4f1ede0fd7a36278844a277f8d53c21f88f37f3754abf76a5d6224f76d4a/transformers-3.4.0-py3-none-any.whl (1.3MB)\n",
            "\u001b[K     |████████████████████████████████| 1.3MB 49.4MB/s \n",
            "\u001b[?25hRequirement already satisfied: seaborn~=0.11 in /usr/local/lib/python3.6/dist-packages (from ecco) (0.11.1)\n",
            "Requirement already satisfied: scipy>=0.19.1 in /usr/local/lib/python3.6/dist-packages (from scikit-learn~=0.23->ecco) (1.4.1)\n",
            "Collecting threadpoolctl>=2.0.0\n",
            "  Downloading https://files.pythonhosted.org/packages/f7/12/ec3f2e203afa394a149911729357aa48affc59c20e2c1c8297a60f33f133/threadpoolctl-2.1.0-py3-none-any.whl\n",
            "Requirement already satisfied: numpy>=1.13.3 in /usr/local/lib/python3.6/dist-packages (from scikit-learn~=0.23->ecco) (1.19.5)\n",
            "Requirement already satisfied: joblib>=0.11 in /usr/local/lib/python3.6/dist-packages (from scikit-learn~=0.23->ecco) (1.0.0)\n",
            "Requirement already satisfied: filelock in /usr/local/lib/python3.6/dist-packages (from transformers<3.5->ecco) (3.0.12)\n",
            "Requirement already satisfied: regex!=2019.12.17 in /usr/local/lib/python3.6/dist-packages (from transformers<3.5->ecco) (2019.12.20)\n",
            "Collecting sentencepiece!=0.1.92\n",
            "\u001b[?25l  Downloading https://files.pythonhosted.org/packages/14/67/e42bd1181472c95c8cda79305df848264f2a7f62740995a46945d9797b67/sentencepiece-0.1.95-cp36-cp36m-manylinux2014_x86_64.whl (1.2MB)\n",
            "\u001b[K     |████████████████████████████████| 1.2MB 44.4MB/s \n",
            "\u001b[?25hRequirement already satisfied: requests in /usr/local/lib/python3.6/dist-packages (from transformers<3.5->ecco) (2.23.0)\n",
            "Requirement already satisfied: protobuf in /usr/local/lib/python3.6/dist-packages (from transformers<3.5->ecco) (3.12.4)\n",
            "Requirement already satisfied: dataclasses; python_version < \"3.7\" in /usr/local/lib/python3.6/dist-packages (from transformers<3.5->ecco) (0.8)\n",
            "Requirement already satisfied: packaging in /usr/local/lib/python3.6/dist-packages (from transformers<3.5->ecco) (20.8)\n",
            "Collecting tokenizers==0.9.2\n",
            "\u001b[?25l  Downloading https://files.pythonhosted.org/packages/7c/a5/78be1a55b2ac8d6a956f0a211d372726e2b1dd2666bb537fea9b03abd62c/tokenizers-0.9.2-cp36-cp36m-manylinux1_x86_64.whl (2.9MB)\n",
            "\u001b[K     |████████████████████████████████| 2.9MB 38.9MB/s \n",
            "\u001b[?25hRequirement already satisfied: tqdm>=4.27 in /usr/local/lib/python3.6/dist-packages (from transformers<3.5->ecco) (4.41.1)\n",
            "Requirement already satisfied: sacremoses in /usr/local/lib/python3.6/dist-packages (from transformers<3.5->ecco) (0.0.43)\n",
            "Requirement already satisfied: matplotlib>=2.2 in /usr/local/lib/python3.6/dist-packages (from seaborn~=0.11->ecco) (3.2.2)\n",
            "Requirement already satisfied: pandas>=0.23 in /usr/local/lib/python3.6/dist-packages (from seaborn~=0.11->ecco) (1.1.5)\n",
            "Requirement already satisfied: certifi>=2017.4.17 in /usr/local/lib/python3.6/dist-packages (from requests->transformers<3.5->ecco) (2020.12.5)\n",
            "Requirement already satisfied: idna<3,>=2.5 in /usr/local/lib/python3.6/dist-packages (from requests->transformers<3.5->ecco) (2.10)\n",
            "Requirement already satisfied: urllib3!=1.25.0,!=1.25.1,<1.26,>=1.21.1 in /usr/local/lib/python3.6/dist-packages (from requests->transformers<3.5->ecco) (1.24.3)\n",
            "Requirement already satisfied: chardet<4,>=3.0.2 in /usr/local/lib/python3.6/dist-packages (from requests->transformers<3.5->ecco) (3.0.4)\n",
            "Requirement already satisfied: six>=1.9 in /usr/local/lib/python3.6/dist-packages (from protobuf->transformers<3.5->ecco) (1.15.0)\n",
            "Requirement already satisfied: setuptools in /usr/local/lib/python3.6/dist-packages (from protobuf->transformers<3.5->ecco) (51.3.3)\n",
            "Requirement already satisfied: pyparsing>=2.0.2 in /usr/local/lib/python3.6/dist-packages (from packaging->transformers<3.5->ecco) (2.4.7)\n",
            "Requirement already satisfied: click in /usr/local/lib/python3.6/dist-packages (from sacremoses->transformers<3.5->ecco) (7.1.2)\n",
            "Requirement already satisfied: python-dateutil>=2.1 in /usr/local/lib/python3.6/dist-packages (from matplotlib>=2.2->seaborn~=0.11->ecco) (2.8.1)\n",
            "Requirement already satisfied: kiwisolver>=1.0.1 in /usr/local/lib/python3.6/dist-packages (from matplotlib>=2.2->seaborn~=0.11->ecco) (1.3.1)\n",
            "Requirement already satisfied: cycler>=0.10 in /usr/local/lib/python3.6/dist-packages (from matplotlib>=2.2->seaborn~=0.11->ecco) (0.10.0)\n",
            "Requirement already satisfied: pytz>=2017.2 in /usr/local/lib/python3.6/dist-packages (from pandas>=0.23->seaborn~=0.11->ecco) (2018.9)\n",
            "Installing collected packages: threadpoolctl, scikit-learn, sentencepiece, tokenizers, transformers, ecco\n",
            "  Found existing installation: scikit-learn 0.22.2.post1\n",
            "    Uninstalling scikit-learn-0.22.2.post1:\n",
            "      Successfully uninstalled scikit-learn-0.22.2.post1\n",
            "  Found existing installation: tokenizers 0.9.4\n",
            "    Uninstalling tokenizers-0.9.4:\n",
            "      Successfully uninstalled tokenizers-0.9.4\n",
            "  Found existing installation: transformers 4.2.2\n",
            "    Uninstalling transformers-4.2.2:\n",
            "      Successfully uninstalled transformers-4.2.2\n",
            "Successfully installed ecco-0.0.12 scikit-learn-0.24.1 sentencepiece-0.1.95 threadpoolctl-2.1.0 tokenizers-0.9.2 transformers-3.4.0\n"
          ],
          "name": "stdout"
        }
      ]
    },
    {
      "cell_type": "code",
      "metadata": {
        "id": "Useyqll3o_eU",
        "outputId": "2b292563-a71e-4462-b5d0-36a01f9b1534",
        "colab": {
          "base_uri": "https://localhost:8080/",
          "height": 66,
          "referenced_widgets": [
            "068da84503814951907e53a7caa4ba68",
            "5b796a7d7bb846a28dbec2740c815a74",
            "291af5b4479f44f8a97b6d0d35fd9523",
            "1165c9a6c45249d7acfc4dd94bfd29e4",
            "bcc64e73baee419b8b240c332b93f80b",
            "7e06d5feb58843c18b9030c9b72c1892",
            "44a368f97b0c41a999f11df7bf50058e",
            "9dc2d04ff9b24b478e23beb7ab26d2ca"
          ]
        }
      },
      "source": [
        "import ecco\n",
        "\n",
        "lm = ecco.from_pretrained('gpt2', activations=True)"
      ],
      "execution_count": 5,
      "outputs": [
        {
          "output_type": "display_data",
          "data": {
            "application/vnd.jupyter.widget-view+json": {
              "model_id": "068da84503814951907e53a7caa4ba68",
              "version_minor": 0,
              "version_major": 2
            },
            "text/plain": [
              "HBox(children=(FloatProgress(value=0.0, description='Downloading', max=548118077.0, style=ProgressStyle(descri…"
            ]
          },
          "metadata": {
            "tags": []
          }
        },
        {
          "output_type": "stream",
          "text": [
            "\n"
          ],
          "name": "stdout"
        }
      ]
    },
    {
      "cell_type": "code",
      "metadata": {
        "id": "yRQ4EAvbpMP3",
        "outputId": "c1fd33c1-a2ae-49f2-a5fd-2e193bc0da0a",
        "colab": {
          "base_uri": "https://localhost:8080/",
          "height": 81
        }
      },
      "source": [
        "text = \"The countries of the European Union\"\n",
        "output = lm.generate(text, generate=20, do_sample=True, top_k=30)"
      ],
      "execution_count": 64,
      "outputs": [
        {
          "output_type": "display_data",
          "data": {
            "text/html": [
              "<html lang=\"en\">\n",
              "<script src=\"https://requirejs.org/docs/release/2.3.6/minified/require.js\"></script>\n",
              "<script>\n",
              "    var ecco_url = 'https://storage.googleapis.com/ml-intro/ecco/'\n",
              "    // var ecco_url = 'http://localhost:8000/ecco/'\n",
              "\n",
              "    if (window.ecco === undefined) window.ecco = {}\n",
              "\n",
              "    requirejs.config({\n",
              "        urlArgs: \"bust=\" + (new Date()).getTime(),\n",
              "        nodeRequire: require,\n",
              "        paths: {\n",
              "            d3: \"https://d3js.org/d3.v5.min\",\n",
              "            \"d3-array\": \"https://d3js.org/d3-array.v2.min\",\n",
              "            jquery: \"https://code.jquery.com/jquery-3.5.1.min\",\n",
              "            // oldEcco: ecco_url + 'ecco',\n",
              "            ecco: ecco_url + 'js/0.0.4/ecco-bundle.min',\n",
              "            xregexp: 'https://cdnjs.cloudflare.com/ajax/libs/xregexp/3.2.0/xregexp-all.min'\n",
              "        }\n",
              "    });\n",
              "    requirejs(['d3'],\n",
              "        function (d3) {\n",
              "            d3.select('#css').attr('href', ecco_url + 'html/styles.css')\n",
              "        })\n",
              "\n",
              "    console.log('Ecco initialize.')\n",
              "</script>\n",
              "\n",
              "<head>\n",
              "    <link id='css' rel=\"stylesheet\" type=\"text/css\">\n",
              "</head>\n"
            ],
            "text/plain": [
              "<IPython.core.display.HTML object>"
            ]
          },
          "metadata": {
            "tags": []
          }
        },
        {
          "output_type": "display_data",
          "data": {
            "text/html": [
              "<script>\n",
              "    // console.log('defining basic')\n",
              "    define('basic', ['d3'],\n",
              "        function (d3) {\n",
              "            return {\n",
              "                init: function (viz_id = null) {\n",
              "\n",
              "                    // console.log('basic init')\n",
              "                    if (viz_id == null){\n",
              "                        viz_id = \"viz_\" + Math.round(Math.random() * 10000000)\n",
              "                    }\n",
              "                    const div = d3.select('#basic').attr('id', viz_id),\n",
              "                        div_parent = d3.select('#' + viz_id).node().parentNode\n",
              "\n",
              "                    // Link to CSS file\n",
              "                    d3.select(div_parent).insert('link')\n",
              "                        .attr('rel', 'stylesheet')\n",
              "                        .attr('type', 'text/css')\n",
              "                        .attr('href', ecco_url + 'html/styles.css')\n",
              "\n",
              "                    return viz_id\n",
              "                }\n",
              "            }\n",
              "        }, function (err) {console.log(err);}\n",
              "    )\n",
              "    // console.log('after defining basic')\n",
              "\n",
              "</script>\n",
              "<div id=\"basic\"></div>\n"
            ],
            "text/plain": [
              "<IPython.core.display.HTML object>"
            ]
          },
          "metadata": {
            "tags": []
          }
        },
        {
          "output_type": "display_data",
          "data": {
            "application/javascript": [
              "\n",
              "\n",
              "         requirejs( ['basic', 'ecco'], function(basic, ecco){\n",
              "            basic.init('viz_967319')\n",
              "\n",
              "            window.ecco['viz_967319'] = ecco.renderOutputSequence('viz_967319', {'tokens': [{'token': 'The', 'position': 0, 'token_id': 464, 'type': 'input'}, {'token': ' countries', 'position': 1, 'token_id': 2678, 'type': 'input'}, {'token': ' of', 'position': 2, 'token_id': 286, 'type': 'input'}, {'token': ' the', 'position': 3, 'token_id': 262, 'type': 'input'}, {'token': ' European', 'position': 4, 'token_id': 3427, 'type': 'input'}, {'token': ' Union', 'position': 5, 'token_id': 4479, 'type': 'input'}]})\n",
              "         }, function (err) {\n",
              "            console.log(err);\n",
              "        })\n"
            ],
            "text/plain": [
              "<IPython.core.display.Javascript object>"
            ]
          },
          "metadata": {
            "tags": []
          }
        },
        {
          "output_type": "display_data",
          "data": {
            "application/javascript": [
              "\n",
              "        // We don't really need these require scripts. But this is to avert\n",
              "        //this code from running before display_input_sequence which DOES require external files\n",
              "        requirejs(['basic', 'ecco'], function(basic, ecco){\n",
              "                console.log('addToken viz_id', 'viz_967319');\n",
              "                window.ecco['viz_967319'].addToken({\"token\": \",\", \"token_id\": 11, \"position\": 6, \"type\": \"output\"})\n",
              "                window.ecco['viz_967319'].redraw()\n",
              "        })\n",
              "        "
            ],
            "text/plain": [
              "<IPython.core.display.Javascript object>"
            ]
          },
          "metadata": {
            "tags": []
          }
        },
        {
          "output_type": "display_data",
          "data": {
            "application/javascript": [
              "\n",
              "        // We don't really need these require scripts. But this is to avert\n",
              "        //this code from running before display_input_sequence which DOES require external files\n",
              "        requirejs(['basic', 'ecco'], function(basic, ecco){\n",
              "                console.log('addToken viz_id', 'viz_967319');\n",
              "                window.ecco['viz_967319'].addToken({\"token\": \" the\", \"token_id\": 262, \"position\": 7, \"type\": \"output\"})\n",
              "                window.ecco['viz_967319'].redraw()\n",
              "        })\n",
              "        "
            ],
            "text/plain": [
              "<IPython.core.display.Javascript object>"
            ]
          },
          "metadata": {
            "tags": []
          }
        },
        {
          "output_type": "display_data",
          "data": {
            "application/javascript": [
              "\n",
              "        // We don't really need these require scripts. But this is to avert\n",
              "        //this code from running before display_input_sequence which DOES require external files\n",
              "        requirejs(['basic', 'ecco'], function(basic, ecco){\n",
              "                console.log('addToken viz_id', 'viz_967319');\n",
              "                window.ecco['viz_967319'].addToken({\"token\": \" US\", \"token_id\": 1294, \"position\": 8, \"type\": \"output\"})\n",
              "                window.ecco['viz_967319'].redraw()\n",
              "        })\n",
              "        "
            ],
            "text/plain": [
              "<IPython.core.display.Javascript object>"
            ]
          },
          "metadata": {
            "tags": []
          }
        },
        {
          "output_type": "display_data",
          "data": {
            "application/javascript": [
              "\n",
              "        // We don't really need these require scripts. But this is to avert\n",
              "        //this code from running before display_input_sequence which DOES require external files\n",
              "        requirejs(['basic', 'ecco'], function(basic, ecco){\n",
              "                console.log('addToken viz_id', 'viz_967319');\n",
              "                window.ecco['viz_967319'].addToken({\"token\": \",\", \"token_id\": 11, \"position\": 9, \"type\": \"output\"})\n",
              "                window.ecco['viz_967319'].redraw()\n",
              "        })\n",
              "        "
            ],
            "text/plain": [
              "<IPython.core.display.Javascript object>"
            ]
          },
          "metadata": {
            "tags": []
          }
        },
        {
          "output_type": "display_data",
          "data": {
            "application/javascript": [
              "\n",
              "        // We don't really need these require scripts. But this is to avert\n",
              "        //this code from running before display_input_sequence which DOES require external files\n",
              "        requirejs(['basic', 'ecco'], function(basic, ecco){\n",
              "                console.log('addToken viz_id', 'viz_967319');\n",
              "                window.ecco['viz_967319'].addToken({\"token\": \" and\", \"token_id\": 290, \"position\": 10, \"type\": \"output\"})\n",
              "                window.ecco['viz_967319'].redraw()\n",
              "        })\n",
              "        "
            ],
            "text/plain": [
              "<IPython.core.display.Javascript object>"
            ]
          },
          "metadata": {
            "tags": []
          }
        },
        {
          "output_type": "display_data",
          "data": {
            "application/javascript": [
              "\n",
              "        // We don't really need these require scripts. But this is to avert\n",
              "        //this code from running before display_input_sequence which DOES require external files\n",
              "        requirejs(['basic', 'ecco'], function(basic, ecco){\n",
              "                console.log('addToken viz_id', 'viz_967319');\n",
              "                window.ecco['viz_967319'].addToken({\"token\": \" Norway\", \"token_id\": 15238, \"position\": 11, \"type\": \"output\"})\n",
              "                window.ecco['viz_967319'].redraw()\n",
              "        })\n",
              "        "
            ],
            "text/plain": [
              "<IPython.core.display.Javascript object>"
            ]
          },
          "metadata": {
            "tags": []
          }
        },
        {
          "output_type": "display_data",
          "data": {
            "application/javascript": [
              "\n",
              "        // We don't really need these require scripts. But this is to avert\n",
              "        //this code from running before display_input_sequence which DOES require external files\n",
              "        requirejs(['basic', 'ecco'], function(basic, ecco){\n",
              "                console.log('addToken viz_id', 'viz_967319');\n",
              "                window.ecco['viz_967319'].addToken({\"token\": \" have\", \"token_id\": 423, \"position\": 12, \"type\": \"output\"})\n",
              "                window.ecco['viz_967319'].redraw()\n",
              "        })\n",
              "        "
            ],
            "text/plain": [
              "<IPython.core.display.Javascript object>"
            ]
          },
          "metadata": {
            "tags": []
          }
        },
        {
          "output_type": "display_data",
          "data": {
            "application/javascript": [
              "\n",
              "        // We don't really need these require scripts. But this is to avert\n",
              "        //this code from running before display_input_sequence which DOES require external files\n",
              "        requirejs(['basic', 'ecco'], function(basic, ecco){\n",
              "                console.log('addToken viz_id', 'viz_967319');\n",
              "                window.ecco['viz_967319'].addToken({\"token\": \" imposed\", \"token_id\": 10893, \"position\": 13, \"type\": \"output\"})\n",
              "                window.ecco['viz_967319'].redraw()\n",
              "        })\n",
              "        "
            ],
            "text/plain": [
              "<IPython.core.display.Javascript object>"
            ]
          },
          "metadata": {
            "tags": []
          }
        },
        {
          "output_type": "display_data",
          "data": {
            "application/javascript": [
              "\n",
              "        // We don't really need these require scripts. But this is to avert\n",
              "        //this code from running before display_input_sequence which DOES require external files\n",
              "        requirejs(['basic', 'ecco'], function(basic, ecco){\n",
              "                console.log('addToken viz_id', 'viz_967319');\n",
              "                window.ecco['viz_967319'].addToken({\"token\": \" sanctions\", \"token_id\": 9388, \"position\": 14, \"type\": \"output\"})\n",
              "                window.ecco['viz_967319'].redraw()\n",
              "        })\n",
              "        "
            ],
            "text/plain": [
              "<IPython.core.display.Javascript object>"
            ]
          },
          "metadata": {
            "tags": []
          }
        },
        {
          "output_type": "display_data",
          "data": {
            "application/javascript": [
              "\n",
              "        // We don't really need these require scripts. But this is to avert\n",
              "        //this code from running before display_input_sequence which DOES require external files\n",
              "        requirejs(['basic', 'ecco'], function(basic, ecco){\n",
              "                console.log('addToken viz_id', 'viz_967319');\n",
              "                window.ecco['viz_967319'].addToken({\"token\": \" on\", \"token_id\": 319, \"position\": 15, \"type\": \"output\"})\n",
              "                window.ecco['viz_967319'].redraw()\n",
              "        })\n",
              "        "
            ],
            "text/plain": [
              "<IPython.core.display.Javascript object>"
            ]
          },
          "metadata": {
            "tags": []
          }
        },
        {
          "output_type": "display_data",
          "data": {
            "application/javascript": [
              "\n",
              "        // We don't really need these require scripts. But this is to avert\n",
              "        //this code from running before display_input_sequence which DOES require external files\n",
              "        requirejs(['basic', 'ecco'], function(basic, ecco){\n",
              "                console.log('addToken viz_id', 'viz_967319');\n",
              "                window.ecco['viz_967319'].addToken({\"token\": \" Russia\", \"token_id\": 3284, \"position\": 16, \"type\": \"output\"})\n",
              "                window.ecco['viz_967319'].redraw()\n",
              "        })\n",
              "        "
            ],
            "text/plain": [
              "<IPython.core.display.Javascript object>"
            ]
          },
          "metadata": {
            "tags": []
          }
        },
        {
          "output_type": "display_data",
          "data": {
            "application/javascript": [
              "\n",
              "        // We don't really need these require scripts. But this is to avert\n",
              "        //this code from running before display_input_sequence which DOES require external files\n",
              "        requirejs(['basic', 'ecco'], function(basic, ecco){\n",
              "                console.log('addToken viz_id', 'viz_967319');\n",
              "                window.ecco['viz_967319'].addToken({\"token\": \" for\", \"token_id\": 329, \"position\": 17, \"type\": \"output\"})\n",
              "                window.ecco['viz_967319'].redraw()\n",
              "        })\n",
              "        "
            ],
            "text/plain": [
              "<IPython.core.display.Javascript object>"
            ]
          },
          "metadata": {
            "tags": []
          }
        },
        {
          "output_type": "display_data",
          "data": {
            "application/javascript": [
              "\n",
              "        // We don't really need these require scripts. But this is to avert\n",
              "        //this code from running before display_input_sequence which DOES require external files\n",
              "        requirejs(['basic', 'ecco'], function(basic, ecco){\n",
              "                console.log('addToken viz_id', 'viz_967319');\n",
              "                window.ecco['viz_967319'].addToken({\"token\": \" its\", \"token_id\": 663, \"position\": 18, \"type\": \"output\"})\n",
              "                window.ecco['viz_967319'].redraw()\n",
              "        })\n",
              "        "
            ],
            "text/plain": [
              "<IPython.core.display.Javascript object>"
            ]
          },
          "metadata": {
            "tags": []
          }
        },
        {
          "output_type": "display_data",
          "data": {
            "application/javascript": [
              "\n",
              "        // We don't really need these require scripts. But this is to avert\n",
              "        //this code from running before display_input_sequence which DOES require external files\n",
              "        requirejs(['basic', 'ecco'], function(basic, ecco){\n",
              "                console.log('addToken viz_id', 'viz_967319');\n",
              "                window.ecco['viz_967319'].addToken({\"token\": \" annexation\", \"token_id\": 41329, \"position\": 19, \"type\": \"output\"})\n",
              "                window.ecco['viz_967319'].redraw()\n",
              "        })\n",
              "        "
            ],
            "text/plain": [
              "<IPython.core.display.Javascript object>"
            ]
          },
          "metadata": {
            "tags": []
          }
        },
        {
          "output_type": "display_data",
          "data": {
            "application/javascript": [
              "\n",
              "        // We don't really need these require scripts. But this is to avert\n",
              "        //this code from running before display_input_sequence which DOES require external files\n",
              "        requirejs(['basic', 'ecco'], function(basic, ecco){\n",
              "                console.log('addToken viz_id', 'viz_967319');\n",
              "                window.ecco['viz_967319'].addToken({\"token\": \" of\", \"token_id\": 286, \"position\": 20, \"type\": \"output\"})\n",
              "                window.ecco['viz_967319'].redraw()\n",
              "        })\n",
              "        "
            ],
            "text/plain": [
              "<IPython.core.display.Javascript object>"
            ]
          },
          "metadata": {
            "tags": []
          }
        },
        {
          "output_type": "display_data",
          "data": {
            "application/javascript": [
              "\n",
              "        // We don't really need these require scripts. But this is to avert\n",
              "        //this code from running before display_input_sequence which DOES require external files\n",
              "        requirejs(['basic', 'ecco'], function(basic, ecco){\n",
              "                console.log('addToken viz_id', 'viz_967319');\n",
              "                window.ecco['viz_967319'].addToken({\"token\": \" Crimea\", \"token_id\": 21590, \"position\": 21, \"type\": \"output\"})\n",
              "                window.ecco['viz_967319'].redraw()\n",
              "        })\n",
              "        "
            ],
            "text/plain": [
              "<IPython.core.display.Javascript object>"
            ]
          },
          "metadata": {
            "tags": []
          }
        },
        {
          "output_type": "display_data",
          "data": {
            "application/javascript": [
              "\n",
              "        // We don't really need these require scripts. But this is to avert\n",
              "        //this code from running before display_input_sequence which DOES require external files\n",
              "        requirejs(['basic', 'ecco'], function(basic, ecco){\n",
              "                console.log('addToken viz_id', 'viz_967319');\n",
              "                window.ecco['viz_967319'].addToken({\"token\": \",\", \"token_id\": 11, \"position\": 22, \"type\": \"output\"})\n",
              "                window.ecco['viz_967319'].redraw()\n",
              "        })\n",
              "        "
            ],
            "text/plain": [
              "<IPython.core.display.Javascript object>"
            ]
          },
          "metadata": {
            "tags": []
          }
        },
        {
          "output_type": "display_data",
          "data": {
            "application/javascript": [
              "\n",
              "        // We don't really need these require scripts. But this is to avert\n",
              "        //this code from running before display_input_sequence which DOES require external files\n",
              "        requirejs(['basic', 'ecco'], function(basic, ecco){\n",
              "                console.log('addToken viz_id', 'viz_967319');\n",
              "                window.ecco['viz_967319'].addToken({\"token\": \" annexation\", \"token_id\": 41329, \"position\": 23, \"type\": \"output\"})\n",
              "                window.ecco['viz_967319'].redraw()\n",
              "        })\n",
              "        "
            ],
            "text/plain": [
              "<IPython.core.display.Javascript object>"
            ]
          },
          "metadata": {
            "tags": []
          }
        },
        {
          "output_type": "display_data",
          "data": {
            "application/javascript": [
              "\n",
              "        // We don't really need these require scripts. But this is to avert\n",
              "        //this code from running before display_input_sequence which DOES require external files\n",
              "        requirejs(['basic', 'ecco'], function(basic, ecco){\n",
              "                console.log('addToken viz_id', 'viz_967319');\n",
              "                window.ecco['viz_967319'].addToken({\"token\": \" of\", \"token_id\": 286, \"position\": 24, \"type\": \"output\"})\n",
              "                window.ecco['viz_967319'].redraw()\n",
              "        })\n",
              "        "
            ],
            "text/plain": [
              "<IPython.core.display.Javascript object>"
            ]
          },
          "metadata": {
            "tags": []
          }
        },
        {
          "output_type": "display_data",
          "data": {
            "application/javascript": [
              "\n",
              "        // We don't really need these require scripts. But this is to avert\n",
              "        //this code from running before display_input_sequence which DOES require external files\n",
              "        requirejs(['basic', 'ecco'], function(basic, ecco){\n",
              "                console.log('addToken viz_id', 'viz_967319');\n",
              "                window.ecco['viz_967319'].addToken({\"token\": \" the\", \"token_id\": 262, \"position\": 25, \"type\": \"output\"})\n",
              "                window.ecco['viz_967319'].redraw()\n",
              "        })\n",
              "        "
            ],
            "text/plain": [
              "<IPython.core.display.Javascript object>"
            ]
          },
          "metadata": {
            "tags": []
          }
        }
      ]
    },
    {
      "cell_type": "code",
      "metadata": {
        "id": "bGm6F9vcryh8",
        "outputId": "285d4bf4-56e2-4d68-bfc9-7d19117902e1",
        "colab": {
          "base_uri": "https://localhost:8080/",
          "height": 310
        }
      },
      "source": [
        "output.layer_predictions(position=11, topk=30, layer=11)"
      ],
      "execution_count": 70,
      "outputs": [
        {
          "output_type": "stream",
          "text": [
            "Predictions for position 11\n"
          ],
          "name": "stdout"
        },
        {
          "output_type": "display_data",
          "data": {
            "text/html": [
              "<html lang=\"en\">\n",
              "<script src=\"https://requirejs.org/docs/release/2.3.6/minified/require.js\"></script>\n",
              "<script>\n",
              "    var ecco_url = 'https://storage.googleapis.com/ml-intro/ecco/'\n",
              "    // var ecco_url = 'http://localhost:8000/ecco/'\n",
              "\n",
              "    if (window.ecco === undefined) window.ecco = {}\n",
              "\n",
              "    requirejs.config({\n",
              "        urlArgs: \"bust=\" + (new Date()).getTime(),\n",
              "        nodeRequire: require,\n",
              "        paths: {\n",
              "            d3: \"https://d3js.org/d3.v5.min\",\n",
              "            \"d3-array\": \"https://d3js.org/d3-array.v2.min\",\n",
              "            jquery: \"https://code.jquery.com/jquery-3.5.1.min\",\n",
              "            // oldEcco: ecco_url + 'ecco',\n",
              "            ecco: ecco_url + 'js/0.0.4/ecco-bundle.min',\n",
              "            xregexp: 'https://cdnjs.cloudflare.com/ajax/libs/xregexp/3.2.0/xregexp-all.min'\n",
              "        }\n",
              "    });\n",
              "    requirejs(['d3'],\n",
              "        function (d3) {\n",
              "            d3.select('#css').attr('href', ecco_url + 'html/styles.css')\n",
              "        })\n",
              "\n",
              "    console.log('Ecco initialize.')\n",
              "</script>\n",
              "\n",
              "<head>\n",
              "    <link id='css' rel=\"stylesheet\" type=\"text/css\">\n",
              "</head>\n"
            ],
            "text/plain": [
              "<IPython.core.display.HTML object>"
            ]
          },
          "metadata": {
            "tags": []
          }
        },
        {
          "output_type": "display_data",
          "data": {
            "text/html": [
              "<script>\n",
              "    // console.log('defining basic')\n",
              "    define('basic', ['d3'],\n",
              "        function (d3) {\n",
              "            return {\n",
              "                init: function (viz_id = null) {\n",
              "\n",
              "                    // console.log('basic init')\n",
              "                    if (viz_id == null){\n",
              "                        viz_id = \"viz_\" + Math.round(Math.random() * 10000000)\n",
              "                    }\n",
              "                    const div = d3.select('#basic').attr('id', viz_id),\n",
              "                        div_parent = d3.select('#' + viz_id).node().parentNode\n",
              "\n",
              "                    // Link to CSS file\n",
              "                    d3.select(div_parent).insert('link')\n",
              "                        .attr('rel', 'stylesheet')\n",
              "                        .attr('type', 'text/css')\n",
              "                        .attr('href', ecco_url + 'html/styles.css')\n",
              "\n",
              "                    return viz_id\n",
              "                }\n",
              "            }\n",
              "        }, function (err) {console.log(err);}\n",
              "    )\n",
              "    // console.log('after defining basic')\n",
              "\n",
              "</script>\n",
              "<div id=\"basic\"></div>\n"
            ],
            "text/plain": [
              "<IPython.core.display.HTML object>"
            ]
          },
          "metadata": {
            "tags": []
          }
        },
        {
          "output_type": "display_data",
          "data": {
            "application/javascript": [
              "\n",
              "         requirejs(['basic', 'ecco'], function(basic, ecco){\n",
              "            const viz_id = basic.init()\n",
              "\n",
              "\n",
              "            let pred = new ecco.LayerPredictions({\n",
              "                parentDiv: viz_id,\n",
              "                data:[[{\"token\": \" Japan\", \"prob\": \"0.18633513\", \"ranking\": 1, \"layer\": 11}, {\"token\": \" the\", \"prob\": \"0.14249037\", \"ranking\": 2, \"layer\": 11}, {\"token\": \" Canada\", \"prob\": \"0.1263744\", \"ranking\": 3, \"layer\": 11}, {\"token\": \" China\", \"prob\": \"0.09656104\", \"ranking\": 4, \"layer\": 11}, {\"token\": \" Russia\", \"prob\": \"0.06304571\", \"ranking\": 5, \"layer\": 11}, {\"token\": \" Australia\", \"prob\": \"0.03526682\", \"ranking\": 6, \"layer\": 11}, {\"token\": \" other\", \"prob\": \"0.032818418\", \"ranking\": 7, \"layer\": 11}, {\"token\": \" South\", \"prob\": \"0.017263243\", \"ranking\": 8, \"layer\": 11}, {\"token\": \" others\", \"prob\": \"0.016644131\", \"ranking\": 9, \"layer\": 11}, {\"token\": \" Germany\", \"prob\": \"0.016217068\", \"ranking\": 10, \"layer\": 11}, {\"token\": \" many\", \"prob\": \"0.013539432\", \"ranking\": 11, \"layer\": 11}, {\"token\": \" India\", \"prob\": \"0.011480513\", \"ranking\": 12, \"layer\": 11}, {\"token\": \" France\", \"prob\": \"0.010764475\", \"ranking\": 13, \"layer\": 11}, {\"token\": \" Israel\", \"prob\": \"0.010230162\", \"ranking\": 14, \"layer\": 11}, {\"token\": \" Britain\", \"prob\": \"0.0099204825\", \"ranking\": 15, \"layer\": 11}, {\"token\": \" UK\", \"prob\": \"0.009354051\", \"ranking\": 16, \"layer\": 11}, {\"token\": \" North\", \"prob\": \"0.008974316\", \"ranking\": 17, \"layer\": 11}, {\"token\": \" Mexico\", \"prob\": \"0.008460486\", \"ranking\": 18, \"layer\": 11}, {\"token\": \" Saudi\", \"prob\": \"0.00807909\", \"ranking\": 19, \"layer\": 11}, {\"token\": \" some\", \"prob\": \"0.007899528\", \"ranking\": 20, \"layer\": 11}, {\"token\": \" even\", \"prob\": \"0.0071329824\", \"ranking\": 21, \"layer\": 11}, {\"token\": \" Turkey\", \"prob\": \"0.006917006\", \"ranking\": 22, \"layer\": 11}, {\"token\": \" Switzerland\", \"prob\": \"0.005502698\", \"ranking\": 23, \"layer\": 11}, {\"token\": \" Great\", \"prob\": \"0.0051266137\", \"ranking\": 24, \"layer\": 11}, {\"token\": \" Brazil\", \"prob\": \"0.004856225\", \"ranking\": 25, \"layer\": 11}, {\"token\": \" most\", \"prob\": \"0.0048225527\", \"ranking\": 26, \"layer\": 11}, {\"token\": \" Spain\", \"prob\": \"0.0042340914\", \"ranking\": 27, \"layer\": 11}, {\"token\": \" several\", \"prob\": \"0.003757757\", \"ranking\": 28, \"layer\": 11}, {\"token\": \" Norway\", \"prob\": \"0.0037058543\", \"ranking\": 29, \"layer\": 11}, {\"token\": \" Sweden\", \"prob\": \"0.003614792\", \"ranking\": 30, \"layer\": 11}]]\n",
              "            })\n",
              "            pred.init()\n",
              "         }, function (err) {\n",
              "            console.log(viz_id, err);\n",
              "        })"
            ],
            "text/plain": [
              "<IPython.core.display.Javascript object>"
            ]
          },
          "metadata": {
            "tags": []
          }
        }
      ]
    },
    {
      "cell_type": "code",
      "metadata": {
        "id": "HW_Krj-Kufkk",
        "outputId": "3e653e87-4c56-453d-d7aa-e4d9b7e00f25",
        "colab": {
          "base_uri": "https://localhost:8080/"
        }
      },
      "source": [
        "lm.tokenizer(['Japan Norway Canada'])"
      ],
      "execution_count": 67,
      "outputs": [
        {
          "output_type": "execute_result",
          "data": {
            "text/plain": [
              "{'input_ids': [[16504, 15238, 3340]], 'attention_mask': [[1, 1, 1]]}"
            ]
          },
          "metadata": {
            "tags": []
          },
          "execution_count": 67
        }
      ]
    },
    {
      "cell_type": "code",
      "metadata": {
        "id": "SEjp8VeXua16",
        "outputId": "6d127cdd-dc0b-46a5-d300-55dcd0912bab",
        "colab": {
          "base_uri": "https://localhost:8080/",
          "height": 498
        }
      },
      "source": [
        "output.rankings_watch([16504, 15238, 3340], position=8)"
      ],
      "execution_count": 68,
      "outputs": [
        {
          "output_type": "display_data",
          "data": {
            "image/png": "[encoded data removed]",
            "text/plain": [
              "<Figure size 266.4x417.6 with 3 Axes>"
            ]
          },
          "metadata": {
            "tags": []
          }
        }
      ]
    },
    {
      "cell_type": "code",
      "metadata": {
        "id": "VOwYpSZtvIoi",
        "outputId": "73c19bc7-84f0-4931-dfcb-08bda8e0a030",
        "colab": {
          "base_uri": "https://localhost:8080/",
          "height": 545
        }
      },
      "source": [
        "output.rankings()"
      ],
      "execution_count": 69,
      "outputs": [
        {
          "output_type": "stream",
          "text": [
            "/usr/local/lib/python3.6/dist-packages/ecco/output.py:331: UserWarning: To copy construct from a tensor, it is recommended to use sourceTensor.clone().detach() or sourceTensor.clone().detach().requires_grad_(True), rather than torch.tensor(sourceTensor).\n",
            "  token_id = torch.tensor(self.token_ids[self.n_input_tokens + j])\n"
          ],
          "name": "stderr"
        },
        {
          "output_type": "display_data",
          "data": {
            "image/png": "[encoded data removed]",
            "text/plain": [
              "<Figure size 1368x417.6 with 3 Axes>"
            ]
          },
          "metadata": {
            "tags": []
          }
        }
      ]
    },
    {
      "cell_type": "code",
      "metadata": {
        "id": "Yk88jQnKpYyl",
        "outputId": "e08b5eae-1a3e-4e9f-b16e-e8cb8b210c77",
        "colab": {
          "base_uri": "https://localhost:8080/",
          "height": 85
        }
      },
      "source": [
        "output.saliency(style=\"detailed\")"
      ],
      "execution_count": 40,
      "outputs": [
        {
          "output_type": "display_data",
          "data": {
            "text/html": [
              "<html lang=\"en\">\n",
              "<script src=\"https://requirejs.org/docs/release/2.3.6/minified/require.js\"></script>\n",
              "<script>\n",
              "    var ecco_url = 'https://storage.googleapis.com/ml-intro/ecco/'\n",
              "    // var ecco_url = 'http://localhost:8000/ecco/'\n",
              "\n",
              "    if (window.ecco === undefined) window.ecco = {}\n",
              "\n",
              "    requirejs.config({\n",
              "        urlArgs: \"bust=\" + (new Date()).getTime(),\n",
              "        nodeRequire: require,\n",
              "        paths: {\n",
              "            d3: \"https://d3js.org/d3.v5.min\",\n",
              "            \"d3-array\": \"https://d3js.org/d3-array.v2.min\",\n",
              "            jquery: \"https://code.jquery.com/jquery-3.5.1.min\",\n",
              "            // oldEcco: ecco_url + 'ecco',\n",
              "            ecco: ecco_url + 'js/0.0.4/ecco-bundle.min',\n",
              "            xregexp: 'https://cdnjs.cloudflare.com/ajax/libs/xregexp/3.2.0/xregexp-all.min'\n",
              "        }\n",
              "    });\n",
              "    requirejs(['d3'],\n",
              "        function (d3) {\n",
              "            d3.select('#css').attr('href', ecco_url + 'html/styles.css')\n",
              "        })\n",
              "\n",
              "    console.log('Ecco initialize.')\n",
              "</script>\n",
              "\n",
              "<head>\n",
              "    <link id='css' rel=\"stylesheet\" type=\"text/css\">\n",
              "</head>\n"
            ],
            "text/plain": [
              "<IPython.core.display.HTML object>"
            ]
          },
          "metadata": {
            "tags": []
          }
        },
        {
          "output_type": "display_data",
          "data": {
            "text/html": [
              "<script>\n",
              "    // console.log('defining basic')\n",
              "    define('basic', ['d3'],\n",
              "        function (d3) {\n",
              "            return {\n",
              "                init: function (viz_id = null) {\n",
              "\n",
              "                    // console.log('basic init')\n",
              "                    if (viz_id == null){\n",
              "                        viz_id = \"viz_\" + Math.round(Math.random() * 10000000)\n",
              "                    }\n",
              "                    const div = d3.select('#basic').attr('id', viz_id),\n",
              "                        div_parent = d3.select('#' + viz_id).node().parentNode\n",
              "\n",
              "                    // Link to CSS file\n",
              "                    d3.select(div_parent).insert('link')\n",
              "                        .attr('rel', 'stylesheet')\n",
              "                        .attr('type', 'text/css')\n",
              "                        .attr('href', ecco_url + 'html/styles.css')\n",
              "\n",
              "                    return viz_id\n",
              "                }\n",
              "            }\n",
              "        }, function (err) {console.log(err);}\n",
              "    )\n",
              "    // console.log('after defining basic')\n",
              "\n",
              "</script>\n",
              "<div id=\"basic\"></div>\n"
            ],
            "text/plain": [
              "<IPython.core.display.HTML object>"
            ]
          },
          "metadata": {
            "tags": []
          }
        },
        {
          "output_type": "display_data",
          "data": {
            "application/javascript": [
              "\n",
              "             requirejs(['basic', 'ecco'], function(basic, ecco){\n",
              "                const viz_id = basic.init()\n",
              "                window.ecco[viz_id] = ecco.interactiveTokens(viz_id, {'tokens': [{'token': 'The', 'token_id': 464, 'type': 'input', 'value': '0.18317838', 'position': 0}, {'token': ' countries', 'token_id': 2678, 'type': 'input', 'value': '0.26268137', 'position': 1}, {'token': ' of', 'token_id': 286, 'type': 'input', 'value': '0.121450745', 'position': 2}, {'token': ' the', 'token_id': 262, 'type': 'input', 'value': '0.03143666', 'position': 3}, {'token': ' European', 'token_id': 3427, 'type': 'input', 'value': '0.19276692', 'position': 4}, {'token': ' Union', 'token_id': 4479, 'type': 'input', 'value': '0.20848587', 'position': 5}, {'token': ' and', 'token_id': 290, 'type': 'output', 'value': '0', 'position': 6}, {'token': ' the', 'token_id': 262, 'type': 'output', 'value': '0', 'position': 7}, {'token': ' United', 'token_id': 1578, 'type': 'output', 'value': '0', 'position': 8}, {'token': ' States', 'token_id': 1829, 'type': 'output', 'value': '0', 'position': 9}, {'token': ' have', 'token_id': 423, 'type': 'output', 'value': '0', 'position': 10}, {'token': ' made', 'token_id': 925, 'type': 'output', 'value': '0', 'position': 11}, {'token': ' significant', 'token_id': 2383, 'type': 'output', 'value': '0', 'position': 12}, {'token': ' efforts', 'token_id': 4040, 'type': 'output', 'value': '0', 'position': 13}, {'token': ' to', 'token_id': 284, 'type': 'output', 'value': '0', 'position': 14}, {'token': ' combat', 'token_id': 5249, 'type': 'output', 'value': '0', 'position': 15}, {'token': ' human', 'token_id': 1692, 'type': 'output', 'value': '0', 'position': 16}, {'token': ' trafficking', 'token_id': 14616, 'type': 'output', 'value': '0', 'position': 17}, {'token': ',', 'token_id': 11, 'type': 'output', 'value': '0', 'position': 18}, {'token': ' but', 'token_id': 475, 'type': 'output', 'value': '0', 'position': 19}, {'token': ' their', 'token_id': 511, 'type': 'output', 'value': '0', 'position': 20}, {'token': ' efforts', 'token_id': 4040, 'type': 'output', 'value': '0', 'position': 21}, {'token': ' have', 'token_id': 423, 'type': 'output', 'value': '0', 'position': 22}, {'token': ' failed', 'token_id': 4054, 'type': 'output', 'value': '0', 'position': 23}, {'token': ' to', 'token_id': 284, 'type': 'output', 'value': '0', 'position': 24}, {'token': ' stop', 'token_id': 2245, 'type': 'output', 'value': '0', 'position': 25}], 'attributions': [[0.1831783801317215, 0.26268136501312256, 0.1214507445693016, 0.03143665939569473, 0.1927669197320938, 0.20848587155342102], [0.09172556549310684, 0.1439008265733719, 0.11262107640504837, 0.03765450790524483, 0.20082464814186096, 0.22816962003707886, 0.18510372936725616], [0.08224323391914368, 0.11752607673406601, 0.1260472983121872, 0.03315754234790802, 0.22303059697151184, 0.2927691340446472, 0.06650873273611069, 0.058717381209135056], [0.0650455504655838, 0.11682264506816864, 0.09707117825746536, 0.04426206275820732, 0.17175331711769104, 0.16748246550559998, 0.050617240369319916, 0.029161883518099785, 0.2577836513519287], [0.1019485741853714, 0.20496392250061035, 0.1158730685710907, 0.047784868627786636, 0.09625347703695297, 0.08442491292953491, 0.07384461909532547, 0.017263930290937424, 0.08622340857982635, 0.171419158577919], [0.07662782073020935, 0.07095290720462799, 0.26105546951293945, 0.1071549654006958, 0.05788377299904823, 0.0589899979531765, 0.12189677357673645, 0.046212658286094666, 0.03124033473432064, 0.03721177205443382, 0.13077351450920105], [0.07800901681184769, 0.067571721971035, 0.22145356237888336, 0.16452789306640625, 0.04685712605714798, 0.04022248089313507, 0.10560299456119537, 0.04320912808179855, 0.030437640845775604, 0.039766352623701096, 0.06646234542131424, 0.0958796888589859], [0.05075459182262421, 0.0758548304438591, 0.18056444823741913, 0.1008404791355133, 0.051550183445215225, 0.04517940431833267, 0.12362651526927948, 0.050925180315971375, 0.0231875441968441, 0.029289137572050095, 0.0737893283367157, 0.03961086645722389, 0.15482741594314575], [0.0613660104572773, 0.08187096565961838, 0.1149635761976242, 0.07380799949169159, 0.04937751963734627, 0.04630449414253235, 0.04995809867978096, 0.02492629364132881, 0.038898766040802, 0.04267385974526405, 0.03786461800336838, 0.041299160569906235, 0.09281396865844727, 0.24387475848197937], [0.05545519292354584, 0.05002884939312935, 0.20111115276813507, 0.09709416329860687, 0.04569235071539879, 0.05164257809519768, 0.10181490331888199, 0.06001849099993706, 0.017390882596373558, 0.02358711138367653, 0.0593324638903141, 0.023068131878972054, 0.03955681249499321, 0.08920978754758835, 0.08499712496995926], [0.03974178433418274, 0.058130018413066864, 0.1438785344362259, 0.05159737914800644, 0.055768273770809174, 0.0429736003279686, 0.046570174396038055, 0.015922894701361656, 0.024634044617414474, 0.02298794314265251, 0.021103335544466972, 0.021379435434937477, 0.040199652314186096, 0.07185962051153183, 0.06447688490152359, 0.2787764370441437], [0.05093145743012428, 0.0752403512597084, 0.10783054679632187, 0.03284364566206932, 0.06121239438652992, 0.038978077471256256, 0.04598602280020714, 0.033358290791511536, 0.025555215775966644, 0.030677061527967453, 0.03041069768369198, 0.024575306102633476, 0.029793934896588326, 0.04519746080040932, 0.03966787829995155, 0.11991149932146072, 0.20783023536205292], [0.05240020155906677, 0.0595405213534832, 0.08200862258672714, 0.02189180813729763, 0.03718432039022446, 0.03452538326382637, 0.015925023704767227, 0.026019608601927757, 0.02398352138698101, 0.023394711315631866, 0.020569566637277603, 0.02147793397307396, 0.052370335906744, 0.08744543045759201, 0.02225012145936489, 0.08159451186656952, 0.07612642645835876, 0.26129183173179626], [0.042308367788791656, 0.06796903908252716, 0.11106879264116287, 0.04872434213757515, 0.03863397613167763, 0.03231912478804588, 0.03724472597241402, 0.01890050619840622, 0.019060583785176277, 0.024808092042803764, 0.017763279378414154, 0.01927122287452221, 0.032720353454351425, 0.048969756811857224, 0.02680804394185543, 0.058097079396247864, 0.06581680476665497, 0.18567322194576263, 0.10384264588356018], [0.05481386557221413, 0.0669950619339943, 0.12766499817371368, 0.07771323621273041, 0.040237706154584885, 0.03189468011260033, 0.04177119955420494, 0.019111301749944687, 0.026438230648636818, 0.030642477795481682, 0.022542068734765053, 0.019230302423238754, 0.03332788497209549, 0.0666908323764801, 0.01646173931658268, 0.03668464720249176, 0.041524678468704224, 0.12672723829746246, 0.025733565911650658, 0.09379424899816513], [0.05204677954316139, 0.051954422146081924, 0.1261853128671646, 0.08794669061899185, 0.03626542538404465, 0.03329962491989136, 0.0735320895910263, 0.04593033343553543, 0.01628613844513893, 0.02047995664179325, 0.03969860076904297, 0.020073406398296356, 0.026017693802714348, 0.04963779076933861, 0.017240077257156372, 0.029869714751839638, 0.0337788425385952, 0.08763471245765686, 0.01269496325403452, 0.02732049487531185, 0.11210694164037704], [0.051028843969106674, 0.04991856962442398, 0.12477971613407135, 0.04181673005223274, 0.0374351367354393, 0.029340500012040138, 0.036051902920007706, 0.022666756063699722, 0.020866982638835907, 0.023234117776155472, 0.02896718494594097, 0.020112529397010803, 0.03312011808156967, 0.0636289119720459, 0.020900754258036613, 0.043245743960142136, 0.023913457989692688, 0.06507914513349533, 0.021481508389115334, 0.028600767254829407, 0.039223965257406235, 0.17458662390708923], [0.03236209601163864, 0.03642457351088524, 0.12487117201089859, 0.06510187685489655, 0.02859983593225479, 0.02234378270804882, 0.06570200622081757, 0.04881468787789345, 0.016938025131821632, 0.016934068873524666, 0.05222837254405022, 0.02024812437593937, 0.029148781672120094, 0.06813134998083115, 0.042483873665332794, 0.030989617109298706, 0.020295709371566772, 0.05597235634922981, 0.02561873570084572, 0.024096108973026276, 0.023344792425632477, 0.06514626741409302, 0.08420383185148239], [0.037996865808963776, 0.04184391722083092, 0.017533380538225174, 0.02217983640730381, 0.027179818600416183, 0.021419696509838104, 0.015941571444272995, 0.013521630316972733, 0.017607495188713074, 0.01756427437067032, 0.01974714919924736, 0.0172320194542408, 0.02749970555305481, 0.07715722918510437, 0.020781829953193665, 0.045358944684267044, 0.030184445902705193, 0.09136402606964111, 0.03164156526327133, 0.022341929376125336, 0.02147919312119484, 0.06732286512851715, 0.03857152909040451, 0.25652918219566345], [0.02961861900985241, 0.02429395355284214, 0.13730064034461975, 0.08192728459835052, 0.02153635211288929, 0.015747765079140663, 0.07690344750881195, 0.058057304471731186, 0.010589943267405033, 0.010133923031389713, 0.04518895596265793, 0.013929251581430435, 0.016891490668058395, 0.025153327733278275, 0.042759038507938385, 0.03809553384780884, 0.03250861540436745, 0.08594303578138351, 0.011896386742591858, 0.018180308863520622, 0.020058583468198776, 0.04184209555387497, 0.01969224028289318, 0.060628410428762436, 0.061123400926589966]]})\n",
              "\n",
              "             }, function (err) {\n",
              "                console.log(err);\n",
              "            })"
            ],
            "text/plain": [
              "<IPython.core.display.Javascript object>"
            ]
          },
          "metadata": {
            "tags": []
          }
        }
      ]
    },
    {
      "cell_type": "code",
      "metadata": {
        "id": "jX5SGLU2Bq1X",
        "outputId": "03efe8a9-38f8-4de6-eb52-e126689d8d3a",
        "colab": {
          "base_uri": "https://localhost:8080/"
        }
      },
      "source": [
        "output.activations.shape"
      ],
      "execution_count": 71,
      "outputs": [
        {
          "output_type": "execute_result",
          "data": {
            "text/plain": [
              "(12, 3072, 25)"
            ]
          },
          "metadata": {
            "tags": []
          },
          "execution_count": 71
        }
      ]
    },
    {
      "cell_type": "code",
      "metadata": {
        "id": "P8ZnU2cTqHNG"
      },
      "source": [
        "nmf_1 = output.run_nmf(n_components=10)"
      ],
      "execution_count": 14,
      "outputs": []
    },
    {
      "cell_type": "code",
      "metadata": {
        "id": "rdIOyYQnqI_f",
        "outputId": "501b3831-3e2b-4f99-8a61-facf37ff7216",
        "colab": {
          "base_uri": "https://localhost:8080/",
          "height": 385
        }
      },
      "source": [
        "nmf_1.explore()"
      ],
      "execution_count": 15,
      "outputs": [
        {
          "output_type": "display_data",
          "data": {
            "text/html": [
              "<html lang=\"en\">\n",
              "<script src=\"https://requirejs.org/docs/release/2.3.6/minified/require.js\"></script>\n",
              "<script>\n",
              "    var ecco_url = 'https://storage.googleapis.com/ml-intro/ecco/'\n",
              "    // var ecco_url = 'http://localhost:8000/ecco/'\n",
              "\n",
              "    if (window.ecco === undefined) window.ecco = {}\n",
              "\n",
              "    requirejs.config({\n",
              "        urlArgs: \"bust=\" + (new Date()).getTime(),\n",
              "        nodeRequire: require,\n",
              "        paths: {\n",
              "            d3: \"https://d3js.org/d3.v5.min\",\n",
              "            \"d3-array\": \"https://d3js.org/d3-array.v2.min\",\n",
              "            jquery: \"https://code.jquery.com/jquery-3.5.1.min\",\n",
              "            // oldEcco: ecco_url + 'ecco',\n",
              "            ecco: ecco_url + 'js/0.0.4/ecco-bundle.min',\n",
              "            xregexp: 'https://cdnjs.cloudflare.com/ajax/libs/xregexp/3.2.0/xregexp-all.min'\n",
              "        }\n",
              "    });\n",
              "    requirejs(['d3'],\n",
              "        function (d3) {\n",
              "            d3.select('#css').attr('href', ecco_url + 'html/styles.css')\n",
              "        })\n",
              "\n",
              "    console.log('Ecco initialize.')\n",
              "</script>\n",
              "\n",
              "<head>\n",
              "    <link id='css' rel=\"stylesheet\" type=\"text/css\">\n",
              "</head>\n"
            ],
            "text/plain": [
              "<IPython.core.display.HTML object>"
            ]
          },
          "metadata": {
            "tags": []
          }
        },
        {
          "output_type": "display_data",
          "data": {
            "text/html": [
              "<script>\n",
              "    // console.log('defining basic')\n",
              "    define('basic', ['d3'],\n",
              "        function (d3) {\n",
              "            return {\n",
              "                init: function (viz_id = null) {\n",
              "\n",
              "                    // console.log('basic init')\n",
              "                    if (viz_id == null){\n",
              "                        viz_id = \"viz_\" + Math.round(Math.random() * 10000000)\n",
              "                    }\n",
              "                    const div = d3.select('#basic').attr('id', viz_id),\n",
              "                        div_parent = d3.select('#' + viz_id).node().parentNode\n",
              "\n",
              "                    // Link to CSS file\n",
              "                    d3.select(div_parent).insert('link')\n",
              "                        .attr('rel', 'stylesheet')\n",
              "                        .attr('type', 'text/css')\n",
              "                        .attr('href', ecco_url + 'html/styles.css')\n",
              "\n",
              "                    return viz_id\n",
              "                }\n",
              "            }\n",
              "        }, function (err) {console.log(err);}\n",
              "    )\n",
              "    // console.log('after defining basic')\n",
              "\n",
              "</script>\n",
              "<div id=\"basic\"></div>\n"
            ],
            "text/plain": [
              "<IPython.core.display.HTML object>"
            ]
          },
          "metadata": {
            "tags": []
          }
        },
        {
          "output_type": "display_data",
          "data": {
            "application/javascript": [
              "\n",
              "         requirejs(['basic', 'ecco'], function(basic, ecco){\n",
              "            const viz_id = basic.init()\n",
              "            ecco.interactiveTokensAndFactorSparklines(viz_id, {'tokens': [{'token': 'The', 'token_id': 464, 'type': 'input', 'position': 0}, {'token': ' countries', 'token_id': 2678, 'type': 'input', 'position': 1}, {'token': ' of', 'token_id': 286, 'type': 'input', 'position': 2}, {'token': ' the', 'token_id': 262, 'type': 'input', 'position': 3}, {'token': ' European', 'token_id': 3427, 'type': 'input', 'position': 4}, {'token': ' Union', 'token_id': 4479, 'type': 'input', 'position': 5}, {'token': ' are', 'token_id': 389, 'type': 'input', 'position': 6}, {'token': ':', 'token_id': 25, 'type': 'input', 'position': 7}, {'token': '\\n', 'token_id': 198, 'type': 'input', 'position': 8}, {'token': '1', 'token_id': 16, 'type': 'input', 'position': 9}, {'token': '.', 'token_id': 13, 'type': 'input', 'position': 10}, {'token': ' Austria', 'token_id': 17322, 'type': 'input', 'position': 11}, {'token': '\\n', 'token_id': 198, 'type': 'input', 'position': 12}, {'token': '2', 'token_id': 17, 'type': 'input', 'position': 13}, {'token': '.', 'token_id': 13, 'type': 'input', 'position': 14}, {'token': ' Belgium', 'token_id': 15664, 'type': 'input', 'position': 15}, {'token': '\\n', 'token_id': 198, 'type': 'input', 'position': 16}, {'token': '3', 'token_id': 18, 'type': 'input', 'position': 17}, {'token': '.', 'token_id': 13, 'type': 'input', 'position': 18}, {'token': ' Bulgaria', 'token_id': 27902, 'type': 'input', 'position': 19}, {'token': '\\n', 'token_id': 198, 'type': 'input', 'position': 20}, {'token': '4', 'token_id': 19, 'type': 'input', 'position': 21}, {'token': '.', 'token_id': 13, 'type': 'input', 'position': 22}, {'token': ' Croatia', 'token_id': 28975, 'type': 'output', 'position': 23}, {'token': '\\n', 'token_id': 198, 'type': 'output', 'position': 24}, {'token': '5', 'token_id': 20, 'type': 'output', 'position': 25}, {'token': '.', 'token_id': 13, 'type': 'output', 'position': 26}, {'token': ' Estonia', 'token_id': 30912, 'type': 'output', 'position': 27}, {'token': '\\n', 'token_id': 198, 'type': 'output', 'position': 28}, {'token': '6', 'token_id': 21, 'type': 'output', 'position': 29}, {'token': '.', 'token_id': 13, 'type': 'output', 'position': 30}, {'token': ' Finland', 'token_id': 17837, 'type': 'output', 'position': 31}, {'token': '\\n', 'token_id': 198, 'type': 'output', 'position': 32}, {'token': '7', 'token_id': 22, 'type': 'output', 'position': 33}, {'token': '.', 'token_id': 13, 'type': 'output', 'position': 34}, {'token': ' France', 'token_id': 4881, 'type': 'output', 'position': 35}, {'token': '\\n', 'token_id': 198, 'type': 'output', 'position': 36}, {'token': '8', 'token_id': 23, 'type': 'output', 'position': 37}, {'token': '.', 'token_id': 13, 'type': 'output', 'position': 38}, {'token': ' Germany', 'token_id': 4486, 'type': 'output', 'position': 39}, {'token': '\\n', 'token_id': 198, 'type': 'output', 'position': 40}, {'token': '9', 'token_id': 24, 'type': 'output', 'position': 41}, {'token': '.', 'token_id': 13, 'type': 'output', 'position': 42}], 'factors': [[[0.0, 0.0, 0.0, 0.0, 0.0, 0.0, 0.0, 0.024962523952126503, 0.918545663356781, 0.0, 0.0, 0.0, 0.2397386133670807, 0.00856880284845829, 0.0, 0.0, 0.009189427830278873, 0.0, 0.0, 0.0, 0.0012480602599680424, 0.0, 0.0, 0.0, 0.0, 0.0, 0.0, 0.0, 0.0, 0.0, 0.005679448135197163, 0.0, 0.0, 0.0, 0.0, 0.0, 0.0, 0.0, 0.0, 0.0, 0.0, 0.0, 0.01750604249536991], [0.0, 0.008543157950043678, 0.00595164205878973, 0.0, 0.0, 0.0, 0.016720738261938095, 0.0, 0.0, 0.0, 0.0, 0.0, 0.4297565817832947, 0.0, 0.0, 0.004996492061764002, 0.6981286406517029, 0.0, 0.0, 0.0, 0.7193570733070374, 0.003924081567674875, 0.0, 0.0, 0.004336701240390539, 0.7354724407196045, 0.0, 0.02797560580074787, 0.003177387872710824, 0.721025288105011, 0.0, 0.02575983665883541, 0.0027729684952646494, 0.7411953806877136, 0.0, 0.025527101010084152, 0.013965347781777382, 0.7314439415931702, 0.0, 0.012108001857995987, 0.03583474084734917, 0.7141357064247131, 0.0], [0.0, 0.015468849800527096, 0.011423652060329914, 0.0, 0.0, 0.0, 0.0, 0.0, 0.0, 0.8709369897842407, 0.03989696502685547, 0.0550977997481823, 0.06600163131952286, 0.2331952154636383, 0.0, 0.02298280969262123, 0.03680550679564476, 0.10096688568592072, 0.0, 0.00041603358113206923, 0.00811134185642004, 0.04363498091697693, 0.0, 0.0, 0.004288694821298122, 0.0, 0.04730558395385742, 0.0, 0.0, 0.0, 0.0, 0.0, 0.0, 0.0, 0.0, 0.0, 0.0, 0.0, 0.0, 0.004063933622092009, 0.0, 0.0, 0.0], [0.0, 0.0, 0.027491701766848564, 0.0, 0.0, 0.0, 0.2034803330898285, 0.7087587118148804, 0.0, 0.0, 0.7410486340522766, 0.03145584464073181, 0.014298026449978352, 0.0, 0.3238464891910553, 0.0, 0.0037306975573301315, 0.0, 0.13444693386554718, 0.0, 0.0, 0.0, 0.06961873918771744, 0.06961873918771744, 0.0, 0.0, 0.0, 0.03135808929800987, 0.0, 0.0, 0.0, 0.0, 0.0, 0.0, 0.0, 0.0, 0.00022516946773976088, 0.0, 0.0, 0.0, 0.0, 0.0, 0.0], [2.7303659915924072, 0.0, 0.0, 0.0023600442800670862, 0.0, 0.0, 0.0035709363874047995, 0.0, 0.0, 0.0, 0.0, 0.0, 0.0, 0.0, 0.0, 0.0, 0.0, 0.0, 0.0, 0.0, 0.0, 0.0, 0.0, 0.0, 0.0, 0.0, 0.0010079668136313558, 0.0, 0.0, 0.0, 0.0, 0.0, 0.0, 0.0, 0.0, 0.0, 0.00401374651119113, 4.65028642793186e-05, 0.0, 0.0008087516180239618, 0.004251152276992798, 0.0, 0.0006302799447439611], [0.0, 0.0, 0.0, 0.0, 0.0, 0.0, 0.0, 0.0, 0.0, 0.0, 0.027137471362948418, 0.0, 0.0, 0.0, 0.38498416543006897, 0.0, 0.0, 0.0, 0.5235105156898499, 0.0, 0.013103736564517021, 0.001876035239547491, 0.5545594692230225, 0.5545594692230225, 0.004430677741765976, 0.0035230282228440046, 0.00283437455072999, 0.5512443780899048, 0.00657794950529933, 0.014653375372290611, 0.010258940979838371, 0.5804377794265747, 0.005914110690355301, 0.004676139447838068, 0.0, 0.5729472041130066, 0.018201909959316254, 0.0026068922597914934, 0.0, 0.5450348258018494, 0.0003582296776585281, 0.0, 0.00011774878657888621], [0.0, 0.010156521573662758, 0.0, 0.0, 0.08618947863578796, 0.0, 0.0, 0.019748438149690628, 0.0, 0.0, 0.0, 0.4012015461921692, 0.0022485358640551567, 0.0, 0.0, 0.5090195536613464, 0.0, 0.0, 0.0, 0.5408565998077393, 0.0016705961897969246, 0.0, 0.0, 0.0, 0.5386050343513489, 0.001661680405959487, 0.010122833773493767, 7.673432264709845e-05, 0.549045979976654, 0.0, 0.001679927227087319, 0.002225010422989726, 0.5430669784545898, 0.0, 0.0018729926086962223, 0.0, 0.49155256152153015, 0.0, 0.0, 0.004414035473018885, 0.5000821352005005, 0.0, 0.012724721804261208], [0.0, 0.004444594960659742, 0.0022502669598907232, 0.0, 0.0, 0.0, 0.0035416637547314167, 0.0, 0.0, 0.0, 0.0, 0.0, 0.0, 0.3913353681564331, 0.0004712279769591987, 0.0, 0.0, 0.44132348895072937, 0.0, 0.0, 0.0, 0.4736403524875641, 0.000962999474722892, 0.000962999474722892, 0.0, 0.0, 0.45210009813308716, 0.0, 0.0019703542347997427, 0.0, 0.5013867020606995, 0.0, 0.0012014945968985558, 0.00116288335993886, 0.5055248737335205, 0.0, 0.0005341570358723402, 0.0, 0.5009743571281433, 2.141657932952512e-05, 0.0017404480604454875, 0.0, 0.4691982865333557], [0.0, 0.7816468477249146, 0.0, 0.0, 0.5236695408821106, 1.0393179655075073, 0.5534793734550476, 0.0, 0.0, 0.0, 0.0, 0.1642594039440155, 0.05778011307120323, 0.0, 0.0, 0.027240237221121788, 0.00461671594530344, 0.006914947647601366, 0.0, 0.011616405099630356, 0.0, 0.0, 0.0, 0.0, 0.0, 0.0, 0.0, 0.0, 0.0, 0.0, 0.0, 0.00039423146517947316, 0.0, 0.0, 0.0, 0.0, 0.0, 0.0, 0.0, 0.018176928162574768, 0.0, 0.0036651112604886293, 0.0], [0.0, 0.0482991524040699, 0.5065814256668091, 0.549701452255249, 0.1974138617515564, 0.0, 0.022385992109775543, 0.03549427166581154, 0.0, 0.0, 0.0, 0.0, 0.003143404610455036, 0.0, 0.0, 0.0, 0.0002680701145436615, 0.0, 0.0, 0.0, 0.0, 3.324690624140203e-05, 0.0, 0.0, 0.0016212408663704991, 0.0, 0.0, 0.0, 0.0, 0.0, 0.0, 0.0, 0.0, 0.0, 0.0, 0.0, 0.00024460049462504685, 0.0, 0.0, 0.007134441751986742, 0.0, 0.008478420786559582, 0.0018567161168903112]]]})\n",
              "         }, function (err) {\n",
              "            console.log(err);\n",
              "        })"
            ],
            "text/plain": [
              "<IPython.core.display.Javascript object>"
            ]
          },
          "metadata": {
            "tags": []
          }
        }
      ]
    },
    {
      "cell_type": "code",
      "metadata": {
        "colab": {
          "base_uri": "https://localhost:8080/",
          "height": 203,
          "referenced_widgets": [
            "8f1b1c98e2cf42388553ef4b643cea59",
            "f35b39486b044b8094dbe52383901225",
            "b72044d6df024790aafc5efd0c3fccc9",
            "6946f353a7f14e738e40184584cdbbc6",
            "1040143743ce40eab0c09b1ad9bded0b",
            "533bed2926924325b71e317e0fc80eae",
            "70528772a3df49ad8d6cc521c0222b88",
            "f05c99857b324986bb0d5838016deb7d",
            "83ea318ba2a34f8a8cd31a9e215439ab",
            "305cb51d85544989aa722eccb72fde2e",
            "7b4ecfa4b9034d5090da2edc83745cff",
            "404cda68e10745a8834cbf8d0d31873b",
            "755c7613e94b4ecbbf17f5346fdd26b1",
            "52549b1d78fc495692bf610baf6160a8",
            "31c6f13daea44b24a53057ab2e90c79b",
            "07be5e73072e4cb6a7f740dfdeb11aca"
          ]
        },
        "id": "AyFU0y2F8It4",
        "outputId": "24f0ce93-4132-4efb-fe81-cc249591bae1"
      },
      "source": [
        "import tensorflow as tf\n",
        "from transformers import TFGPT2LMHeadModel, GPT2Tokenizer\n",
        "\n",
        "tokenizer = GPT2Tokenizer.from_pretrained(\"gpt2\")\n",
        "\n",
        "# add the EOS token as PAD token to avoid warnings\n",
        "model = TFGPT2LMHeadModel.from_pretrained(\"gpt2\", pad_token_id=tokenizer.eos_token_id)"
      ],
      "execution_count": 4,
      "outputs": [
        {
          "output_type": "display_data",
          "data": {
            "application/vnd.jupyter.widget-view+json": {
              "model_id": "8f1b1c98e2cf42388553ef4b643cea59",
              "version_minor": 0,
              "version_major": 2
            },
            "text/plain": [
              "HBox(children=(FloatProgress(value=0.0, description='Downloading', max=665.0, style=ProgressStyle(description_…"
            ]
          },
          "metadata": {
            "tags": []
          }
        },
        {
          "output_type": "stream",
          "text": [
            "\n"
          ],
          "name": "stdout"
        },
        {
          "output_type": "display_data",
          "data": {
            "application/vnd.jupyter.widget-view+json": {
              "model_id": "83ea318ba2a34f8a8cd31a9e215439ab",
              "version_minor": 0,
              "version_major": 2
            },
            "text/plain": [
              "HBox(children=(FloatProgress(value=0.0, description='Downloading', max=497933648.0, style=ProgressStyle(descri…"
            ]
          },
          "metadata": {
            "tags": []
          }
        },
        {
          "output_type": "stream",
          "text": [
            "\n"
          ],
          "name": "stdout"
        },
        {
          "output_type": "stream",
          "text": [
            "All model checkpoint layers were used when initializing TFGPT2LMHeadModel.\n",
            "\n",
            "All the layers of TFGPT2LMHeadModel were initialized from the model checkpoint at gpt2.\n",
            "If your task is similar to the task the model of the checkpoint was trained on, you can already use TFGPT2LMHeadModel for predictions without further training.\n"
          ],
          "name": "stderr"
        }
      ]
    },
    {
      "cell_type": "markdown",
      "metadata": {
        "id": "wgL7z89B-tia"
      },
      "source": [
        "## Greedy"
      ]
    },
    {
      "cell_type": "code",
      "metadata": {
        "colab": {
          "base_uri": "https://localhost:8080/",
          "height": 113
        },
        "id": "E1cpb61V8fXB",
        "outputId": "1abc3b5b-9115-4efe-a3f7-db6a67a1663d"
      },
      "source": [
        "greedy_output = lm.generate('The orange is sweet', max_length=20, do_sample=False)"
      ],
      "execution_count": 80,
      "outputs": [
        {
          "output_type": "display_data",
          "data": {
            "text/html": [
              "<html lang=\"en\">\n",
              "<script src=\"https://requirejs.org/docs/release/2.3.6/minified/require.js\"></script>\n",
              "<script>\n",
              "    var ecco_url = 'https://storage.googleapis.com/ml-intro/ecco/'\n",
              "    // var ecco_url = 'http://localhost:8000/ecco/'\n",
              "\n",
              "    if (window.ecco === undefined) window.ecco = {}\n",
              "\n",
              "    requirejs.config({\n",
              "        urlArgs: \"bust=\" + (new Date()).getTime(),\n",
              "        nodeRequire: require,\n",
              "        paths: {\n",
              "            d3: \"https://d3js.org/d3.v5.min\",\n",
              "            \"d3-array\": \"https://d3js.org/d3-array.v2.min\",\n",
              "            jquery: \"https://code.jquery.com/jquery-3.5.1.min\",\n",
              "            // oldEcco: ecco_url + 'ecco',\n",
              "            ecco: ecco_url + 'js/0.0.4/ecco-bundle.min',\n",
              "            xregexp: 'https://cdnjs.cloudflare.com/ajax/libs/xregexp/3.2.0/xregexp-all.min'\n",
              "        }\n",
              "    });\n",
              "    requirejs(['d3'],\n",
              "        function (d3) {\n",
              "            d3.select('#css').attr('href', ecco_url + 'html/styles.css')\n",
              "        })\n",
              "\n",
              "    console.log('Ecco initialize.')\n",
              "</script>\n",
              "\n",
              "<head>\n",
              "    <link id='css' rel=\"stylesheet\" type=\"text/css\">\n",
              "</head>\n"
            ],
            "text/plain": [
              "<IPython.core.display.HTML object>"
            ]
          },
          "metadata": {
            "tags": []
          }
        },
        {
          "output_type": "display_data",
          "data": {
            "text/html": [
              "<script>\n",
              "    // console.log('defining basic')\n",
              "    define('basic', ['d3'],\n",
              "        function (d3) {\n",
              "            return {\n",
              "                init: function (viz_id = null) {\n",
              "\n",
              "                    // console.log('basic init')\n",
              "                    if (viz_id == null){\n",
              "                        viz_id = \"viz_\" + Math.round(Math.random() * 10000000)\n",
              "                    }\n",
              "                    const div = d3.select('#basic').attr('id', viz_id),\n",
              "                        div_parent = d3.select('#' + viz_id).node().parentNode\n",
              "\n",
              "                    // Link to CSS file\n",
              "                    d3.select(div_parent).insert('link')\n",
              "                        .attr('rel', 'stylesheet')\n",
              "                        .attr('type', 'text/css')\n",
              "                        .attr('href', ecco_url + 'html/styles.css')\n",
              "\n",
              "                    return viz_id\n",
              "                }\n",
              "            }\n",
              "        }, function (err) {console.log(err);}\n",
              "    )\n",
              "    // console.log('after defining basic')\n",
              "\n",
              "</script>\n",
              "<div id=\"basic\"></div>\n"
            ],
            "text/plain": [
              "<IPython.core.display.HTML object>"
            ]
          },
          "metadata": {
            "tags": []
          }
        },
        {
          "output_type": "display_data",
          "data": {
            "application/javascript": [
              "\n",
              "\n",
              "         requirejs( ['basic', 'ecco'], function(basic, ecco){\n",
              "            basic.init('viz_747503')\n",
              "\n",
              "            window.ecco['viz_747503'] = ecco.renderOutputSequence('viz_747503', {'tokens': [{'token': 'The', 'position': 0, 'token_id': 464, 'type': 'input'}, {'token': ' orange', 'position': 1, 'token_id': 10912, 'type': 'input'}, {'token': ' is', 'position': 2, 'token_id': 318, 'type': 'input'}, {'token': ' sweet', 'position': 3, 'token_id': 6029, 'type': 'input'}]})\n",
              "         }, function (err) {\n",
              "            console.log(err);\n",
              "        })\n"
            ],
            "text/plain": [
              "<IPython.core.display.Javascript object>"
            ]
          },
          "metadata": {
            "tags": []
          }
        },
        {
          "output_type": "display_data",
          "data": {
            "application/javascript": [
              "\n",
              "        // We don't really need these require scripts. But this is to avert\n",
              "        //this code from running before display_input_sequence which DOES require external files\n",
              "        requirejs(['basic', 'ecco'], function(basic, ecco){\n",
              "                console.log('addToken viz_id', 'viz_747503');\n",
              "                window.ecco['viz_747503'].addToken({\"token\": \" and\", \"token_id\": 290, \"position\": 4, \"type\": \"output\"})\n",
              "                window.ecco['viz_747503'].redraw()\n",
              "        })\n",
              "        "
            ],
            "text/plain": [
              "<IPython.core.display.Javascript object>"
            ]
          },
          "metadata": {
            "tags": []
          }
        },
        {
          "output_type": "display_data",
          "data": {
            "application/javascript": [
              "\n",
              "        // We don't really need these require scripts. But this is to avert\n",
              "        //this code from running before display_input_sequence which DOES require external files\n",
              "        requirejs(['basic', 'ecco'], function(basic, ecco){\n",
              "                console.log('addToken viz_id', 'viz_747503');\n",
              "                window.ecco['viz_747503'].addToken({\"token\": \" the\", \"token_id\": 262, \"position\": 5, \"type\": \"output\"})\n",
              "                window.ecco['viz_747503'].redraw()\n",
              "        })\n",
              "        "
            ],
            "text/plain": [
              "<IPython.core.display.Javascript object>"
            ]
          },
          "metadata": {
            "tags": []
          }
        },
        {
          "output_type": "display_data",
          "data": {
            "application/javascript": [
              "\n",
              "        // We don't really need these require scripts. But this is to avert\n",
              "        //this code from running before display_input_sequence which DOES require external files\n",
              "        requirejs(['basic', 'ecco'], function(basic, ecco){\n",
              "                console.log('addToken viz_id', 'viz_747503');\n",
              "                window.ecco['viz_747503'].addToken({\"token\": \" red\", \"token_id\": 2266, \"position\": 6, \"type\": \"output\"})\n",
              "                window.ecco['viz_747503'].redraw()\n",
              "        })\n",
              "        "
            ],
            "text/plain": [
              "<IPython.core.display.Javascript object>"
            ]
          },
          "metadata": {
            "tags": []
          }
        },
        {
          "output_type": "display_data",
          "data": {
            "application/javascript": [
              "\n",
              "        // We don't really need these require scripts. But this is to avert\n",
              "        //this code from running before display_input_sequence which DOES require external files\n",
              "        requirejs(['basic', 'ecco'], function(basic, ecco){\n",
              "                console.log('addToken viz_id', 'viz_747503');\n",
              "                window.ecco['viz_747503'].addToken({\"token\": \" is\", \"token_id\": 318, \"position\": 7, \"type\": \"output\"})\n",
              "                window.ecco['viz_747503'].redraw()\n",
              "        })\n",
              "        "
            ],
            "text/plain": [
              "<IPython.core.display.Javascript object>"
            ]
          },
          "metadata": {
            "tags": []
          }
        },
        {
          "output_type": "display_data",
          "data": {
            "application/javascript": [
              "\n",
              "        // We don't really need these require scripts. But this is to avert\n",
              "        //this code from running before display_input_sequence which DOES require external files\n",
              "        requirejs(['basic', 'ecco'], function(basic, ecco){\n",
              "                console.log('addToken viz_id', 'viz_747503');\n",
              "                window.ecco['viz_747503'].addToken({\"token\": \" bitter\", \"token_id\": 12922, \"position\": 8, \"type\": \"output\"})\n",
              "                window.ecco['viz_747503'].redraw()\n",
              "        })\n",
              "        "
            ],
            "text/plain": [
              "<IPython.core.display.Javascript object>"
            ]
          },
          "metadata": {
            "tags": []
          }
        },
        {
          "output_type": "display_data",
          "data": {
            "application/javascript": [
              "\n",
              "        // We don't really need these require scripts. But this is to avert\n",
              "        //this code from running before display_input_sequence which DOES require external files\n",
              "        requirejs(['basic', 'ecco'], function(basic, ecco){\n",
              "                console.log('addToken viz_id', 'viz_747503');\n",
              "                window.ecco['viz_747503'].addToken({\"token\": \".\", \"token_id\": 13, \"position\": 9, \"type\": \"output\"})\n",
              "                window.ecco['viz_747503'].redraw()\n",
              "        })\n",
              "        "
            ],
            "text/plain": [
              "<IPython.core.display.Javascript object>"
            ]
          },
          "metadata": {
            "tags": []
          }
        },
        {
          "output_type": "display_data",
          "data": {
            "application/javascript": [
              "\n",
              "        // We don't really need these require scripts. But this is to avert\n",
              "        //this code from running before display_input_sequence which DOES require external files\n",
              "        requirejs(['basic', 'ecco'], function(basic, ecco){\n",
              "                console.log('addToken viz_id', 'viz_747503');\n",
              "                window.ecco['viz_747503'].addToken({\"token\": \"\\n\", \"token_id\": 198, \"position\": 10, \"type\": \"output\"})\n",
              "                window.ecco['viz_747503'].redraw()\n",
              "        })\n",
              "        "
            ],
            "text/plain": [
              "<IPython.core.display.Javascript object>"
            ]
          },
          "metadata": {
            "tags": []
          }
        },
        {
          "output_type": "display_data",
          "data": {
            "application/javascript": [
              "\n",
              "        // We don't really need these require scripts. But this is to avert\n",
              "        //this code from running before display_input_sequence which DOES require external files\n",
              "        requirejs(['basic', 'ecco'], function(basic, ecco){\n",
              "                console.log('addToken viz_id', 'viz_747503');\n",
              "                window.ecco['viz_747503'].addToken({\"token\": \"\\n\", \"token_id\": 198, \"position\": 11, \"type\": \"output\"})\n",
              "                window.ecco['viz_747503'].redraw()\n",
              "        })\n",
              "        "
            ],
            "text/plain": [
              "<IPython.core.display.Javascript object>"
            ]
          },
          "metadata": {
            "tags": []
          }
        },
        {
          "output_type": "display_data",
          "data": {
            "application/javascript": [
              "\n",
              "        // We don't really need these require scripts. But this is to avert\n",
              "        //this code from running before display_input_sequence which DOES require external files\n",
              "        requirejs(['basic', 'ecco'], function(basic, ecco){\n",
              "                console.log('addToken viz_id', 'viz_747503');\n",
              "                window.ecco['viz_747503'].addToken({\"token\": \"The\", \"token_id\": 464, \"position\": 12, \"type\": \"output\"})\n",
              "                window.ecco['viz_747503'].redraw()\n",
              "        })\n",
              "        "
            ],
            "text/plain": [
              "<IPython.core.display.Javascript object>"
            ]
          },
          "metadata": {
            "tags": []
          }
        },
        {
          "output_type": "display_data",
          "data": {
            "application/javascript": [
              "\n",
              "        // We don't really need these require scripts. But this is to avert\n",
              "        //this code from running before display_input_sequence which DOES require external files\n",
              "        requirejs(['basic', 'ecco'], function(basic, ecco){\n",
              "                console.log('addToken viz_id', 'viz_747503');\n",
              "                window.ecco['viz_747503'].addToken({\"token\": \" orange\", \"token_id\": 10912, \"position\": 13, \"type\": \"output\"})\n",
              "                window.ecco['viz_747503'].redraw()\n",
              "        })\n",
              "        "
            ],
            "text/plain": [
              "<IPython.core.display.Javascript object>"
            ]
          },
          "metadata": {
            "tags": []
          }
        },
        {
          "output_type": "display_data",
          "data": {
            "application/javascript": [
              "\n",
              "        // We don't really need these require scripts. But this is to avert\n",
              "        //this code from running before display_input_sequence which DOES require external files\n",
              "        requirejs(['basic', 'ecco'], function(basic, ecco){\n",
              "                console.log('addToken viz_id', 'viz_747503');\n",
              "                window.ecco['viz_747503'].addToken({\"token\": \" is\", \"token_id\": 318, \"position\": 14, \"type\": \"output\"})\n",
              "                window.ecco['viz_747503'].redraw()\n",
              "        })\n",
              "        "
            ],
            "text/plain": [
              "<IPython.core.display.Javascript object>"
            ]
          },
          "metadata": {
            "tags": []
          }
        },
        {
          "output_type": "display_data",
          "data": {
            "application/javascript": [
              "\n",
              "        // We don't really need these require scripts. But this is to avert\n",
              "        //this code from running before display_input_sequence which DOES require external files\n",
              "        requirejs(['basic', 'ecco'], function(basic, ecco){\n",
              "                console.log('addToken viz_id', 'viz_747503');\n",
              "                window.ecco['viz_747503'].addToken({\"token\": \" sweet\", \"token_id\": 6029, \"position\": 15, \"type\": \"output\"})\n",
              "                window.ecco['viz_747503'].redraw()\n",
              "        })\n",
              "        "
            ],
            "text/plain": [
              "<IPython.core.display.Javascript object>"
            ]
          },
          "metadata": {
            "tags": []
          }
        },
        {
          "output_type": "display_data",
          "data": {
            "application/javascript": [
              "\n",
              "        // We don't really need these require scripts. But this is to avert\n",
              "        //this code from running before display_input_sequence which DOES require external files\n",
              "        requirejs(['basic', 'ecco'], function(basic, ecco){\n",
              "                console.log('addToken viz_id', 'viz_747503');\n",
              "                window.ecco['viz_747503'].addToken({\"token\": \" and\", \"token_id\": 290, \"position\": 16, \"type\": \"output\"})\n",
              "                window.ecco['viz_747503'].redraw()\n",
              "        })\n",
              "        "
            ],
            "text/plain": [
              "<IPython.core.display.Javascript object>"
            ]
          },
          "metadata": {
            "tags": []
          }
        },
        {
          "output_type": "display_data",
          "data": {
            "application/javascript": [
              "\n",
              "        // We don't really need these require scripts. But this is to avert\n",
              "        //this code from running before display_input_sequence which DOES require external files\n",
              "        requirejs(['basic', 'ecco'], function(basic, ecco){\n",
              "                console.log('addToken viz_id', 'viz_747503');\n",
              "                window.ecco['viz_747503'].addToken({\"token\": \" the\", \"token_id\": 262, \"position\": 17, \"type\": \"output\"})\n",
              "                window.ecco['viz_747503'].redraw()\n",
              "        })\n",
              "        "
            ],
            "text/plain": [
              "<IPython.core.display.Javascript object>"
            ]
          },
          "metadata": {
            "tags": []
          }
        },
        {
          "output_type": "display_data",
          "data": {
            "application/javascript": [
              "\n",
              "        // We don't really need these require scripts. But this is to avert\n",
              "        //this code from running before display_input_sequence which DOES require external files\n",
              "        requirejs(['basic', 'ecco'], function(basic, ecco){\n",
              "                console.log('addToken viz_id', 'viz_747503');\n",
              "                window.ecco['viz_747503'].addToken({\"token\": \" red\", \"token_id\": 2266, \"position\": 18, \"type\": \"output\"})\n",
              "                window.ecco['viz_747503'].redraw()\n",
              "        })\n",
              "        "
            ],
            "text/plain": [
              "<IPython.core.display.Javascript object>"
            ]
          },
          "metadata": {
            "tags": []
          }
        },
        {
          "output_type": "display_data",
          "data": {
            "application/javascript": [
              "\n",
              "        // We don't really need these require scripts. But this is to avert\n",
              "        //this code from running before display_input_sequence which DOES require external files\n",
              "        requirejs(['basic', 'ecco'], function(basic, ecco){\n",
              "                console.log('addToken viz_id', 'viz_747503');\n",
              "                window.ecco['viz_747503'].addToken({\"token\": \" is\", \"token_id\": 318, \"position\": 19, \"type\": \"output\"})\n",
              "                window.ecco['viz_747503'].redraw()\n",
              "        })\n",
              "        "
            ],
            "text/plain": [
              "<IPython.core.display.Javascript object>"
            ]
          },
          "metadata": {
            "tags": []
          }
        }
      ]
    },
    {
      "cell_type": "code",
      "metadata": {
        "id": "oiyLkgBLDKBw",
        "outputId": "8b0d317d-ba4e-476f-d987-fbf2fe3400d3",
        "colab": {
          "base_uri": "https://localhost:8080/",
          "height": 310
        }
      },
      "source": [
        "greedy_output.layer_predictions(position=5, topk=30, layer=11)"
      ],
      "execution_count": 76,
      "outputs": [
        {
          "output_type": "stream",
          "text": [
            "Predictions for position 5\n"
          ],
          "name": "stdout"
        },
        {
          "output_type": "display_data",
          "data": {
            "text/html": [
              "<html lang=\"en\">\n",
              "<script src=\"https://requirejs.org/docs/release/2.3.6/minified/require.js\"></script>\n",
              "<script>\n",
              "    var ecco_url = 'https://storage.googleapis.com/ml-intro/ecco/'\n",
              "    // var ecco_url = 'http://localhost:8000/ecco/'\n",
              "\n",
              "    if (window.ecco === undefined) window.ecco = {}\n",
              "\n",
              "    requirejs.config({\n",
              "        urlArgs: \"bust=\" + (new Date()).getTime(),\n",
              "        nodeRequire: require,\n",
              "        paths: {\n",
              "            d3: \"https://d3js.org/d3.v5.min\",\n",
              "            \"d3-array\": \"https://d3js.org/d3-array.v2.min\",\n",
              "            jquery: \"https://code.jquery.com/jquery-3.5.1.min\",\n",
              "            // oldEcco: ecco_url + 'ecco',\n",
              "            ecco: ecco_url + 'js/0.0.4/ecco-bundle.min',\n",
              "            xregexp: 'https://cdnjs.cloudflare.com/ajax/libs/xregexp/3.2.0/xregexp-all.min'\n",
              "        }\n",
              "    });\n",
              "    requirejs(['d3'],\n",
              "        function (d3) {\n",
              "            d3.select('#css').attr('href', ecco_url + 'html/styles.css')\n",
              "        })\n",
              "\n",
              "    console.log('Ecco initialize.')\n",
              "</script>\n",
              "\n",
              "<head>\n",
              "    <link id='css' rel=\"stylesheet\" type=\"text/css\">\n",
              "</head>\n"
            ],
            "text/plain": [
              "<IPython.core.display.HTML object>"
            ]
          },
          "metadata": {
            "tags": []
          }
        },
        {
          "output_type": "display_data",
          "data": {
            "text/html": [
              "<script>\n",
              "    // console.log('defining basic')\n",
              "    define('basic', ['d3'],\n",
              "        function (d3) {\n",
              "            return {\n",
              "                init: function (viz_id = null) {\n",
              "\n",
              "                    // console.log('basic init')\n",
              "                    if (viz_id == null){\n",
              "                        viz_id = \"viz_\" + Math.round(Math.random() * 10000000)\n",
              "                    }\n",
              "                    const div = d3.select('#basic').attr('id', viz_id),\n",
              "                        div_parent = d3.select('#' + viz_id).node().parentNode\n",
              "\n",
              "                    // Link to CSS file\n",
              "                    d3.select(div_parent).insert('link')\n",
              "                        .attr('rel', 'stylesheet')\n",
              "                        .attr('type', 'text/css')\n",
              "                        .attr('href', ecco_url + 'html/styles.css')\n",
              "\n",
              "                    return viz_id\n",
              "                }\n",
              "            }\n",
              "        }, function (err) {console.log(err);}\n",
              "    )\n",
              "    // console.log('after defining basic')\n",
              "\n",
              "</script>\n",
              "<div id=\"basic\"></div>\n"
            ],
            "text/plain": [
              "<IPython.core.display.HTML object>"
            ]
          },
          "metadata": {
            "tags": []
          }
        },
        {
          "output_type": "display_data",
          "data": {
            "application/javascript": [
              "\n",
              "         requirejs(['basic', 'ecco'], function(basic, ecco){\n",
              "            const viz_id = basic.init()\n",
              "\n",
              "\n",
              "            let pred = new ecco.LayerPredictions({\n",
              "                parentDiv: viz_id,\n",
              "                data:[[{\"token\": \" the\", \"prob\": \"0.1117126\", \"ranking\": 1, \"layer\": 11}, {\"token\": \" it\", \"prob\": \"0.033458628\", \"ranking\": 2, \"layer\": 11}, {\"token\": \" has\", \"prob\": \"0.029049626\", \"ranking\": 3, \"layer\": 11}, {\"token\": \" creamy\", \"prob\": \"0.026165381\", \"ranking\": 4, \"layer\": 11}, {\"token\": \" juicy\", \"prob\": \"0.024815636\", \"ranking\": 5, \"layer\": 11}, {\"token\": \" spicy\", \"prob\": \"0.015986646\", \"ranking\": 6, \"layer\": 11}, {\"token\": \" slightly\", \"prob\": \"0.0144348005\", \"ranking\": 7, \"layer\": 11}, {\"token\": \" fru\", \"prob\": \"0.0138762\", \"ranking\": 8, \"layer\": 11}, {\"token\": \" a\", \"prob\": \"0.012791939\", \"ranking\": 9, \"layer\": 11}, {\"token\": \" sweet\", \"prob\": \"0.012500286\", \"ranking\": 10, \"layer\": 11}, {\"token\": \" is\", \"prob\": \"0.012397427\", \"ranking\": 11, \"layer\": 11}, {\"token\": \" light\", \"prob\": \"0.011617729\", \"ranking\": 12, \"layer\": 11}, {\"token\": \" salty\", \"prob\": \"0.009114965\", \"ranking\": 13, \"layer\": 11}, {\"token\": \" moist\", \"prob\": \"0.008838031\", \"ranking\": 14, \"layer\": 11}, {\"token\": \" I\", \"prob\": \"0.008828193\", \"ranking\": 15, \"layer\": 11}, {\"token\": \" there\", \"prob\": \"0.00832616\", \"ranking\": 16, \"layer\": 11}, {\"token\": \" tart\", \"prob\": \"0.008178959\", \"ranking\": 17, \"layer\": 11}, {\"token\": \" not\", \"prob\": \"0.008056273\", \"ranking\": 18, \"layer\": 11}, {\"token\": \" crisp\", \"prob\": \"0.00790027\", \"ranking\": 19, \"layer\": 11}, {\"token\": \" fluffy\", \"prob\": \"0.0072503584\", \"ranking\": 20, \"layer\": 11}, {\"token\": \" smooth\", \"prob\": \"0.007217025\", \"ranking\": 21, \"layer\": 11}, {\"token\": \" very\", \"prob\": \"0.00708262\", \"ranking\": 22, \"layer\": 11}, {\"token\": \" soft\", \"prob\": \"0.006525911\", \"ranking\": 23, \"layer\": 11}, {\"token\": \" leaves\", \"prob\": \"0.0061968304\", \"ranking\": 24, \"layer\": 11}, {\"token\": \" tang\", \"prob\": \"0.005810601\", \"ranking\": 25, \"layer\": 11}, {\"token\": \" bright\", \"prob\": \"0.0057747154\", \"ranking\": 26, \"layer\": 11}, {\"token\": \" che\", \"prob\": \"0.0056425366\", \"ranking\": 27, \"layer\": 11}, {\"token\": \" you\", \"prob\": \"0.0056039253\", \"ranking\": 28, \"layer\": 11}, {\"token\": \" delicious\", \"prob\": \"0.005374707\", \"ranking\": 29, \"layer\": 11}, {\"token\": \" orange\", \"prob\": \"0.0051547065\", \"ranking\": 30, \"layer\": 11}]]\n",
              "            })\n",
              "            pred.init()\n",
              "         }, function (err) {\n",
              "            console.log(viz_id, err);\n",
              "        })"
            ],
            "text/plain": [
              "<IPython.core.display.Javascript object>"
            ]
          },
          "metadata": {
            "tags": []
          }
        }
      ]
    },
    {
      "cell_type": "markdown",
      "metadata": {
        "id": "i3bzAxVYD2fi"
      },
      "source": [
        "## Beam search"
      ]
    },
    {
      "cell_type": "code",
      "metadata": {
        "colab": {
          "base_uri": "https://localhost:8080/"
        },
        "id": "ywHHPHrKD1sm",
        "outputId": "1fb59fab-1cc2-4c07-b34f-bee348e57ff2"
      },
      "source": [
        "beam_output = model.generate(\n",
        "    input_ids, \n",
        "    max_length=50, \n",
        "    num_beams=5, \n",
        "    early_stopping=True\n",
        ")\n",
        "\n",
        "print(\"Output:\\n\" + 100 * '-')\n",
        "print(tokenizer.decode(beam_output[0], skip_special_tokens=True))"
      ],
      "execution_count": null,
      "outputs": [
        {
          "output_type": "stream",
          "text": [
            "Output:\n",
            "----------------------------------------------------------------------------------------------------\n",
            "The orange is sweet, the red is bitter, and the green is bitter.\n",
            "\n",
            "The orange is sweet, the red is bitter, and the green is bitter.\n",
            "\n",
            "The orange is sweet, the red is bitter, and the green is\n"
          ],
          "name": "stdout"
        }
      ]
    },
    {
      "cell_type": "markdown",
      "metadata": {
        "id": "8D3N2u67ENfl"
      },
      "source": [
        "It's like talking to you in circles, you always say the same thing!!"
      ]
    },
    {
      "cell_type": "code",
      "metadata": {
        "colab": {
          "base_uri": "https://localhost:8080/"
        },
        "id": "ZVgEAzufD4lS",
        "outputId": "1ee27ca6-2fae-49c6-dfa2-d241845df530"
      },
      "source": [
        "beam_output = model.generate(\n",
        "    input_ids, \n",
        "    max_length=50, \n",
        "    num_beams=5, \n",
        "    no_repeat_ngram_size=2, \n",
        "    early_stopping=True\n",
        ")\n",
        "\n",
        "print(\"Output:\\n\" + 100 * '-')\n",
        "print(tokenizer.decode(beam_output[0], skip_special_tokens=True))"
      ],
      "execution_count": null,
      "outputs": [
        {
          "output_type": "stream",
          "text": [
            "Output:\n",
            "----------------------------------------------------------------------------------------------------\n",
            "The orange is sweet, the red is sour, and the green is bitter.\n",
            "\n",
            "I'm not sure if this is a good idea, or if it's just me, but I don't think I've ever heard of it before. I\n"
          ],
          "name": "stdout"
        }
      ]
    },
    {
      "cell_type": "markdown",
      "metadata": {
        "id": "9MtJD2s5iEBm"
      },
      "source": [
        "# Sampling"
      ]
    },
    {
      "cell_type": "code",
      "metadata": {
        "id": "MUmY8VlwiCo8",
        "colab": {
          "base_uri": "https://localhost:8080/",
          "height": 81
        },
        "outputId": "3342e361-213f-4e4a-d27f-62ff17694a04"
      },
      "source": [
        "sampling = lm.generate('The orange is sweet', max_length=20, do_sample=True, top_k=0)"
      ],
      "execution_count": 83,
      "outputs": [
        {
          "output_type": "display_data",
          "data": {
            "text/html": [
              "<html lang=\"en\">\n",
              "<script src=\"https://requirejs.org/docs/release/2.3.6/minified/require.js\"></script>\n",
              "<script>\n",
              "    var ecco_url = 'https://storage.googleapis.com/ml-intro/ecco/'\n",
              "    // var ecco_url = 'http://localhost:8000/ecco/'\n",
              "\n",
              "    if (window.ecco === undefined) window.ecco = {}\n",
              "\n",
              "    requirejs.config({\n",
              "        urlArgs: \"bust=\" + (new Date()).getTime(),\n",
              "        nodeRequire: require,\n",
              "        paths: {\n",
              "            d3: \"https://d3js.org/d3.v5.min\",\n",
              "            \"d3-array\": \"https://d3js.org/d3-array.v2.min\",\n",
              "            jquery: \"https://code.jquery.com/jquery-3.5.1.min\",\n",
              "            // oldEcco: ecco_url + 'ecco',\n",
              "            ecco: ecco_url + 'js/0.0.4/ecco-bundle.min',\n",
              "            xregexp: 'https://cdnjs.cloudflare.com/ajax/libs/xregexp/3.2.0/xregexp-all.min'\n",
              "        }\n",
              "    });\n",
              "    requirejs(['d3'],\n",
              "        function (d3) {\n",
              "            d3.select('#css').attr('href', ecco_url + 'html/styles.css')\n",
              "        })\n",
              "\n",
              "    console.log('Ecco initialize.')\n",
              "</script>\n",
              "\n",
              "<head>\n",
              "    <link id='css' rel=\"stylesheet\" type=\"text/css\">\n",
              "</head>\n"
            ],
            "text/plain": [
              "<IPython.core.display.HTML object>"
            ]
          },
          "metadata": {
            "tags": []
          }
        },
        {
          "output_type": "display_data",
          "data": {
            "text/html": [
              "<script>\n",
              "    // console.log('defining basic')\n",
              "    define('basic', ['d3'],\n",
              "        function (d3) {\n",
              "            return {\n",
              "                init: function (viz_id = null) {\n",
              "\n",
              "                    // console.log('basic init')\n",
              "                    if (viz_id == null){\n",
              "                        viz_id = \"viz_\" + Math.round(Math.random() * 10000000)\n",
              "                    }\n",
              "                    const div = d3.select('#basic').attr('id', viz_id),\n",
              "                        div_parent = d3.select('#' + viz_id).node().parentNode\n",
              "\n",
              "                    // Link to CSS file\n",
              "                    d3.select(div_parent).insert('link')\n",
              "                        .attr('rel', 'stylesheet')\n",
              "                        .attr('type', 'text/css')\n",
              "                        .attr('href', ecco_url + 'html/styles.css')\n",
              "\n",
              "                    return viz_id\n",
              "                }\n",
              "            }\n",
              "        }, function (err) {console.log(err);}\n",
              "    )\n",
              "    // console.log('after defining basic')\n",
              "\n",
              "</script>\n",
              "<div id=\"basic\"></div>\n"
            ],
            "text/plain": [
              "<IPython.core.display.HTML object>"
            ]
          },
          "metadata": {
            "tags": []
          }
        },
        {
          "output_type": "display_data",
          "data": {
            "application/javascript": [
              "\n",
              "\n",
              "         requirejs( ['basic', 'ecco'], function(basic, ecco){\n",
              "            basic.init('viz_475208')\n",
              "\n",
              "            window.ecco['viz_475208'] = ecco.renderOutputSequence('viz_475208', {'tokens': [{'token': 'The', 'position': 0, 'token_id': 464, 'type': 'input'}, {'token': ' orange', 'position': 1, 'token_id': 10912, 'type': 'input'}, {'token': ' is', 'position': 2, 'token_id': 318, 'type': 'input'}, {'token': ' sweet', 'position': 3, 'token_id': 6029, 'type': 'input'}]})\n",
              "         }, function (err) {\n",
              "            console.log(err);\n",
              "        })\n"
            ],
            "text/plain": [
              "<IPython.core.display.Javascript object>"
            ]
          },
          "metadata": {
            "tags": []
          }
        },
        {
          "output_type": "display_data",
          "data": {
            "application/javascript": [
              "\n",
              "        // We don't really need these require scripts. But this is to avert\n",
              "        //this code from running before display_input_sequence which DOES require external files\n",
              "        requirejs(['basic', 'ecco'], function(basic, ecco){\n",
              "                console.log('addToken viz_id', 'viz_475208');\n",
              "                window.ecco['viz_475208'].addToken({\"token\": \",\", \"token_id\": 11, \"position\": 4, \"type\": \"output\"})\n",
              "                window.ecco['viz_475208'].redraw()\n",
              "        })\n",
              "        "
            ],
            "text/plain": [
              "<IPython.core.display.Javascript object>"
            ]
          },
          "metadata": {
            "tags": []
          }
        },
        {
          "output_type": "display_data",
          "data": {
            "application/javascript": [
              "\n",
              "        // We don't really need these require scripts. But this is to avert\n",
              "        //this code from running before display_input_sequence which DOES require external files\n",
              "        requirejs(['basic', 'ecco'], function(basic, ecco){\n",
              "                console.log('addToken viz_id', 'viz_475208');\n",
              "                window.ecco['viz_475208'].addToken({\"token\": \" looking\", \"token_id\": 2045, \"position\": 5, \"type\": \"output\"})\n",
              "                window.ecco['viz_475208'].redraw()\n",
              "        })\n",
              "        "
            ],
            "text/plain": [
              "<IPython.core.display.Javascript object>"
            ]
          },
          "metadata": {
            "tags": []
          }
        },
        {
          "output_type": "display_data",
          "data": {
            "application/javascript": [
              "\n",
              "        // We don't really need these require scripts. But this is to avert\n",
              "        //this code from running before display_input_sequence which DOES require external files\n",
              "        requirejs(['basic', 'ecco'], function(basic, ecco){\n",
              "                console.log('addToken viz_id', 'viz_475208');\n",
              "                window.ecco['viz_475208'].addToken({\"token\": \" ling\", \"token_id\": 18459, \"position\": 6, \"type\": \"output\"})\n",
              "                window.ecco['viz_475208'].redraw()\n",
              "        })\n",
              "        "
            ],
            "text/plain": [
              "<IPython.core.display.Javascript object>"
            ]
          },
          "metadata": {
            "tags": []
          }
        },
        {
          "output_type": "display_data",
          "data": {
            "application/javascript": [
              "\n",
              "        // We don't really need these require scripts. But this is to avert\n",
              "        //this code from running before display_input_sequence which DOES require external files\n",
              "        requirejs(['basic', 'ecco'], function(basic, ecco){\n",
              "                console.log('addToken viz_id', 'viz_475208');\n",
              "                window.ecco['viz_475208'].addToken({\"token\": \"ered\", \"token_id\": 1068, \"position\": 7, \"type\": \"output\"})\n",
              "                window.ecco['viz_475208'].redraw()\n",
              "        })\n",
              "        "
            ],
            "text/plain": [
              "<IPython.core.display.Javascript object>"
            ]
          },
          "metadata": {
            "tags": []
          }
        },
        {
          "output_type": "display_data",
          "data": {
            "application/javascript": [
              "\n",
              "        // We don't really need these require scripts. But this is to avert\n",
              "        //this code from running before display_input_sequence which DOES require external files\n",
              "        requirejs(['basic', 'ecco'], function(basic, ecco){\n",
              "                console.log('addToken viz_id', 'viz_475208');\n",
              "                window.ecco['viz_475208'].addToken({\"token\": \" yielding\", \"token_id\": 39127, \"position\": 8, \"type\": \"output\"})\n",
              "                window.ecco['viz_475208'].redraw()\n",
              "        })\n",
              "        "
            ],
            "text/plain": [
              "<IPython.core.display.Javascript object>"
            ]
          },
          "metadata": {
            "tags": []
          }
        },
        {
          "output_type": "display_data",
          "data": {
            "application/javascript": [
              "\n",
              "        // We don't really need these require scripts. But this is to avert\n",
              "        //this code from running before display_input_sequence which DOES require external files\n",
              "        requirejs(['basic', 'ecco'], function(basic, ecco){\n",
              "                console.log('addToken viz_id', 'viz_475208');\n",
              "                window.ecco['viz_475208'].addToken({\"token\": \" bitterness\", \"token_id\": 35987, \"position\": 9, \"type\": \"output\"})\n",
              "                window.ecco['viz_475208'].redraw()\n",
              "        })\n",
              "        "
            ],
            "text/plain": [
              "<IPython.core.display.Javascript object>"
            ]
          },
          "metadata": {
            "tags": []
          }
        },
        {
          "output_type": "display_data",
          "data": {
            "application/javascript": [
              "\n",
              "        // We don't really need these require scripts. But this is to avert\n",
              "        //this code from running before display_input_sequence which DOES require external files\n",
              "        requirejs(['basic', 'ecco'], function(basic, ecco){\n",
              "                console.log('addToken viz_id', 'viz_475208');\n",
              "                window.ecco['viz_475208'].addToken({\"token\": \" from\", \"token_id\": 422, \"position\": 10, \"type\": \"output\"})\n",
              "                window.ecco['viz_475208'].redraw()\n",
              "        })\n",
              "        "
            ],
            "text/plain": [
              "<IPython.core.display.Javascript object>"
            ]
          },
          "metadata": {
            "tags": []
          }
        },
        {
          "output_type": "display_data",
          "data": {
            "application/javascript": [
              "\n",
              "        // We don't really need these require scripts. But this is to avert\n",
              "        //this code from running before display_input_sequence which DOES require external files\n",
              "        requirejs(['basic', 'ecco'], function(basic, ecco){\n",
              "                console.log('addToken viz_id', 'viz_475208');\n",
              "                window.ecco['viz_475208'].addToken({\"token\": \" sticky\", \"token_id\": 23408, \"position\": 11, \"type\": \"output\"})\n",
              "                window.ecco['viz_475208'].redraw()\n",
              "        })\n",
              "        "
            ],
            "text/plain": [
              "<IPython.core.display.Javascript object>"
            ]
          },
          "metadata": {
            "tags": []
          }
        },
        {
          "output_type": "display_data",
          "data": {
            "application/javascript": [
              "\n",
              "        // We don't really need these require scripts. But this is to avert\n",
              "        //this code from running before display_input_sequence which DOES require external files\n",
              "        requirejs(['basic', 'ecco'], function(basic, ecco){\n",
              "                console.log('addToken viz_id', 'viz_475208');\n",
              "                window.ecco['viz_475208'].addToken({\"token\": \" substances\", \"token_id\": 15938, \"position\": 12, \"type\": \"output\"})\n",
              "                window.ecco['viz_475208'].redraw()\n",
              "        })\n",
              "        "
            ],
            "text/plain": [
              "<IPython.core.display.Javascript object>"
            ]
          },
          "metadata": {
            "tags": []
          }
        },
        {
          "output_type": "display_data",
          "data": {
            "application/javascript": [
              "\n",
              "        // We don't really need these require scripts. But this is to avert\n",
              "        //this code from running before display_input_sequence which DOES require external files\n",
              "        requirejs(['basic', 'ecco'], function(basic, ecco){\n",
              "                console.log('addToken viz_id', 'viz_475208');\n",
              "                window.ecco['viz_475208'].addToken({\"token\": \" mixed\", \"token_id\": 7668, \"position\": 13, \"type\": \"output\"})\n",
              "                window.ecco['viz_475208'].redraw()\n",
              "        })\n",
              "        "
            ],
            "text/plain": [
              "<IPython.core.display.Javascript object>"
            ]
          },
          "metadata": {
            "tags": []
          }
        },
        {
          "output_type": "display_data",
          "data": {
            "application/javascript": [
              "\n",
              "        // We don't really need these require scripts. But this is to avert\n",
              "        //this code from running before display_input_sequence which DOES require external files\n",
              "        requirejs(['basic', 'ecco'], function(basic, ecco){\n",
              "                console.log('addToken viz_id', 'viz_475208');\n",
              "                window.ecco['viz_475208'].addToken({\"token\": \" into\", \"token_id\": 656, \"position\": 14, \"type\": \"output\"})\n",
              "                window.ecco['viz_475208'].redraw()\n",
              "        })\n",
              "        "
            ],
            "text/plain": [
              "<IPython.core.display.Javascript object>"
            ]
          },
          "metadata": {
            "tags": []
          }
        },
        {
          "output_type": "display_data",
          "data": {
            "application/javascript": [
              "\n",
              "        // We don't really need these require scripts. But this is to avert\n",
              "        //this code from running before display_input_sequence which DOES require external files\n",
              "        requirejs(['basic', 'ecco'], function(basic, ecco){\n",
              "                console.log('addToken viz_id', 'viz_475208');\n",
              "                window.ecco['viz_475208'].addToken({\"token\": \" the\", \"token_id\": 262, \"position\": 15, \"type\": \"output\"})\n",
              "                window.ecco['viz_475208'].redraw()\n",
              "        })\n",
              "        "
            ],
            "text/plain": [
              "<IPython.core.display.Javascript object>"
            ]
          },
          "metadata": {
            "tags": []
          }
        },
        {
          "output_type": "display_data",
          "data": {
            "application/javascript": [
              "\n",
              "        // We don't really need these require scripts. But this is to avert\n",
              "        //this code from running before display_input_sequence which DOES require external files\n",
              "        requirejs(['basic', 'ecco'], function(basic, ecco){\n",
              "                console.log('addToken viz_id', 'viz_475208');\n",
              "                window.ecco['viz_475208'].addToken({\"token\": \" burning\", \"token_id\": 9482, \"position\": 16, \"type\": \"output\"})\n",
              "                window.ecco['viz_475208'].redraw()\n",
              "        })\n",
              "        "
            ],
            "text/plain": [
              "<IPython.core.display.Javascript object>"
            ]
          },
          "metadata": {
            "tags": []
          }
        },
        {
          "output_type": "display_data",
          "data": {
            "application/javascript": [
              "\n",
              "        // We don't really need these require scripts. But this is to avert\n",
              "        //this code from running before display_input_sequence which DOES require external files\n",
              "        requirejs(['basic', 'ecco'], function(basic, ecco){\n",
              "                console.log('addToken viz_id', 'viz_475208');\n",
              "                window.ecco['viz_475208'].addToken({\"token\": \" sauce\", \"token_id\": 10746, \"position\": 17, \"type\": \"output\"})\n",
              "                window.ecco['viz_475208'].redraw()\n",
              "        })\n",
              "        "
            ],
            "text/plain": [
              "<IPython.core.display.Javascript object>"
            ]
          },
          "metadata": {
            "tags": []
          }
        },
        {
          "output_type": "display_data",
          "data": {
            "application/javascript": [
              "\n",
              "        // We don't really need these require scripts. But this is to avert\n",
              "        //this code from running before display_input_sequence which DOES require external files\n",
              "        requirejs(['basic', 'ecco'], function(basic, ecco){\n",
              "                console.log('addToken viz_id', 'viz_475208');\n",
              "                window.ecco['viz_475208'].addToken({\"token\": \".\", \"token_id\": 13, \"position\": 18, \"type\": \"output\"})\n",
              "                window.ecco['viz_475208'].redraw()\n",
              "        })\n",
              "        "
            ],
            "text/plain": [
              "<IPython.core.display.Javascript object>"
            ]
          },
          "metadata": {
            "tags": []
          }
        },
        {
          "output_type": "display_data",
          "data": {
            "application/javascript": [
              "\n",
              "        // We don't really need these require scripts. But this is to avert\n",
              "        //this code from running before display_input_sequence which DOES require external files\n",
              "        requirejs(['basic', 'ecco'], function(basic, ecco){\n",
              "                console.log('addToken viz_id', 'viz_475208');\n",
              "                window.ecco['viz_475208'].addToken({\"token\": \" I\", \"token_id\": 314, \"position\": 19, \"type\": \"output\"})\n",
              "                window.ecco['viz_475208'].redraw()\n",
              "        })\n",
              "        "
            ],
            "text/plain": [
              "<IPython.core.display.Javascript object>"
            ]
          },
          "metadata": {
            "tags": []
          }
        }
      ]
    },
    {
      "cell_type": "code",
      "metadata": {
        "id": "lTsRMhQaGInH",
        "outputId": "c02afa6f-6378-4370-cca9-14931d330923",
        "colab": {
          "base_uri": "https://localhost:8080/",
          "height": 310
        }
      },
      "source": [
        "sampling.layer_predictions(position=4, topk=30, layer=11)"
      ],
      "execution_count": 87,
      "outputs": [
        {
          "output_type": "stream",
          "text": [
            "Predictions for position 4\n"
          ],
          "name": "stdout"
        },
        {
          "output_type": "display_data",
          "data": {
            "text/html": [
              "<html lang=\"en\">\n",
              "<script src=\"https://requirejs.org/docs/release/2.3.6/minified/require.js\"></script>\n",
              "<script>\n",
              "    var ecco_url = 'https://storage.googleapis.com/ml-intro/ecco/'\n",
              "    // var ecco_url = 'http://localhost:8000/ecco/'\n",
              "\n",
              "    if (window.ecco === undefined) window.ecco = {}\n",
              "\n",
              "    requirejs.config({\n",
              "        urlArgs: \"bust=\" + (new Date()).getTime(),\n",
              "        nodeRequire: require,\n",
              "        paths: {\n",
              "            d3: \"https://d3js.org/d3.v5.min\",\n",
              "            \"d3-array\": \"https://d3js.org/d3-array.v2.min\",\n",
              "            jquery: \"https://code.jquery.com/jquery-3.5.1.min\",\n",
              "            // oldEcco: ecco_url + 'ecco',\n",
              "            ecco: ecco_url + 'js/0.0.4/ecco-bundle.min',\n",
              "            xregexp: 'https://cdnjs.cloudflare.com/ajax/libs/xregexp/3.2.0/xregexp-all.min'\n",
              "        }\n",
              "    });\n",
              "    requirejs(['d3'],\n",
              "        function (d3) {\n",
              "            d3.select('#css').attr('href', ecco_url + 'html/styles.css')\n",
              "        })\n",
              "\n",
              "    console.log('Ecco initialize.')\n",
              "</script>\n",
              "\n",
              "<head>\n",
              "    <link id='css' rel=\"stylesheet\" type=\"text/css\">\n",
              "</head>\n"
            ],
            "text/plain": [
              "<IPython.core.display.HTML object>"
            ]
          },
          "metadata": {
            "tags": []
          }
        },
        {
          "output_type": "display_data",
          "data": {
            "text/html": [
              "<script>\n",
              "    // console.log('defining basic')\n",
              "    define('basic', ['d3'],\n",
              "        function (d3) {\n",
              "            return {\n",
              "                init: function (viz_id = null) {\n",
              "\n",
              "                    // console.log('basic init')\n",
              "                    if (viz_id == null){\n",
              "                        viz_id = \"viz_\" + Math.round(Math.random() * 10000000)\n",
              "                    }\n",
              "                    const div = d3.select('#basic').attr('id', viz_id),\n",
              "                        div_parent = d3.select('#' + viz_id).node().parentNode\n",
              "\n",
              "                    // Link to CSS file\n",
              "                    d3.select(div_parent).insert('link')\n",
              "                        .attr('rel', 'stylesheet')\n",
              "                        .attr('type', 'text/css')\n",
              "                        .attr('href', ecco_url + 'html/styles.css')\n",
              "\n",
              "                    return viz_id\n",
              "                }\n",
              "            }\n",
              "        }, function (err) {console.log(err);}\n",
              "    )\n",
              "    // console.log('after defining basic')\n",
              "\n",
              "</script>\n",
              "<div id=\"basic\"></div>\n"
            ],
            "text/plain": [
              "<IPython.core.display.HTML object>"
            ]
          },
          "metadata": {
            "tags": []
          }
        },
        {
          "output_type": "display_data",
          "data": {
            "application/javascript": [
              "\n",
              "         requirejs(['basic', 'ecco'], function(basic, ecco){\n",
              "            const viz_id = basic.init()\n",
              "\n",
              "\n",
              "            let pred = new ecco.LayerPredictions({\n",
              "                parentDiv: viz_id,\n",
              "                data:[[{\"token\": \" and\", \"prob\": \"0.38990337\", \"ranking\": 1, \"layer\": 11}, {\"token\": \",\", \"prob\": \"0.26805818\", \"ranking\": 2, \"layer\": 11}, {\"token\": \".\", \"prob\": \"0.061412256\", \"ranking\": 3, \"layer\": 11}, {\"token\": \" but\", \"prob\": \"0.03401899\", \"ranking\": 4, \"layer\": 11}, {\"token\": \" with\", \"prob\": \"0.023715584\", \"ranking\": 5, \"layer\": 11}, {\"token\": \"ened\", \"prob\": \"0.017076222\", \"ranking\": 6, \"layer\": 11}, {\"token\": \" in\", \"prob\": \"0.012201126\", \"ranking\": 7, \"layer\": 11}, {\"token\": \" enough\", \"prob\": \"0.010331208\", \"ranking\": 8, \"layer\": 11}, {\"token\": \" to\", \"prob\": \"0.009471196\", \"ranking\": 9, \"layer\": 11}, {\"token\": \" as\", \"prob\": \"0.00810343\", \"ranking\": 10, \"layer\": 11}, {\"token\": \"!\", \"prob\": \"0.0061833235\", \"ranking\": 11, \"layer\": 11}, {\"token\": \" like\", \"prob\": \"0.005736556\", \"ranking\": 12, \"layer\": 11}, {\"token\": \" (\", \"prob\": \"0.0055620973\", \"ranking\": 13, \"layer\": 11}, {\"token\": \";\", \"prob\": \"0.005557601\", \"ranking\": 14, \"layer\": 11}, {\"token\": \"-\", \"prob\": \"0.004682505\", \"ranking\": 15, \"layer\": 11}, {\"token\": \" when\", \"prob\": \"0.0040777707\", \"ranking\": 16, \"layer\": 11}, {\"token\": \" on\", \"prob\": \"0.003840485\", \"ranking\": 17, \"layer\": 11}, {\"token\": \" for\", \"prob\": \"0.0037353267\", \"ranking\": 18, \"layer\": 11}, {\"token\": \"\\n\", \"prob\": \"0.0035256525\", \"ranking\": 19, \"layer\": 11}, {\"token\": \" from\", \"prob\": \"0.0027753508\", \"ranking\": 20, \"layer\": 11}, {\"token\": \":\", \"prob\": \"0.002647511\", \"ranking\": 21, \"layer\": 11}, {\"token\": \" so\", \"prob\": \"0.0024474827\", \"ranking\": 22, \"layer\": 11}, {\"token\": \"ly\", \"prob\": \"0.0024084903\", \"ranking\": 23, \"layer\": 11}, {\"token\": \" without\", \"prob\": \"0.0023897837\", \"ranking\": 24, \"layer\": 11}, {\"token\": \" at\", \"prob\": \"0.0022072734\", \"ranking\": 25, \"layer\": 11}, {\"token\": \" red\", \"prob\": \"0.0019704523\", \"ranking\": 26, \"layer\": 11}, {\"token\": \" while\", \"prob\": \"0.001957775\", \"ranking\": 27, \"layer\": 11}, {\"token\": \" because\", \"prob\": \"0.0019203625\", \"ranking\": 28, \"layer\": 11}, {\"token\": \" sweet\", \"prob\": \"0.0019122335\", \"ranking\": 29, \"layer\": 11}, {\"token\": \".\\\"\", \"prob\": \"0.0017884457\", \"ranking\": 30, \"layer\": 11}]]\n",
              "            })\n",
              "            pred.init()\n",
              "         }, function (err) {\n",
              "            console.log(viz_id, err);\n",
              "        })"
            ],
            "text/plain": [
              "<IPython.core.display.Javascript object>"
            ]
          },
          "metadata": {
            "tags": []
          }
        }
      ]
    },
    {
      "cell_type": "markdown",
      "metadata": {
        "id": "g_mEUcwlisYI"
      },
      "source": [
        "Make the distribution sharper using temperature"
      ]
    },
    {
      "cell_type": "code",
      "metadata": {
        "id": "4L9jxistiVcs",
        "colab": {
          "base_uri": "https://localhost:8080/",
          "height": 49
        },
        "outputId": "d1547c33-6ad8-4702-946d-19b66809c861"
      },
      "source": [
        "sampling_temp = lm.generate('The orange is sweet', max_length=20, do_sample=True, top_k=0, temperature=0.5)"
      ],
      "execution_count": 89,
      "outputs": [
        {
          "output_type": "display_data",
          "data": {
            "text/html": [
              "<html lang=\"en\">\n",
              "<script src=\"https://requirejs.org/docs/release/2.3.6/minified/require.js\"></script>\n",
              "<script>\n",
              "    var ecco_url = 'https://storage.googleapis.com/ml-intro/ecco/'\n",
              "    // var ecco_url = 'http://localhost:8000/ecco/'\n",
              "\n",
              "    if (window.ecco === undefined) window.ecco = {}\n",
              "\n",
              "    requirejs.config({\n",
              "        urlArgs: \"bust=\" + (new Date()).getTime(),\n",
              "        nodeRequire: require,\n",
              "        paths: {\n",
              "            d3: \"https://d3js.org/d3.v5.min\",\n",
              "            \"d3-array\": \"https://d3js.org/d3-array.v2.min\",\n",
              "            jquery: \"https://code.jquery.com/jquery-3.5.1.min\",\n",
              "            // oldEcco: ecco_url + 'ecco',\n",
              "            ecco: ecco_url + 'js/0.0.4/ecco-bundle.min',\n",
              "            xregexp: 'https://cdnjs.cloudflare.com/ajax/libs/xregexp/3.2.0/xregexp-all.min'\n",
              "        }\n",
              "    });\n",
              "    requirejs(['d3'],\n",
              "        function (d3) {\n",
              "            d3.select('#css').attr('href', ecco_url + 'html/styles.css')\n",
              "        })\n",
              "\n",
              "    console.log('Ecco initialize.')\n",
              "</script>\n",
              "\n",
              "<head>\n",
              "    <link id='css' rel=\"stylesheet\" type=\"text/css\">\n",
              "</head>\n"
            ],
            "text/plain": [
              "<IPython.core.display.HTML object>"
            ]
          },
          "metadata": {
            "tags": []
          }
        },
        {
          "output_type": "display_data",
          "data": {
            "text/html": [
              "<script>\n",
              "    // console.log('defining basic')\n",
              "    define('basic', ['d3'],\n",
              "        function (d3) {\n",
              "            return {\n",
              "                init: function (viz_id = null) {\n",
              "\n",
              "                    // console.log('basic init')\n",
              "                    if (viz_id == null){\n",
              "                        viz_id = \"viz_\" + Math.round(Math.random() * 10000000)\n",
              "                    }\n",
              "                    const div = d3.select('#basic').attr('id', viz_id),\n",
              "                        div_parent = d3.select('#' + viz_id).node().parentNode\n",
              "\n",
              "                    // Link to CSS file\n",
              "                    d3.select(div_parent).insert('link')\n",
              "                        .attr('rel', 'stylesheet')\n",
              "                        .attr('type', 'text/css')\n",
              "                        .attr('href', ecco_url + 'html/styles.css')\n",
              "\n",
              "                    return viz_id\n",
              "                }\n",
              "            }\n",
              "        }, function (err) {console.log(err);}\n",
              "    )\n",
              "    // console.log('after defining basic')\n",
              "\n",
              "</script>\n",
              "<div id=\"basic\"></div>\n"
            ],
            "text/plain": [
              "<IPython.core.display.HTML object>"
            ]
          },
          "metadata": {
            "tags": []
          }
        },
        {
          "output_type": "display_data",
          "data": {
            "application/javascript": [
              "\n",
              "\n",
              "         requirejs( ['basic', 'ecco'], function(basic, ecco){\n",
              "            basic.init('viz_604016')\n",
              "\n",
              "            window.ecco['viz_604016'] = ecco.renderOutputSequence('viz_604016', {'tokens': [{'token': 'The', 'position': 0, 'token_id': 464, 'type': 'input'}, {'token': ' orange', 'position': 1, 'token_id': 10912, 'type': 'input'}, {'token': ' is', 'position': 2, 'token_id': 318, 'type': 'input'}, {'token': ' sweet', 'position': 3, 'token_id': 6029, 'type': 'input'}]})\n",
              "         }, function (err) {\n",
              "            console.log(err);\n",
              "        })\n"
            ],
            "text/plain": [
              "<IPython.core.display.Javascript object>"
            ]
          },
          "metadata": {
            "tags": []
          }
        },
        {
          "output_type": "display_data",
          "data": {
            "application/javascript": [
              "\n",
              "        // We don't really need these require scripts. But this is to avert\n",
              "        //this code from running before display_input_sequence which DOES require external files\n",
              "        requirejs(['basic', 'ecco'], function(basic, ecco){\n",
              "                console.log('addToken viz_id', 'viz_604016');\n",
              "                window.ecco['viz_604016'].addToken({\"token\": \" and\", \"token_id\": 290, \"position\": 4, \"type\": \"output\"})\n",
              "                window.ecco['viz_604016'].redraw()\n",
              "        })\n",
              "        "
            ],
            "text/plain": [
              "<IPython.core.display.Javascript object>"
            ]
          },
          "metadata": {
            "tags": []
          }
        },
        {
          "output_type": "display_data",
          "data": {
            "application/javascript": [
              "\n",
              "        // We don't really need these require scripts. But this is to avert\n",
              "        //this code from running before display_input_sequence which DOES require external files\n",
              "        requirejs(['basic', 'ecco'], function(basic, ecco){\n",
              "                console.log('addToken viz_id', 'viz_604016');\n",
              "                window.ecco['viz_604016'].addToken({\"token\": \" has\", \"token_id\": 468, \"position\": 5, \"type\": \"output\"})\n",
              "                window.ecco['viz_604016'].redraw()\n",
              "        })\n",
              "        "
            ],
            "text/plain": [
              "<IPython.core.display.Javascript object>"
            ]
          },
          "metadata": {
            "tags": []
          }
        },
        {
          "output_type": "display_data",
          "data": {
            "application/javascript": [
              "\n",
              "        // We don't really need these require scripts. But this is to avert\n",
              "        //this code from running before display_input_sequence which DOES require external files\n",
              "        requirejs(['basic', 'ecco'], function(basic, ecco){\n",
              "                console.log('addToken viz_id', 'viz_604016');\n",
              "                window.ecco['viz_604016'].addToken({\"token\": \" a\", \"token_id\": 257, \"position\": 6, \"type\": \"output\"})\n",
              "                window.ecco['viz_604016'].redraw()\n",
              "        })\n",
              "        "
            ],
            "text/plain": [
              "<IPython.core.display.Javascript object>"
            ]
          },
          "metadata": {
            "tags": []
          }
        },
        {
          "output_type": "display_data",
          "data": {
            "application/javascript": [
              "\n",
              "        // We don't really need these require scripts. But this is to avert\n",
              "        //this code from running before display_input_sequence which DOES require external files\n",
              "        requirejs(['basic', 'ecco'], function(basic, ecco){\n",
              "                console.log('addToken viz_id', 'viz_604016');\n",
              "                window.ecco['viz_604016'].addToken({\"token\": \" hint\", \"token_id\": 9254, \"position\": 7, \"type\": \"output\"})\n",
              "                window.ecco['viz_604016'].redraw()\n",
              "        })\n",
              "        "
            ],
            "text/plain": [
              "<IPython.core.display.Javascript object>"
            ]
          },
          "metadata": {
            "tags": []
          }
        },
        {
          "output_type": "display_data",
          "data": {
            "application/javascript": [
              "\n",
              "        // We don't really need these require scripts. But this is to avert\n",
              "        //this code from running before display_input_sequence which DOES require external files\n",
              "        requirejs(['basic', 'ecco'], function(basic, ecco){\n",
              "                console.log('addToken viz_id', 'viz_604016');\n",
              "                window.ecco['viz_604016'].addToken({\"token\": \" of\", \"token_id\": 286, \"position\": 8, \"type\": \"output\"})\n",
              "                window.ecco['viz_604016'].redraw()\n",
              "        })\n",
              "        "
            ],
            "text/plain": [
              "<IPython.core.display.Javascript object>"
            ]
          },
          "metadata": {
            "tags": []
          }
        },
        {
          "output_type": "display_data",
          "data": {
            "application/javascript": [
              "\n",
              "        // We don't really need these require scripts. But this is to avert\n",
              "        //this code from running before display_input_sequence which DOES require external files\n",
              "        requirejs(['basic', 'ecco'], function(basic, ecco){\n",
              "                console.log('addToken viz_id', 'viz_604016');\n",
              "                window.ecco['viz_604016'].addToken({\"token\": \" chocolate\", \"token_id\": 11311, \"position\": 9, \"type\": \"output\"})\n",
              "                window.ecco['viz_604016'].redraw()\n",
              "        })\n",
              "        "
            ],
            "text/plain": [
              "<IPython.core.display.Javascript object>"
            ]
          },
          "metadata": {
            "tags": []
          }
        },
        {
          "output_type": "display_data",
          "data": {
            "application/javascript": [
              "\n",
              "        // We don't really need these require scripts. But this is to avert\n",
              "        //this code from running before display_input_sequence which DOES require external files\n",
              "        requirejs(['basic', 'ecco'], function(basic, ecco){\n",
              "                console.log('addToken viz_id', 'viz_604016');\n",
              "                window.ecco['viz_604016'].addToken({\"token\": \".\", \"token_id\": 13, \"position\": 10, \"type\": \"output\"})\n",
              "                window.ecco['viz_604016'].redraw()\n",
              "        })\n",
              "        "
            ],
            "text/plain": [
              "<IPython.core.display.Javascript object>"
            ]
          },
          "metadata": {
            "tags": []
          }
        },
        {
          "output_type": "display_data",
          "data": {
            "application/javascript": [
              "\n",
              "        // We don't really need these require scripts. But this is to avert\n",
              "        //this code from running before display_input_sequence which DOES require external files\n",
              "        requirejs(['basic', 'ecco'], function(basic, ecco){\n",
              "                console.log('addToken viz_id', 'viz_604016');\n",
              "                window.ecco['viz_604016'].addToken({\"token\": \" The\", \"token_id\": 383, \"position\": 11, \"type\": \"output\"})\n",
              "                window.ecco['viz_604016'].redraw()\n",
              "        })\n",
              "        "
            ],
            "text/plain": [
              "<IPython.core.display.Javascript object>"
            ]
          },
          "metadata": {
            "tags": []
          }
        },
        {
          "output_type": "display_data",
          "data": {
            "application/javascript": [
              "\n",
              "        // We don't really need these require scripts. But this is to avert\n",
              "        //this code from running before display_input_sequence which DOES require external files\n",
              "        requirejs(['basic', 'ecco'], function(basic, ecco){\n",
              "                console.log('addToken viz_id', 'viz_604016');\n",
              "                window.ecco['viz_604016'].addToken({\"token\": \" vanilla\", \"token_id\": 16858, \"position\": 12, \"type\": \"output\"})\n",
              "                window.ecco['viz_604016'].redraw()\n",
              "        })\n",
              "        "
            ],
            "text/plain": [
              "<IPython.core.display.Javascript object>"
            ]
          },
          "metadata": {
            "tags": []
          }
        },
        {
          "output_type": "display_data",
          "data": {
            "application/javascript": [
              "\n",
              "        // We don't really need these require scripts. But this is to avert\n",
              "        //this code from running before display_input_sequence which DOES require external files\n",
              "        requirejs(['basic', 'ecco'], function(basic, ecco){\n",
              "                console.log('addToken viz_id', 'viz_604016');\n",
              "                window.ecco['viz_604016'].addToken({\"token\": \" is\", \"token_id\": 318, \"position\": 13, \"type\": \"output\"})\n",
              "                window.ecco['viz_604016'].redraw()\n",
              "        })\n",
              "        "
            ],
            "text/plain": [
              "<IPython.core.display.Javascript object>"
            ]
          },
          "metadata": {
            "tags": []
          }
        },
        {
          "output_type": "display_data",
          "data": {
            "application/javascript": [
              "\n",
              "        // We don't really need these require scripts. But this is to avert\n",
              "        //this code from running before display_input_sequence which DOES require external files\n",
              "        requirejs(['basic', 'ecco'], function(basic, ecco){\n",
              "                console.log('addToken viz_id', 'viz_604016');\n",
              "                window.ecco['viz_604016'].addToken({\"token\": \" slightly\", \"token_id\": 4622, \"position\": 14, \"type\": \"output\"})\n",
              "                window.ecco['viz_604016'].redraw()\n",
              "        })\n",
              "        "
            ],
            "text/plain": [
              "<IPython.core.display.Javascript object>"
            ]
          },
          "metadata": {
            "tags": []
          }
        },
        {
          "output_type": "display_data",
          "data": {
            "application/javascript": [
              "\n",
              "        // We don't really need these require scripts. But this is to avert\n",
              "        //this code from running before display_input_sequence which DOES require external files\n",
              "        requirejs(['basic', 'ecco'], function(basic, ecco){\n",
              "                console.log('addToken viz_id', 'viz_604016');\n",
              "                window.ecco['viz_604016'].addToken({\"token\": \" sweet\", \"token_id\": 6029, \"position\": 15, \"type\": \"output\"})\n",
              "                window.ecco['viz_604016'].redraw()\n",
              "        })\n",
              "        "
            ],
            "text/plain": [
              "<IPython.core.display.Javascript object>"
            ]
          },
          "metadata": {
            "tags": []
          }
        },
        {
          "output_type": "display_data",
          "data": {
            "application/javascript": [
              "\n",
              "        // We don't really need these require scripts. But this is to avert\n",
              "        //this code from running before display_input_sequence which DOES require external files\n",
              "        requirejs(['basic', 'ecco'], function(basic, ecco){\n",
              "                console.log('addToken viz_id', 'viz_604016');\n",
              "                window.ecco['viz_604016'].addToken({\"token\": \" and\", \"token_id\": 290, \"position\": 16, \"type\": \"output\"})\n",
              "                window.ecco['viz_604016'].redraw()\n",
              "        })\n",
              "        "
            ],
            "text/plain": [
              "<IPython.core.display.Javascript object>"
            ]
          },
          "metadata": {
            "tags": []
          }
        },
        {
          "output_type": "display_data",
          "data": {
            "application/javascript": [
              "\n",
              "        // We don't really need these require scripts. But this is to avert\n",
              "        //this code from running before display_input_sequence which DOES require external files\n",
              "        requirejs(['basic', 'ecco'], function(basic, ecco){\n",
              "                console.log('addToken viz_id', 'viz_604016');\n",
              "                window.ecco['viz_604016'].addToken({\"token\": \" has\", \"token_id\": 468, \"position\": 17, \"type\": \"output\"})\n",
              "                window.ecco['viz_604016'].redraw()\n",
              "        })\n",
              "        "
            ],
            "text/plain": [
              "<IPython.core.display.Javascript object>"
            ]
          },
          "metadata": {
            "tags": []
          }
        },
        {
          "output_type": "display_data",
          "data": {
            "application/javascript": [
              "\n",
              "        // We don't really need these require scripts. But this is to avert\n",
              "        //this code from running before display_input_sequence which DOES require external files\n",
              "        requirejs(['basic', 'ecco'], function(basic, ecco){\n",
              "                console.log('addToken viz_id', 'viz_604016');\n",
              "                window.ecco['viz_604016'].addToken({\"token\": \" a\", \"token_id\": 257, \"position\": 18, \"type\": \"output\"})\n",
              "                window.ecco['viz_604016'].redraw()\n",
              "        })\n",
              "        "
            ],
            "text/plain": [
              "<IPython.core.display.Javascript object>"
            ]
          },
          "metadata": {
            "tags": []
          }
        },
        {
          "output_type": "display_data",
          "data": {
            "application/javascript": [
              "\n",
              "        // We don't really need these require scripts. But this is to avert\n",
              "        //this code from running before display_input_sequence which DOES require external files\n",
              "        requirejs(['basic', 'ecco'], function(basic, ecco){\n",
              "                console.log('addToken viz_id', 'viz_604016');\n",
              "                window.ecco['viz_604016'].addToken({\"token\": \" hint\", \"token_id\": 9254, \"position\": 19, \"type\": \"output\"})\n",
              "                window.ecco['viz_604016'].redraw()\n",
              "        })\n",
              "        "
            ],
            "text/plain": [
              "<IPython.core.display.Javascript object>"
            ]
          },
          "metadata": {
            "tags": []
          }
        }
      ]
    },
    {
      "cell_type": "code",
      "metadata": {
        "id": "KCQZ8S6ZGjtf",
        "outputId": "14eecc3f-3bd9-44e2-8900-96d90ba81f1e",
        "colab": {
          "base_uri": "https://localhost:8080/",
          "height": 310
        }
      },
      "source": [
        "sampling_temp.layer_predictions(position=6, topk=30, layer=11)"
      ],
      "execution_count": 95,
      "outputs": [
        {
          "output_type": "stream",
          "text": [
            "Predictions for position 6\n"
          ],
          "name": "stdout"
        },
        {
          "output_type": "display_data",
          "data": {
            "text/html": [
              "<html lang=\"en\">\n",
              "<script src=\"https://requirejs.org/docs/release/2.3.6/minified/require.js\"></script>\n",
              "<script>\n",
              "    var ecco_url = 'https://storage.googleapis.com/ml-intro/ecco/'\n",
              "    // var ecco_url = 'http://localhost:8000/ecco/'\n",
              "\n",
              "    if (window.ecco === undefined) window.ecco = {}\n",
              "\n",
              "    requirejs.config({\n",
              "        urlArgs: \"bust=\" + (new Date()).getTime(),\n",
              "        nodeRequire: require,\n",
              "        paths: {\n",
              "            d3: \"https://d3js.org/d3.v5.min\",\n",
              "            \"d3-array\": \"https://d3js.org/d3-array.v2.min\",\n",
              "            jquery: \"https://code.jquery.com/jquery-3.5.1.min\",\n",
              "            // oldEcco: ecco_url + 'ecco',\n",
              "            ecco: ecco_url + 'js/0.0.4/ecco-bundle.min',\n",
              "            xregexp: 'https://cdnjs.cloudflare.com/ajax/libs/xregexp/3.2.0/xregexp-all.min'\n",
              "        }\n",
              "    });\n",
              "    requirejs(['d3'],\n",
              "        function (d3) {\n",
              "            d3.select('#css').attr('href', ecco_url + 'html/styles.css')\n",
              "        })\n",
              "\n",
              "    console.log('Ecco initialize.')\n",
              "</script>\n",
              "\n",
              "<head>\n",
              "    <link id='css' rel=\"stylesheet\" type=\"text/css\">\n",
              "</head>\n"
            ],
            "text/plain": [
              "<IPython.core.display.HTML object>"
            ]
          },
          "metadata": {
            "tags": []
          }
        },
        {
          "output_type": "display_data",
          "data": {
            "text/html": [
              "<script>\n",
              "    // console.log('defining basic')\n",
              "    define('basic', ['d3'],\n",
              "        function (d3) {\n",
              "            return {\n",
              "                init: function (viz_id = null) {\n",
              "\n",
              "                    // console.log('basic init')\n",
              "                    if (viz_id == null){\n",
              "                        viz_id = \"viz_\" + Math.round(Math.random() * 10000000)\n",
              "                    }\n",
              "                    const div = d3.select('#basic').attr('id', viz_id),\n",
              "                        div_parent = d3.select('#' + viz_id).node().parentNode\n",
              "\n",
              "                    // Link to CSS file\n",
              "                    d3.select(div_parent).insert('link')\n",
              "                        .attr('rel', 'stylesheet')\n",
              "                        .attr('type', 'text/css')\n",
              "                        .attr('href', ecco_url + 'html/styles.css')\n",
              "\n",
              "                    return viz_id\n",
              "                }\n",
              "            }\n",
              "        }, function (err) {console.log(err);}\n",
              "    )\n",
              "    // console.log('after defining basic')\n",
              "\n",
              "</script>\n",
              "<div id=\"basic\"></div>\n"
            ],
            "text/plain": [
              "<IPython.core.display.HTML object>"
            ]
          },
          "metadata": {
            "tags": []
          }
        },
        {
          "output_type": "display_data",
          "data": {
            "application/javascript": [
              "\n",
              "         requirejs(['basic', 'ecco'], function(basic, ecco){\n",
              "            const viz_id = basic.init()\n",
              "\n",
              "\n",
              "            let pred = new ecco.LayerPredictions({\n",
              "                parentDiv: viz_id,\n",
              "                data:[[{\"token\": \" a\", \"prob\": \"0.5392028\", \"ranking\": 1, \"layer\": 11}, {\"token\": \" an\", \"prob\": \"0.049939092\", \"ranking\": 2, \"layer\": 11}, {\"token\": \" the\", \"prob\": \"0.033218417\", \"ranking\": 3, \"layer\": 11}, {\"token\": \" some\", \"prob\": \"0.028903851\", \"ranking\": 4, \"layer\": 11}, {\"token\": \" no\", \"prob\": \"0.012971256\", \"ranking\": 5, \"layer\": 11}, {\"token\": \" been\", \"prob\": \"0.011748005\", \"ranking\": 6, \"layer\": 11}, {\"token\": \" lots\", \"prob\": \"0.0071168863\", \"ranking\": 7, \"layer\": 11}, {\"token\": \" nice\", \"prob\": \"0.006302615\", \"ranking\": 8, \"layer\": 11}, {\"token\": \" more\", \"prob\": \"0.005491286\", \"ranking\": 9, \"layer\": 11}, {\"token\": \" hints\", \"prob\": \"0.005452877\", \"ranking\": 10, \"layer\": 11}, {\"token\": \" very\", \"prob\": \"0.0051902863\", \"ranking\": 11, \"layer\": 11}, {\"token\": \" just\", \"prob\": \"0.005143338\", \"ranking\": 12, \"layer\": 11}, {\"token\": \" great\", \"prob\": \"0.0047630197\", \"ranking\": 13, \"layer\": 11}, {\"token\": \" little\", \"prob\": \"0.0041855574\", \"ranking\": 14, \"layer\": 11}, {\"token\": \" its\", \"prob\": \"0.0036690533\", \"ranking\": 15, \"layer\": 11}, {\"token\": \" orange\", \"prob\": \"0.0033708194\", \"ranking\": 16, \"layer\": 11}, {\"token\": \" good\", \"prob\": \"0.0033103917\", \"ranking\": 17, \"layer\": 11}, {\"token\": \" to\", \"prob\": \"0.0032920311\", \"ranking\": 18, \"layer\": 11}, {\"token\": \" all\", \"prob\": \"0.003285708\", \"ranking\": 19, \"layer\": 11}, {\"token\": \" light\", \"prob\": \"0.003275646\", \"ranking\": 20, \"layer\": 11}, {\"token\": \" bright\", \"prob\": \"0.0031368237\", \"ranking\": 21, \"layer\": 11}, {\"token\": \" two\", \"prob\": \"0.0029894807\", \"ranking\": 22, \"layer\": 11}, {\"token\": \" dark\", \"prob\": \"0.0029012202\", \"ranking\": 23, \"layer\": 11}, {\"token\": \" many\", \"prob\": \"0.0027210398\", \"ranking\": 24, \"layer\": 11}, {\"token\": \" plenty\", \"prob\": \"0.0026048867\", \"ranking\": 25, \"layer\": 11}, {\"token\": \" almost\", \"prob\": \"0.0025627804\", \"ranking\": 26, \"layer\": 11}, {\"token\": \" that\", \"prob\": \"0.0024923985\", \"ranking\": 27, \"layer\": 11}, {\"token\": \" subtle\", \"prob\": \"0.00239891\", \"ranking\": 28, \"layer\": 11}, {\"token\": \" something\", \"prob\": \"0.0023207613\", \"ranking\": 29, \"layer\": 11}, {\"token\": \" sweet\", \"prob\": \"0.0023109906\", \"ranking\": 30, \"layer\": 11}]]\n",
              "            })\n",
              "            pred.init()\n",
              "         }, function (err) {\n",
              "            console.log(viz_id, err);\n",
              "        })"
            ],
            "text/plain": [
              "<IPython.core.display.Javascript object>"
            ]
          },
          "metadata": {
            "tags": []
          }
        }
      ]
    },
    {
      "cell_type": "markdown",
      "metadata": {
        "id": "fHfSD1qVjvG1"
      },
      "source": [
        "## Top-K Sampling"
      ]
    },
    {
      "cell_type": "code",
      "metadata": {
        "id": "rgvr6DFMiqkg",
        "colab": {
          "base_uri": "https://localhost:8080/",
          "height": 113
        },
        "outputId": "aa5a22ab-6a32-4ce5-e44d-81f6bf750aa1"
      },
      "source": [
        "topk = lm.generate('The orange is sweet', max_length=20, do_sample=True, top_k=30)"
      ],
      "execution_count": 91,
      "outputs": [
        {
          "output_type": "display_data",
          "data": {
            "text/html": [
              "<html lang=\"en\">\n",
              "<script src=\"https://requirejs.org/docs/release/2.3.6/minified/require.js\"></script>\n",
              "<script>\n",
              "    var ecco_url = 'https://storage.googleapis.com/ml-intro/ecco/'\n",
              "    // var ecco_url = 'http://localhost:8000/ecco/'\n",
              "\n",
              "    if (window.ecco === undefined) window.ecco = {}\n",
              "\n",
              "    requirejs.config({\n",
              "        urlArgs: \"bust=\" + (new Date()).getTime(),\n",
              "        nodeRequire: require,\n",
              "        paths: {\n",
              "            d3: \"https://d3js.org/d3.v5.min\",\n",
              "            \"d3-array\": \"https://d3js.org/d3-array.v2.min\",\n",
              "            jquery: \"https://code.jquery.com/jquery-3.5.1.min\",\n",
              "            // oldEcco: ecco_url + 'ecco',\n",
              "            ecco: ecco_url + 'js/0.0.4/ecco-bundle.min',\n",
              "            xregexp: 'https://cdnjs.cloudflare.com/ajax/libs/xregexp/3.2.0/xregexp-all.min'\n",
              "        }\n",
              "    });\n",
              "    requirejs(['d3'],\n",
              "        function (d3) {\n",
              "            d3.select('#css').attr('href', ecco_url + 'html/styles.css')\n",
              "        })\n",
              "\n",
              "    console.log('Ecco initialize.')\n",
              "</script>\n",
              "\n",
              "<head>\n",
              "    <link id='css' rel=\"stylesheet\" type=\"text/css\">\n",
              "</head>\n"
            ],
            "text/plain": [
              "<IPython.core.display.HTML object>"
            ]
          },
          "metadata": {
            "tags": []
          }
        },
        {
          "output_type": "display_data",
          "data": {
            "text/html": [
              "<script>\n",
              "    // console.log('defining basic')\n",
              "    define('basic', ['d3'],\n",
              "        function (d3) {\n",
              "            return {\n",
              "                init: function (viz_id = null) {\n",
              "\n",
              "                    // console.log('basic init')\n",
              "                    if (viz_id == null){\n",
              "                        viz_id = \"viz_\" + Math.round(Math.random() * 10000000)\n",
              "                    }\n",
              "                    const div = d3.select('#basic').attr('id', viz_id),\n",
              "                        div_parent = d3.select('#' + viz_id).node().parentNode\n",
              "\n",
              "                    // Link to CSS file\n",
              "                    d3.select(div_parent).insert('link')\n",
              "                        .attr('rel', 'stylesheet')\n",
              "                        .attr('type', 'text/css')\n",
              "                        .attr('href', ecco_url + 'html/styles.css')\n",
              "\n",
              "                    return viz_id\n",
              "                }\n",
              "            }\n",
              "        }, function (err) {console.log(err);}\n",
              "    )\n",
              "    // console.log('after defining basic')\n",
              "\n",
              "</script>\n",
              "<div id=\"basic\"></div>\n"
            ],
            "text/plain": [
              "<IPython.core.display.HTML object>"
            ]
          },
          "metadata": {
            "tags": []
          }
        },
        {
          "output_type": "display_data",
          "data": {
            "application/javascript": [
              "\n",
              "\n",
              "         requirejs( ['basic', 'ecco'], function(basic, ecco){\n",
              "            basic.init('viz_893172')\n",
              "\n",
              "            window.ecco['viz_893172'] = ecco.renderOutputSequence('viz_893172', {'tokens': [{'token': 'The', 'position': 0, 'token_id': 464, 'type': 'input'}, {'token': ' orange', 'position': 1, 'token_id': 10912, 'type': 'input'}, {'token': ' is', 'position': 2, 'token_id': 318, 'type': 'input'}, {'token': ' sweet', 'position': 3, 'token_id': 6029, 'type': 'input'}]})\n",
              "         }, function (err) {\n",
              "            console.log(err);\n",
              "        })\n"
            ],
            "text/plain": [
              "<IPython.core.display.Javascript object>"
            ]
          },
          "metadata": {
            "tags": []
          }
        },
        {
          "output_type": "display_data",
          "data": {
            "application/javascript": [
              "\n",
              "        // We don't really need these require scripts. But this is to avert\n",
              "        //this code from running before display_input_sequence which DOES require external files\n",
              "        requirejs(['basic', 'ecco'], function(basic, ecco){\n",
              "                console.log('addToken viz_id', 'viz_893172');\n",
              "                window.ecco['viz_893172'].addToken({\"token\": \" and\", \"token_id\": 290, \"position\": 4, \"type\": \"output\"})\n",
              "                window.ecco['viz_893172'].redraw()\n",
              "        })\n",
              "        "
            ],
            "text/plain": [
              "<IPython.core.display.Javascript object>"
            ]
          },
          "metadata": {
            "tags": []
          }
        },
        {
          "output_type": "display_data",
          "data": {
            "application/javascript": [
              "\n",
              "        // We don't really need these require scripts. But this is to avert\n",
              "        //this code from running before display_input_sequence which DOES require external files\n",
              "        requirejs(['basic', 'ecco'], function(basic, ecco){\n",
              "                console.log('addToken viz_id', 'viz_893172');\n",
              "                window.ecco['viz_893172'].addToken({\"token\": \" the\", \"token_id\": 262, \"position\": 5, \"type\": \"output\"})\n",
              "                window.ecco['viz_893172'].redraw()\n",
              "        })\n",
              "        "
            ],
            "text/plain": [
              "<IPython.core.display.Javascript object>"
            ]
          },
          "metadata": {
            "tags": []
          }
        },
        {
          "output_type": "display_data",
          "data": {
            "application/javascript": [
              "\n",
              "        // We don't really need these require scripts. But this is to avert\n",
              "        //this code from running before display_input_sequence which DOES require external files\n",
              "        requirejs(['basic', 'ecco'], function(basic, ecco){\n",
              "                console.log('addToken viz_id', 'viz_893172');\n",
              "                window.ecco['viz_893172'].addToken({\"token\": \" green\", \"token_id\": 4077, \"position\": 6, \"type\": \"output\"})\n",
              "                window.ecco['viz_893172'].redraw()\n",
              "        })\n",
              "        "
            ],
            "text/plain": [
              "<IPython.core.display.Javascript object>"
            ]
          },
          "metadata": {
            "tags": []
          }
        },
        {
          "output_type": "display_data",
          "data": {
            "application/javascript": [
              "\n",
              "        // We don't really need these require scripts. But this is to avert\n",
              "        //this code from running before display_input_sequence which DOES require external files\n",
              "        requirejs(['basic', 'ecco'], function(basic, ecco){\n",
              "                console.log('addToken viz_id', 'viz_893172');\n",
              "                window.ecco['viz_893172'].addToken({\"token\": \" is\", \"token_id\": 318, \"position\": 7, \"type\": \"output\"})\n",
              "                window.ecco['viz_893172'].redraw()\n",
              "        })\n",
              "        "
            ],
            "text/plain": [
              "<IPython.core.display.Javascript object>"
            ]
          },
          "metadata": {
            "tags": []
          }
        },
        {
          "output_type": "display_data",
          "data": {
            "application/javascript": [
              "\n",
              "        // We don't really need these require scripts. But this is to avert\n",
              "        //this code from running before display_input_sequence which DOES require external files\n",
              "        requirejs(['basic', 'ecco'], function(basic, ecco){\n",
              "                console.log('addToken viz_id', 'viz_893172');\n",
              "                window.ecco['viz_893172'].addToken({\"token\": \" very\", \"token_id\": 845, \"position\": 8, \"type\": \"output\"})\n",
              "                window.ecco['viz_893172'].redraw()\n",
              "        })\n",
              "        "
            ],
            "text/plain": [
              "<IPython.core.display.Javascript object>"
            ]
          },
          "metadata": {
            "tags": []
          }
        },
        {
          "output_type": "display_data",
          "data": {
            "application/javascript": [
              "\n",
              "        // We don't really need these require scripts. But this is to avert\n",
              "        //this code from running before display_input_sequence which DOES require external files\n",
              "        requirejs(['basic', 'ecco'], function(basic, ecco){\n",
              "                console.log('addToken viz_id', 'viz_893172');\n",
              "                window.ecco['viz_893172'].addToken({\"token\": \" light\", \"token_id\": 1657, \"position\": 9, \"type\": \"output\"})\n",
              "                window.ecco['viz_893172'].redraw()\n",
              "        })\n",
              "        "
            ],
            "text/plain": [
              "<IPython.core.display.Javascript object>"
            ]
          },
          "metadata": {
            "tags": []
          }
        },
        {
          "output_type": "display_data",
          "data": {
            "application/javascript": [
              "\n",
              "        // We don't really need these require scripts. But this is to avert\n",
              "        //this code from running before display_input_sequence which DOES require external files\n",
              "        requirejs(['basic', 'ecco'], function(basic, ecco){\n",
              "                console.log('addToken viz_id', 'viz_893172');\n",
              "                window.ecco['viz_893172'].addToken({\"token\": \".\\\"\", \"token_id\": 526, \"position\": 10, \"type\": \"output\"})\n",
              "                window.ecco['viz_893172'].redraw()\n",
              "        })\n",
              "        "
            ],
            "text/plain": [
              "<IPython.core.display.Javascript object>"
            ]
          },
          "metadata": {
            "tags": []
          }
        },
        {
          "output_type": "display_data",
          "data": {
            "application/javascript": [
              "\n",
              "        // We don't really need these require scripts. But this is to avert\n",
              "        //this code from running before display_input_sequence which DOES require external files\n",
              "        requirejs(['basic', 'ecco'], function(basic, ecco){\n",
              "                console.log('addToken viz_id', 'viz_893172');\n",
              "                window.ecco['viz_893172'].addToken({\"token\": \"\\n\", \"token_id\": 198, \"position\": 11, \"type\": \"output\"})\n",
              "                window.ecco['viz_893172'].redraw()\n",
              "        })\n",
              "        "
            ],
            "text/plain": [
              "<IPython.core.display.Javascript object>"
            ]
          },
          "metadata": {
            "tags": []
          }
        },
        {
          "output_type": "display_data",
          "data": {
            "application/javascript": [
              "\n",
              "        // We don't really need these require scripts. But this is to avert\n",
              "        //this code from running before display_input_sequence which DOES require external files\n",
              "        requirejs(['basic', 'ecco'], function(basic, ecco){\n",
              "                console.log('addToken viz_id', 'viz_893172');\n",
              "                window.ecco['viz_893172'].addToken({\"token\": \"\\n\", \"token_id\": 198, \"position\": 12, \"type\": \"output\"})\n",
              "                window.ecco['viz_893172'].redraw()\n",
              "        })\n",
              "        "
            ],
            "text/plain": [
              "<IPython.core.display.Javascript object>"
            ]
          },
          "metadata": {
            "tags": []
          }
        },
        {
          "output_type": "display_data",
          "data": {
            "application/javascript": [
              "\n",
              "        // We don't really need these require scripts. But this is to avert\n",
              "        //this code from running before display_input_sequence which DOES require external files\n",
              "        requirejs(['basic', 'ecco'], function(basic, ecco){\n",
              "                console.log('addToken viz_id', 'viz_893172');\n",
              "                window.ecco['viz_893172'].addToken({\"token\": \"The\", \"token_id\": 464, \"position\": 13, \"type\": \"output\"})\n",
              "                window.ecco['viz_893172'].redraw()\n",
              "        })\n",
              "        "
            ],
            "text/plain": [
              "<IPython.core.display.Javascript object>"
            ]
          },
          "metadata": {
            "tags": []
          }
        },
        {
          "output_type": "display_data",
          "data": {
            "application/javascript": [
              "\n",
              "        // We don't really need these require scripts. But this is to avert\n",
              "        //this code from running before display_input_sequence which DOES require external files\n",
              "        requirejs(['basic', 'ecco'], function(basic, ecco){\n",
              "                console.log('addToken viz_id', 'viz_893172');\n",
              "                window.ecco['viz_893172'].addToken({\"token\": \" team\", \"token_id\": 1074, \"position\": 14, \"type\": \"output\"})\n",
              "                window.ecco['viz_893172'].redraw()\n",
              "        })\n",
              "        "
            ],
            "text/plain": [
              "<IPython.core.display.Javascript object>"
            ]
          },
          "metadata": {
            "tags": []
          }
        },
        {
          "output_type": "display_data",
          "data": {
            "application/javascript": [
              "\n",
              "        // We don't really need these require scripts. But this is to avert\n",
              "        //this code from running before display_input_sequence which DOES require external files\n",
              "        requirejs(['basic', 'ecco'], function(basic, ecco){\n",
              "                console.log('addToken viz_id', 'viz_893172');\n",
              "                window.ecco['viz_893172'].addToken({\"token\": \"'s\", \"token_id\": 338, \"position\": 15, \"type\": \"output\"})\n",
              "                window.ecco['viz_893172'].redraw()\n",
              "        })\n",
              "        "
            ],
            "text/plain": [
              "<IPython.core.display.Javascript object>"
            ]
          },
          "metadata": {
            "tags": []
          }
        },
        {
          "output_type": "display_data",
          "data": {
            "application/javascript": [
              "\n",
              "        // We don't really need these require scripts. But this is to avert\n",
              "        //this code from running before display_input_sequence which DOES require external files\n",
              "        requirejs(['basic', 'ecco'], function(basic, ecco){\n",
              "                console.log('addToken viz_id', 'viz_893172');\n",
              "                window.ecco['viz_893172'].addToken({\"token\": \" final\", \"token_id\": 2457, \"position\": 16, \"type\": \"output\"})\n",
              "                window.ecco['viz_893172'].redraw()\n",
              "        })\n",
              "        "
            ],
            "text/plain": [
              "<IPython.core.display.Javascript object>"
            ]
          },
          "metadata": {
            "tags": []
          }
        },
        {
          "output_type": "display_data",
          "data": {
            "application/javascript": [
              "\n",
              "        // We don't really need these require scripts. But this is to avert\n",
              "        //this code from running before display_input_sequence which DOES require external files\n",
              "        requirejs(['basic', 'ecco'], function(basic, ecco){\n",
              "                console.log('addToken viz_id', 'viz_893172');\n",
              "                window.ecco['viz_893172'].addToken({\"token\": \" day\", \"token_id\": 1110, \"position\": 17, \"type\": \"output\"})\n",
              "                window.ecco['viz_893172'].redraw()\n",
              "        })\n",
              "        "
            ],
            "text/plain": [
              "<IPython.core.display.Javascript object>"
            ]
          },
          "metadata": {
            "tags": []
          }
        },
        {
          "output_type": "display_data",
          "data": {
            "application/javascript": [
              "\n",
              "        // We don't really need these require scripts. But this is to avert\n",
              "        //this code from running before display_input_sequence which DOES require external files\n",
              "        requirejs(['basic', 'ecco'], function(basic, ecco){\n",
              "                console.log('addToken viz_id', 'viz_893172');\n",
              "                window.ecco['viz_893172'].addToken({\"token\": \" of\", \"token_id\": 286, \"position\": 18, \"type\": \"output\"})\n",
              "                window.ecco['viz_893172'].redraw()\n",
              "        })\n",
              "        "
            ],
            "text/plain": [
              "<IPython.core.display.Javascript object>"
            ]
          },
          "metadata": {
            "tags": []
          }
        },
        {
          "output_type": "display_data",
          "data": {
            "application/javascript": [
              "\n",
              "        // We don't really need these require scripts. But this is to avert\n",
              "        //this code from running before display_input_sequence which DOES require external files\n",
              "        requirejs(['basic', 'ecco'], function(basic, ecco){\n",
              "                console.log('addToken viz_id', 'viz_893172');\n",
              "                window.ecco['viz_893172'].addToken({\"token\": \" practice\", \"token_id\": 3357, \"position\": 19, \"type\": \"output\"})\n",
              "                window.ecco['viz_893172'].redraw()\n",
              "        })\n",
              "        "
            ],
            "text/plain": [
              "<IPython.core.display.Javascript object>"
            ]
          },
          "metadata": {
            "tags": []
          }
        }
      ]
    },
    {
      "cell_type": "code",
      "metadata": {
        "id": "-sGTllPmG_3H",
        "outputId": "8a25aa45-4d59-4d2f-eda7-c6586dd12ab6",
        "colab": {
          "base_uri": "https://localhost:8080/",
          "height": 310
        }
      },
      "source": [
        "topk.layer_predictions(position=6, topk=30, layer=11)"
      ],
      "execution_count": 96,
      "outputs": [
        {
          "output_type": "stream",
          "text": [
            "Predictions for position 6\n"
          ],
          "name": "stdout"
        },
        {
          "output_type": "display_data",
          "data": {
            "text/html": [
              "<html lang=\"en\">\n",
              "<script src=\"https://requirejs.org/docs/release/2.3.6/minified/require.js\"></script>\n",
              "<script>\n",
              "    var ecco_url = 'https://storage.googleapis.com/ml-intro/ecco/'\n",
              "    // var ecco_url = 'http://localhost:8000/ecco/'\n",
              "\n",
              "    if (window.ecco === undefined) window.ecco = {}\n",
              "\n",
              "    requirejs.config({\n",
              "        urlArgs: \"bust=\" + (new Date()).getTime(),\n",
              "        nodeRequire: require,\n",
              "        paths: {\n",
              "            d3: \"https://d3js.org/d3.v5.min\",\n",
              "            \"d3-array\": \"https://d3js.org/d3-array.v2.min\",\n",
              "            jquery: \"https://code.jquery.com/jquery-3.5.1.min\",\n",
              "            // oldEcco: ecco_url + 'ecco',\n",
              "            ecco: ecco_url + 'js/0.0.4/ecco-bundle.min',\n",
              "            xregexp: 'https://cdnjs.cloudflare.com/ajax/libs/xregexp/3.2.0/xregexp-all.min'\n",
              "        }\n",
              "    });\n",
              "    requirejs(['d3'],\n",
              "        function (d3) {\n",
              "            d3.select('#css').attr('href', ecco_url + 'html/styles.css')\n",
              "        })\n",
              "\n",
              "    console.log('Ecco initialize.')\n",
              "</script>\n",
              "\n",
              "<head>\n",
              "    <link id='css' rel=\"stylesheet\" type=\"text/css\">\n",
              "</head>\n"
            ],
            "text/plain": [
              "<IPython.core.display.HTML object>"
            ]
          },
          "metadata": {
            "tags": []
          }
        },
        {
          "output_type": "display_data",
          "data": {
            "text/html": [
              "<script>\n",
              "    // console.log('defining basic')\n",
              "    define('basic', ['d3'],\n",
              "        function (d3) {\n",
              "            return {\n",
              "                init: function (viz_id = null) {\n",
              "\n",
              "                    // console.log('basic init')\n",
              "                    if (viz_id == null){\n",
              "                        viz_id = \"viz_\" + Math.round(Math.random() * 10000000)\n",
              "                    }\n",
              "                    const div = d3.select('#basic').attr('id', viz_id),\n",
              "                        div_parent = d3.select('#' + viz_id).node().parentNode\n",
              "\n",
              "                    // Link to CSS file\n",
              "                    d3.select(div_parent).insert('link')\n",
              "                        .attr('rel', 'stylesheet')\n",
              "                        .attr('type', 'text/css')\n",
              "                        .attr('href', ecco_url + 'html/styles.css')\n",
              "\n",
              "                    return viz_id\n",
              "                }\n",
              "            }\n",
              "        }, function (err) {console.log(err);}\n",
              "    )\n",
              "    // console.log('after defining basic')\n",
              "\n",
              "</script>\n",
              "<div id=\"basic\"></div>\n"
            ],
            "text/plain": [
              "<IPython.core.display.HTML object>"
            ]
          },
          "metadata": {
            "tags": []
          }
        },
        {
          "output_type": "display_data",
          "data": {
            "application/javascript": [
              "\n",
              "         requirejs(['basic', 'ecco'], function(basic, ecco){\n",
              "            const viz_id = basic.init()\n",
              "\n",
              "\n",
              "            let pred = new ecco.LayerPredictions({\n",
              "                parentDiv: viz_id,\n",
              "                data:[[{\"token\": \" red\", \"prob\": \"0.17466855\", \"ranking\": 1, \"layer\": 11}, {\"token\": \" orange\", \"prob\": \"0.07865064\", \"ranking\": 2, \"layer\": 11}, {\"token\": \" blue\", \"prob\": \"0.058612075\", \"ranking\": 3, \"layer\": 11}, {\"token\": \" yellow\", \"prob\": \"0.057616714\", \"ranking\": 4, \"layer\": 11}, {\"token\": \" black\", \"prob\": \"0.056409698\", \"ranking\": 5, \"layer\": 11}, {\"token\": \" green\", \"prob\": \"0.049367614\", \"ranking\": 6, \"layer\": 11}, {\"token\": \" purple\", \"prob\": \"0.03432114\", \"ranking\": 7, \"layer\": 11}, {\"token\": \" brown\", \"prob\": \"0.029650625\", \"ranking\": 8, \"layer\": 11}, {\"token\": \" white\", \"prob\": \"0.022791753\", \"ranking\": 9, \"layer\": 11}, {\"token\": \" dark\", \"prob\": \"0.018463664\", \"ranking\": 10, \"layer\": 11}, {\"token\": \" pink\", \"prob\": \"0.01664214\", \"ranking\": 11, \"layer\": 11}, {\"token\": \" lemon\", \"prob\": \"0.0150859365\", \"ranking\": 12, \"layer\": 11}, {\"token\": \" cream\", \"prob\": \"0.011234034\", \"ranking\": 13, \"layer\": 11}, {\"token\": \" silver\", \"prob\": \"0.0075425194\", \"ranking\": 14, \"layer\": 11}, {\"token\": \" gray\", \"prob\": \"0.0075336047\", \"ranking\": 15, \"layer\": 11}, {\"token\": \" chocolate\", \"prob\": \"0.0064319964\", \"ranking\": 16, \"layer\": 11}, {\"token\": \" lime\", \"prob\": \"0.006320259\", \"ranking\": 17, \"layer\": 11}, {\"token\": \" cherry\", \"prob\": \"0.0058729546\", \"ranking\": 18, \"layer\": 11}, {\"token\": \" light\", \"prob\": \"0.0053073107\", \"ranking\": 19, \"layer\": 11}, {\"token\": \" grey\", \"prob\": \"0.0049618883\", \"ranking\": 20, \"layer\": 11}, {\"token\": \" raspberry\", \"prob\": \"0.004946354\", \"ranking\": 21, \"layer\": 11}, {\"token\": \" strawberry\", \"prob\": \"0.00414673\", \"ranking\": 22, \"layer\": 11}, {\"token\": \" deep\", \"prob\": \"0.0038319398\", \"ranking\": 23, \"layer\": 11}, {\"token\": \" mint\", \"prob\": \"0.003815341\", \"ranking\": 24, \"layer\": 11}, {\"token\": \" vanilla\", \"prob\": \"0.003620846\", \"ranking\": 25, \"layer\": 11}, {\"token\": \" peach\", \"prob\": \"0.0032818606\", \"ranking\": 26, \"layer\": 11}, {\"token\": \" gold\", \"prob\": \"0.0031089343\", \"ranking\": 27, \"layer\": 11}, {\"token\": \" violet\", \"prob\": \"0.0029669052\", \"ranking\": 28, \"layer\": 11}, {\"token\": \" grape\", \"prob\": \"0.0029249217\", \"ranking\": 29, \"layer\": 11}, {\"token\": \" sweet\", \"prob\": \"0.0028735616\", \"ranking\": 30, \"layer\": 11}]]\n",
              "            })\n",
              "            pred.init()\n",
              "         }, function (err) {\n",
              "            console.log(viz_id, err);\n",
              "        })"
            ],
            "text/plain": [
              "<IPython.core.display.Javascript object>"
            ]
          },
          "metadata": {
            "tags": []
          }
        }
      ]
    },
    {
      "cell_type": "markdown",
      "metadata": {
        "id": "BZGxx4zAojJg"
      },
      "source": [
        "## Top P sampling"
      ]
    },
    {
      "cell_type": "code",
      "metadata": {
        "id": "O7r_jhdylxgk",
        "colab": {
          "base_uri": "https://localhost:8080/",
          "height": 113
        },
        "outputId": "155649ff-1cee-4a23-f723-ed136dfe039e"
      },
      "source": [
        "topp = lm.generate('The orange is sweet', max_length=20, do_sample=True, top_p=0.2)"
      ],
      "execution_count": 101,
      "outputs": [
        {
          "output_type": "display_data",
          "data": {
            "text/html": [
              "<html lang=\"en\">\n",
              "<script src=\"https://requirejs.org/docs/release/2.3.6/minified/require.js\"></script>\n",
              "<script>\n",
              "    var ecco_url = 'https://storage.googleapis.com/ml-intro/ecco/'\n",
              "    // var ecco_url = 'http://localhost:8000/ecco/'\n",
              "\n",
              "    if (window.ecco === undefined) window.ecco = {}\n",
              "\n",
              "    requirejs.config({\n",
              "        urlArgs: \"bust=\" + (new Date()).getTime(),\n",
              "        nodeRequire: require,\n",
              "        paths: {\n",
              "            d3: \"https://d3js.org/d3.v5.min\",\n",
              "            \"d3-array\": \"https://d3js.org/d3-array.v2.min\",\n",
              "            jquery: \"https://code.jquery.com/jquery-3.5.1.min\",\n",
              "            // oldEcco: ecco_url + 'ecco',\n",
              "            ecco: ecco_url + 'js/0.0.4/ecco-bundle.min',\n",
              "            xregexp: 'https://cdnjs.cloudflare.com/ajax/libs/xregexp/3.2.0/xregexp-all.min'\n",
              "        }\n",
              "    });\n",
              "    requirejs(['d3'],\n",
              "        function (d3) {\n",
              "            d3.select('#css').attr('href', ecco_url + 'html/styles.css')\n",
              "        })\n",
              "\n",
              "    console.log('Ecco initialize.')\n",
              "</script>\n",
              "\n",
              "<head>\n",
              "    <link id='css' rel=\"stylesheet\" type=\"text/css\">\n",
              "</head>\n"
            ],
            "text/plain": [
              "<IPython.core.display.HTML object>"
            ]
          },
          "metadata": {
            "tags": []
          }
        },
        {
          "output_type": "display_data",
          "data": {
            "text/html": [
              "<script>\n",
              "    // console.log('defining basic')\n",
              "    define('basic', ['d3'],\n",
              "        function (d3) {\n",
              "            return {\n",
              "                init: function (viz_id = null) {\n",
              "\n",
              "                    // console.log('basic init')\n",
              "                    if (viz_id == null){\n",
              "                        viz_id = \"viz_\" + Math.round(Math.random() * 10000000)\n",
              "                    }\n",
              "                    const div = d3.select('#basic').attr('id', viz_id),\n",
              "                        div_parent = d3.select('#' + viz_id).node().parentNode\n",
              "\n",
              "                    // Link to CSS file\n",
              "                    d3.select(div_parent).insert('link')\n",
              "                        .attr('rel', 'stylesheet')\n",
              "                        .attr('type', 'text/css')\n",
              "                        .attr('href', ecco_url + 'html/styles.css')\n",
              "\n",
              "                    return viz_id\n",
              "                }\n",
              "            }\n",
              "        }, function (err) {console.log(err);}\n",
              "    )\n",
              "    // console.log('after defining basic')\n",
              "\n",
              "</script>\n",
              "<div id=\"basic\"></div>\n"
            ],
            "text/plain": [
              "<IPython.core.display.HTML object>"
            ]
          },
          "metadata": {
            "tags": []
          }
        },
        {
          "output_type": "display_data",
          "data": {
            "application/javascript": [
              "\n",
              "\n",
              "         requirejs( ['basic', 'ecco'], function(basic, ecco){\n",
              "            basic.init('viz_547634')\n",
              "\n",
              "            window.ecco['viz_547634'] = ecco.renderOutputSequence('viz_547634', {'tokens': [{'token': 'The', 'position': 0, 'token_id': 464, 'type': 'input'}, {'token': ' orange', 'position': 1, 'token_id': 10912, 'type': 'input'}, {'token': ' is', 'position': 2, 'token_id': 318, 'type': 'input'}, {'token': ' sweet', 'position': 3, 'token_id': 6029, 'type': 'input'}]})\n",
              "         }, function (err) {\n",
              "            console.log(err);\n",
              "        })\n"
            ],
            "text/plain": [
              "<IPython.core.display.Javascript object>"
            ]
          },
          "metadata": {
            "tags": []
          }
        },
        {
          "output_type": "display_data",
          "data": {
            "application/javascript": [
              "\n",
              "        // We don't really need these require scripts. But this is to avert\n",
              "        //this code from running before display_input_sequence which DOES require external files\n",
              "        requirejs(['basic', 'ecco'], function(basic, ecco){\n",
              "                console.log('addToken viz_id', 'viz_547634');\n",
              "                window.ecco['viz_547634'].addToken({\"token\": \" and\", \"token_id\": 290, \"position\": 4, \"type\": \"output\"})\n",
              "                window.ecco['viz_547634'].redraw()\n",
              "        })\n",
              "        "
            ],
            "text/plain": [
              "<IPython.core.display.Javascript object>"
            ]
          },
          "metadata": {
            "tags": []
          }
        },
        {
          "output_type": "display_data",
          "data": {
            "application/javascript": [
              "\n",
              "        // We don't really need these require scripts. But this is to avert\n",
              "        //this code from running before display_input_sequence which DOES require external files\n",
              "        requirejs(['basic', 'ecco'], function(basic, ecco){\n",
              "                console.log('addToken viz_id', 'viz_547634');\n",
              "                window.ecco['viz_547634'].addToken({\"token\": \" the\", \"token_id\": 262, \"position\": 5, \"type\": \"output\"})\n",
              "                window.ecco['viz_547634'].redraw()\n",
              "        })\n",
              "        "
            ],
            "text/plain": [
              "<IPython.core.display.Javascript object>"
            ]
          },
          "metadata": {
            "tags": []
          }
        },
        {
          "output_type": "display_data",
          "data": {
            "application/javascript": [
              "\n",
              "        // We don't really need these require scripts. But this is to avert\n",
              "        //this code from running before display_input_sequence which DOES require external files\n",
              "        requirejs(['basic', 'ecco'], function(basic, ecco){\n",
              "                console.log('addToken viz_id', 'viz_547634');\n",
              "                window.ecco['viz_547634'].addToken({\"token\": \" red\", \"token_id\": 2266, \"position\": 6, \"type\": \"output\"})\n",
              "                window.ecco['viz_547634'].redraw()\n",
              "        })\n",
              "        "
            ],
            "text/plain": [
              "<IPython.core.display.Javascript object>"
            ]
          },
          "metadata": {
            "tags": []
          }
        },
        {
          "output_type": "display_data",
          "data": {
            "application/javascript": [
              "\n",
              "        // We don't really need these require scripts. But this is to avert\n",
              "        //this code from running before display_input_sequence which DOES require external files\n",
              "        requirejs(['basic', 'ecco'], function(basic, ecco){\n",
              "                console.log('addToken viz_id', 'viz_547634');\n",
              "                window.ecco['viz_547634'].addToken({\"token\": \" is\", \"token_id\": 318, \"position\": 7, \"type\": \"output\"})\n",
              "                window.ecco['viz_547634'].redraw()\n",
              "        })\n",
              "        "
            ],
            "text/plain": [
              "<IPython.core.display.Javascript object>"
            ]
          },
          "metadata": {
            "tags": []
          }
        },
        {
          "output_type": "display_data",
          "data": {
            "application/javascript": [
              "\n",
              "        // We don't really need these require scripts. But this is to avert\n",
              "        //this code from running before display_input_sequence which DOES require external files\n",
              "        requirejs(['basic', 'ecco'], function(basic, ecco){\n",
              "                console.log('addToken viz_id', 'viz_547634');\n",
              "                window.ecco['viz_547634'].addToken({\"token\": \" bitter\", \"token_id\": 12922, \"position\": 8, \"type\": \"output\"})\n",
              "                window.ecco['viz_547634'].redraw()\n",
              "        })\n",
              "        "
            ],
            "text/plain": [
              "<IPython.core.display.Javascript object>"
            ]
          },
          "metadata": {
            "tags": []
          }
        },
        {
          "output_type": "display_data",
          "data": {
            "application/javascript": [
              "\n",
              "        // We don't really need these require scripts. But this is to avert\n",
              "        //this code from running before display_input_sequence which DOES require external files\n",
              "        requirejs(['basic', 'ecco'], function(basic, ecco){\n",
              "                console.log('addToken viz_id', 'viz_547634');\n",
              "                window.ecco['viz_547634'].addToken({\"token\": \".\", \"token_id\": 13, \"position\": 9, \"type\": \"output\"})\n",
              "                window.ecco['viz_547634'].redraw()\n",
              "        })\n",
              "        "
            ],
            "text/plain": [
              "<IPython.core.display.Javascript object>"
            ]
          },
          "metadata": {
            "tags": []
          }
        },
        {
          "output_type": "display_data",
          "data": {
            "application/javascript": [
              "\n",
              "        // We don't really need these require scripts. But this is to avert\n",
              "        //this code from running before display_input_sequence which DOES require external files\n",
              "        requirejs(['basic', 'ecco'], function(basic, ecco){\n",
              "                console.log('addToken viz_id', 'viz_547634');\n",
              "                window.ecco['viz_547634'].addToken({\"token\": \"\\n\", \"token_id\": 198, \"position\": 10, \"type\": \"output\"})\n",
              "                window.ecco['viz_547634'].redraw()\n",
              "        })\n",
              "        "
            ],
            "text/plain": [
              "<IPython.core.display.Javascript object>"
            ]
          },
          "metadata": {
            "tags": []
          }
        },
        {
          "output_type": "display_data",
          "data": {
            "application/javascript": [
              "\n",
              "        // We don't really need these require scripts. But this is to avert\n",
              "        //this code from running before display_input_sequence which DOES require external files\n",
              "        requirejs(['basic', 'ecco'], function(basic, ecco){\n",
              "                console.log('addToken viz_id', 'viz_547634');\n",
              "                window.ecco['viz_547634'].addToken({\"token\": \"\\n\", \"token_id\": 198, \"position\": 11, \"type\": \"output\"})\n",
              "                window.ecco['viz_547634'].redraw()\n",
              "        })\n",
              "        "
            ],
            "text/plain": [
              "<IPython.core.display.Javascript object>"
            ]
          },
          "metadata": {
            "tags": []
          }
        },
        {
          "output_type": "display_data",
          "data": {
            "application/javascript": [
              "\n",
              "        // We don't really need these require scripts. But this is to avert\n",
              "        //this code from running before display_input_sequence which DOES require external files\n",
              "        requirejs(['basic', 'ecco'], function(basic, ecco){\n",
              "                console.log('addToken viz_id', 'viz_547634');\n",
              "                window.ecco['viz_547634'].addToken({\"token\": \"I\", \"token_id\": 40, \"position\": 12, \"type\": \"output\"})\n",
              "                window.ecco['viz_547634'].redraw()\n",
              "        })\n",
              "        "
            ],
            "text/plain": [
              "<IPython.core.display.Javascript object>"
            ]
          },
          "metadata": {
            "tags": []
          }
        },
        {
          "output_type": "display_data",
          "data": {
            "application/javascript": [
              "\n",
              "        // We don't really need these require scripts. But this is to avert\n",
              "        //this code from running before display_input_sequence which DOES require external files\n",
              "        requirejs(['basic', 'ecco'], function(basic, ecco){\n",
              "                console.log('addToken viz_id', 'viz_547634');\n",
              "                window.ecco['viz_547634'].addToken({\"token\": \"'m\", \"token_id\": 1101, \"position\": 13, \"type\": \"output\"})\n",
              "                window.ecco['viz_547634'].redraw()\n",
              "        })\n",
              "        "
            ],
            "text/plain": [
              "<IPython.core.display.Javascript object>"
            ]
          },
          "metadata": {
            "tags": []
          }
        },
        {
          "output_type": "display_data",
          "data": {
            "application/javascript": [
              "\n",
              "        // We don't really need these require scripts. But this is to avert\n",
              "        //this code from running before display_input_sequence which DOES require external files\n",
              "        requirejs(['basic', 'ecco'], function(basic, ecco){\n",
              "                console.log('addToken viz_id', 'viz_547634');\n",
              "                window.ecco['viz_547634'].addToken({\"token\": \" not\", \"token_id\": 407, \"position\": 14, \"type\": \"output\"})\n",
              "                window.ecco['viz_547634'].redraw()\n",
              "        })\n",
              "        "
            ],
            "text/plain": [
              "<IPython.core.display.Javascript object>"
            ]
          },
          "metadata": {
            "tags": []
          }
        },
        {
          "output_type": "display_data",
          "data": {
            "application/javascript": [
              "\n",
              "        // We don't really need these require scripts. But this is to avert\n",
              "        //this code from running before display_input_sequence which DOES require external files\n",
              "        requirejs(['basic', 'ecco'], function(basic, ecco){\n",
              "                console.log('addToken viz_id', 'viz_547634');\n",
              "                window.ecco['viz_547634'].addToken({\"token\": \" sure\", \"token_id\": 1654, \"position\": 15, \"type\": \"output\"})\n",
              "                window.ecco['viz_547634'].redraw()\n",
              "        })\n",
              "        "
            ],
            "text/plain": [
              "<IPython.core.display.Javascript object>"
            ]
          },
          "metadata": {
            "tags": []
          }
        },
        {
          "output_type": "display_data",
          "data": {
            "application/javascript": [
              "\n",
              "        // We don't really need these require scripts. But this is to avert\n",
              "        //this code from running before display_input_sequence which DOES require external files\n",
              "        requirejs(['basic', 'ecco'], function(basic, ecco){\n",
              "                console.log('addToken viz_id', 'viz_547634');\n",
              "                window.ecco['viz_547634'].addToken({\"token\": \" if\", \"token_id\": 611, \"position\": 16, \"type\": \"output\"})\n",
              "                window.ecco['viz_547634'].redraw()\n",
              "        })\n",
              "        "
            ],
            "text/plain": [
              "<IPython.core.display.Javascript object>"
            ]
          },
          "metadata": {
            "tags": []
          }
        },
        {
          "output_type": "display_data",
          "data": {
            "application/javascript": [
              "\n",
              "        // We don't really need these require scripts. But this is to avert\n",
              "        //this code from running before display_input_sequence which DOES require external files\n",
              "        requirejs(['basic', 'ecco'], function(basic, ecco){\n",
              "                console.log('addToken viz_id', 'viz_547634');\n",
              "                window.ecco['viz_547634'].addToken({\"token\": \" I\", \"token_id\": 314, \"position\": 17, \"type\": \"output\"})\n",
              "                window.ecco['viz_547634'].redraw()\n",
              "        })\n",
              "        "
            ],
            "text/plain": [
              "<IPython.core.display.Javascript object>"
            ]
          },
          "metadata": {
            "tags": []
          }
        },
        {
          "output_type": "display_data",
          "data": {
            "application/javascript": [
              "\n",
              "        // We don't really need these require scripts. But this is to avert\n",
              "        //this code from running before display_input_sequence which DOES require external files\n",
              "        requirejs(['basic', 'ecco'], function(basic, ecco){\n",
              "                console.log('addToken viz_id', 'viz_547634');\n",
              "                window.ecco['viz_547634'].addToken({\"token\": \"'m\", \"token_id\": 1101, \"position\": 18, \"type\": \"output\"})\n",
              "                window.ecco['viz_547634'].redraw()\n",
              "        })\n",
              "        "
            ],
            "text/plain": [
              "<IPython.core.display.Javascript object>"
            ]
          },
          "metadata": {
            "tags": []
          }
        },
        {
          "output_type": "display_data",
          "data": {
            "application/javascript": [
              "\n",
              "        // We don't really need these require scripts. But this is to avert\n",
              "        //this code from running before display_input_sequence which DOES require external files\n",
              "        requirejs(['basic', 'ecco'], function(basic, ecco){\n",
              "                console.log('addToken viz_id', 'viz_547634');\n",
              "                window.ecco['viz_547634'].addToken({\"token\": \" going\", \"token_id\": 1016, \"position\": 19, \"type\": \"output\"})\n",
              "                window.ecco['viz_547634'].redraw()\n",
              "        })\n",
              "        "
            ],
            "text/plain": [
              "<IPython.core.display.Javascript object>"
            ]
          },
          "metadata": {
            "tags": []
          }
        }
      ]
    },
    {
      "cell_type": "code",
      "metadata": {
        "id": "dFIAU3Fto4Jl",
        "colab": {
          "base_uri": "https://localhost:8080/",
          "height": 310
        },
        "outputId": "90ccded2-e395-4c78-e57e-d979ec6f53d1"
      },
      "source": [
        "topp.layer_predictions(position=6, topk=30, layer=11)"
      ],
      "execution_count": 102,
      "outputs": [
        {
          "output_type": "stream",
          "text": [
            "Predictions for position 6\n"
          ],
          "name": "stdout"
        },
        {
          "output_type": "display_data",
          "data": {
            "text/html": [
              "<html lang=\"en\">\n",
              "<script src=\"https://requirejs.org/docs/release/2.3.6/minified/require.js\"></script>\n",
              "<script>\n",
              "    var ecco_url = 'https://storage.googleapis.com/ml-intro/ecco/'\n",
              "    // var ecco_url = 'http://localhost:8000/ecco/'\n",
              "\n",
              "    if (window.ecco === undefined) window.ecco = {}\n",
              "\n",
              "    requirejs.config({\n",
              "        urlArgs: \"bust=\" + (new Date()).getTime(),\n",
              "        nodeRequire: require,\n",
              "        paths: {\n",
              "            d3: \"https://d3js.org/d3.v5.min\",\n",
              "            \"d3-array\": \"https://d3js.org/d3-array.v2.min\",\n",
              "            jquery: \"https://code.jquery.com/jquery-3.5.1.min\",\n",
              "            // oldEcco: ecco_url + 'ecco',\n",
              "            ecco: ecco_url + 'js/0.0.4/ecco-bundle.min',\n",
              "            xregexp: 'https://cdnjs.cloudflare.com/ajax/libs/xregexp/3.2.0/xregexp-all.min'\n",
              "        }\n",
              "    });\n",
              "    requirejs(['d3'],\n",
              "        function (d3) {\n",
              "            d3.select('#css').attr('href', ecco_url + 'html/styles.css')\n",
              "        })\n",
              "\n",
              "    console.log('Ecco initialize.')\n",
              "</script>\n",
              "\n",
              "<head>\n",
              "    <link id='css' rel=\"stylesheet\" type=\"text/css\">\n",
              "</head>\n"
            ],
            "text/plain": [
              "<IPython.core.display.HTML object>"
            ]
          },
          "metadata": {
            "tags": []
          }
        },
        {
          "output_type": "display_data",
          "data": {
            "text/html": [
              "<script>\n",
              "    // console.log('defining basic')\n",
              "    define('basic', ['d3'],\n",
              "        function (d3) {\n",
              "            return {\n",
              "                init: function (viz_id = null) {\n",
              "\n",
              "                    // console.log('basic init')\n",
              "                    if (viz_id == null){\n",
              "                        viz_id = \"viz_\" + Math.round(Math.random() * 10000000)\n",
              "                    }\n",
              "                    const div = d3.select('#basic').attr('id', viz_id),\n",
              "                        div_parent = d3.select('#' + viz_id).node().parentNode\n",
              "\n",
              "                    // Link to CSS file\n",
              "                    d3.select(div_parent).insert('link')\n",
              "                        .attr('rel', 'stylesheet')\n",
              "                        .attr('type', 'text/css')\n",
              "                        .attr('href', ecco_url + 'html/styles.css')\n",
              "\n",
              "                    return viz_id\n",
              "                }\n",
              "            }\n",
              "        }, function (err) {console.log(err);}\n",
              "    )\n",
              "    // console.log('after defining basic')\n",
              "\n",
              "</script>\n",
              "<div id=\"basic\"></div>\n"
            ],
            "text/plain": [
              "<IPython.core.display.HTML object>"
            ]
          },
          "metadata": {
            "tags": []
          }
        },
        {
          "output_type": "display_data",
          "data": {
            "application/javascript": [
              "\n",
              "         requirejs(['basic', 'ecco'], function(basic, ecco){\n",
              "            const viz_id = basic.init()\n",
              "\n",
              "\n",
              "            let pred = new ecco.LayerPredictions({\n",
              "                parentDiv: viz_id,\n",
              "                data:[[{\"token\": \" red\", \"prob\": \"0.17466855\", \"ranking\": 1, \"layer\": 11}, {\"token\": \" orange\", \"prob\": \"0.07865064\", \"ranking\": 2, \"layer\": 11}, {\"token\": \" blue\", \"prob\": \"0.058612075\", \"ranking\": 3, \"layer\": 11}, {\"token\": \" yellow\", \"prob\": \"0.057616714\", \"ranking\": 4, \"layer\": 11}, {\"token\": \" black\", \"prob\": \"0.056409698\", \"ranking\": 5, \"layer\": 11}, {\"token\": \" green\", \"prob\": \"0.049367614\", \"ranking\": 6, \"layer\": 11}, {\"token\": \" purple\", \"prob\": \"0.03432114\", \"ranking\": 7, \"layer\": 11}, {\"token\": \" brown\", \"prob\": \"0.029650625\", \"ranking\": 8, \"layer\": 11}, {\"token\": \" white\", \"prob\": \"0.022791753\", \"ranking\": 9, \"layer\": 11}, {\"token\": \" dark\", \"prob\": \"0.018463664\", \"ranking\": 10, \"layer\": 11}, {\"token\": \" pink\", \"prob\": \"0.01664214\", \"ranking\": 11, \"layer\": 11}, {\"token\": \" lemon\", \"prob\": \"0.0150859365\", \"ranking\": 12, \"layer\": 11}, {\"token\": \" cream\", \"prob\": \"0.011234034\", \"ranking\": 13, \"layer\": 11}, {\"token\": \" silver\", \"prob\": \"0.0075425194\", \"ranking\": 14, \"layer\": 11}, {\"token\": \" gray\", \"prob\": \"0.0075336047\", \"ranking\": 15, \"layer\": 11}, {\"token\": \" chocolate\", \"prob\": \"0.0064319964\", \"ranking\": 16, \"layer\": 11}, {\"token\": \" lime\", \"prob\": \"0.006320259\", \"ranking\": 17, \"layer\": 11}, {\"token\": \" cherry\", \"prob\": \"0.0058729546\", \"ranking\": 18, \"layer\": 11}, {\"token\": \" light\", \"prob\": \"0.0053073107\", \"ranking\": 19, \"layer\": 11}, {\"token\": \" grey\", \"prob\": \"0.0049618883\", \"ranking\": 20, \"layer\": 11}, {\"token\": \" raspberry\", \"prob\": \"0.004946354\", \"ranking\": 21, \"layer\": 11}, {\"token\": \" strawberry\", \"prob\": \"0.00414673\", \"ranking\": 22, \"layer\": 11}, {\"token\": \" deep\", \"prob\": \"0.0038319398\", \"ranking\": 23, \"layer\": 11}, {\"token\": \" mint\", \"prob\": \"0.003815341\", \"ranking\": 24, \"layer\": 11}, {\"token\": \" vanilla\", \"prob\": \"0.003620846\", \"ranking\": 25, \"layer\": 11}, {\"token\": \" peach\", \"prob\": \"0.0032818606\", \"ranking\": 26, \"layer\": 11}, {\"token\": \" gold\", \"prob\": \"0.0031089343\", \"ranking\": 27, \"layer\": 11}, {\"token\": \" violet\", \"prob\": \"0.0029669052\", \"ranking\": 28, \"layer\": 11}, {\"token\": \" grape\", \"prob\": \"0.0029249217\", \"ranking\": 29, \"layer\": 11}, {\"token\": \" sweet\", \"prob\": \"0.0028735616\", \"ranking\": 30, \"layer\": 11}]]\n",
              "            })\n",
              "            pred.init()\n",
              "         }, function (err) {\n",
              "            console.log(viz_id, err);\n",
              "        })"
            ],
            "text/plain": [
              "<IPython.core.display.Javascript object>"
            ]
          },
          "metadata": {
            "tags": []
          }
        }
      ]
    }
  ]
}