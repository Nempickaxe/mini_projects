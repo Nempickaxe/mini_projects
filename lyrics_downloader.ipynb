{
 "cells": [
  {
   "cell_type": "code",
   "execution_count": 63,
   "metadata": {
    "collapsed": true
   },
   "outputs": [],
   "source": [
    "from urllib.parse import urlencode\n",
    "from urllib.request import urlopen\n",
    "from urllib.request import urlretrieve\n",
    "import re\n",
    "import requests\n",
    "import os\n",
    "import pandas as pd"
   ]
  },
  {
   "cell_type": "code",
   "execution_count": 28,
   "metadata": {
    "collapsed": true
   },
   "outputs": [],
   "source": [
    "class AzLyrics:\n",
    "    '''\n",
    "    lyrics downloader from AZLyrics.com\n",
    "    '''\n",
    "    \n",
    "    def __init__(self, url):\n",
    "        self.publc_url = url\n",
    "        \n",
    "    def url_raw(self, pub_url):\n",
    "    temp_file, _ = urlretrieve(self.publc_url)\n",
    "    with open(temp_file) as file:\n",
    "        return file.read()\n",
    "        \n",
    "        \n",
    "    def get_album_info(url_out_raw):\n",
    "        header = re.findall(r'<h1><strong>(.*?) Lyrics</strong></h1>', url_out_raw)[0].strip()\n",
    "\n",
    "\n",
    "        a_dict = {}\n",
    "        a_dict['band_name'] = header\n",
    "        try:\n",
    "            related_artists_slab = re.findall(r'Related artists:<br>\\n(.*?)\\n\\n',url_out_raw, re.DOTALL)[0].strip()\n",
    "            related_artists = re.findall(r'\\\">(.*?)</a>', related_artists_slab)\n",
    "            a_dict['related_artists'] = related_artists\n",
    "        except:\n",
    "            pass\n",
    "        a_dict['albums'] = {}\n",
    "\n",
    "        albums_info = re.findall(r'<a (id=\\\"[0-9]+\">.*?)\\n\\n', url_out_raw, re.DOTALL)\n",
    "        for i in albums_info:\n",
    "            j = i.split('\\n')[0]\n",
    "            album = re.findall(r'<b>\"(.*?)\"</b>', j)[0]\n",
    "            a_dict['albums'][album] = {}\n",
    "\n",
    "            az_album_id = re.findall(r'id=\\\"([0-9]+)\\\">', j)\n",
    "            a_dict['albums'][album]['az_album_id'] = az_album_id\n",
    "\n",
    "            year = re.findall(r'</b> \\(([0-9]+)\\)</div>', j)[0]\n",
    "            a_dict['albums'][album]['year'] = year\n",
    "\n",
    "            lyrics_link = ['https://www.azlyrics.com'+item for item in re.findall(r'<a href=\"..(.*?)\\\" target', i)]\n",
    "            a_dict['albums'][album]['lyrics_link'] = lyrics_link\n",
    "\n",
    "        return a_dict"
   ]
  },
  {
   "cell_type": "code",
   "execution_count": 56,
   "metadata": {},
   "outputs": [],
   "source": [
    "def search_to_link(query):\n",
    "    \n",
    "    query_encode = \"http://search.azlyrics.com/search.php?\"+urlencode({\"q\": query}) \n",
    "    r=requests.get(query_encode)\n",
    "    if r.ok:\n",
    "        link = re.findall(r'<a href=\\\"(.*?.html)\\\" target', r.text)[0]\n",
    "        return link"
   ]
  },
  {
   "cell_type": "code",
   "execution_count": 2,
   "metadata": {
    "collapsed": true
   },
   "outputs": [],
   "source": [
    "def url_raw(pub_url):\n",
    "    temp_file, _ = urlretrieve(pub_url)\n",
    "    with open(temp_file) as file:\n",
    "        return file.read()"
   ]
  },
  {
   "cell_type": "code",
   "execution_count": 94,
   "metadata": {
    "collapsed": true
   },
   "outputs": [],
   "source": [
    "def get_album_info(url_out_raw):\n",
    "    header = re.findall(r'<h1><strong>(.*?) Lyrics</strong></h1>', url_out_raw)[0].strip()\n",
    "    \n",
    "\n",
    "    a_dict = {}\n",
    "    a_dict['band_name'] = header\n",
    "    try:\n",
    "        related_artists_slab = re.findall(r'Related artists:<br>\\n(.*?)\\n\\n',url_out_raw, re.DOTALL)[0].strip()\n",
    "        related_artists = re.findall(r'\\\">(.*?)</a>', related_artists_slab)\n",
    "        a_dict['related_artists'] = related_artists\n",
    "    except:\n",
    "        pass\n",
    "    a_dict['albums'] = {}\n",
    "    \n",
    "    albums_info = re.findall(r'<a (id=\\\"[0-9]+\">.*?)\\n\\n', url_out_raw, re.DOTALL)\n",
    "    for i in albums_info:\n",
    "        j = i.split('\\n')[0]\n",
    "        album = re.findall(r'<b>\"(.*?)\"</b>', j)[0]\n",
    "        a_dict['albums'][album] = {}\n",
    "        \n",
    "        az_album_id = re.findall(r'id=\\\"([0-9]+)\\\">', j)[0]\n",
    "        a_dict['albums'][album]['az_album_id'] = az_album_id\n",
    "\n",
    "        year = re.findall(r'</b> \\(([0-9]+)\\)</div>', j)[0]\n",
    "        a_dict['albums'][album]['year'] = year\n",
    "\n",
    "        lyrics_link = ['https://www.azlyrics.com'+item for item in re.findall(r'<a href=\"..(.*?)\\\" target', i)]\n",
    "        a_dict['albums'][album]['lyrics_link'] = lyrics_link\n",
    "        \n",
    "    return a_dict"
   ]
  },
  {
   "cell_type": "code",
   "execution_count": 5,
   "metadata": {},
   "outputs": [
    {
     "data": {
      "text/plain": [
       "dict_keys(['band_name', 'albums'])"
      ]
     },
     "execution_count": 5,
     "metadata": {},
     "output_type": "execute_result"
    }
   ],
   "source": [
    "url_link = 'https://www.azlyrics.com/p/poetsofthefall.html'\n",
    "a = url_raw(url_link)\n",
    "b = get_album_info(a)\n",
    "b.keys()"
   ]
  },
  {
   "cell_type": "code",
   "execution_count": 157,
   "metadata": {
    "collapsed": true
   },
   "outputs": [],
   "source": [
    "def out_lyrics(pub_url):\n",
    "    x = url_raw(pub_url)\n",
    "    paragraphs = re.findall(r'<div>(.*?)</div>', str(x), re.DOTALL)[0]\n",
    "    paragraphs = re.sub('<br>', '', paragraphs)\n",
    "    paragraphs = re.sub(r'<!--.*?-->', '', paragraphs).strip()\n",
    "    \n",
    "    song_name = re.findall(r'SongName = \\\"(.*?)\\\";', str(x), re.DOTALL)[0]\n",
    "    return song_name, paragraphs"
   ]
  },
  {
   "cell_type": "code",
   "execution_count": 168,
   "metadata": {},
   "outputs": [],
   "source": [
    "def write_file(album_dictionary):\n",
    "    if not os.path.exists('Lyrics'):\n",
    "        os.mkdir('Lyrics')\n",
    "    \n",
    "    item = album_dictionary['band_name']\n",
    "    path = 'Lyrics/%s'%item\n",
    "    if os.path.exists(path):\n",
    "        pass\n",
    "    else:\n",
    "        os.mkdir(path)\n",
    "\n",
    "    with open(path+'/band_info.txt', 'w') as file:\n",
    "        file.write('Band_name: '+ album_dictionary['band_name'])\n",
    "        if 'related_artists' in album_dictionary.keys():\n",
    "            file.write('Related Artists: '+ c['related_artists'])\n",
    "\n",
    "    new_df = pd.DataFrame.from_dict(album_dictionary['albums'], orient='index')\n",
    "    new_df.index.name = 'Album'\n",
    "    stacked_titles = pd.DataFrame(pd.DataFrame(new_df['lyrics_link'].tolist(), index=new_df['az_album_id']).stack()).reset_index()\n",
    "    stacked_titles.drop('level_1', inplace = True, axis = 1)\n",
    "    stacked_titles.columns = ['az_album_id', 'lyrics_link']\n",
    "    new_df_1 = new_df.reset_index().drop('lyrics_link', axis=1).merge(stacked_titles, on = 'az_album_id' ).set_index('az_album_id')\n",
    "    new_df_1.to_csv(path+'/Albums.csv')\n",
    "    \n",
    "    new_df_1['folder_name'] = new_df_1['year'] + '_' + new_df_1['Album']\n",
    "    new_df_1['lyrics_link'] = new_df_1['lyrics_link']\n",
    "    new_df_1.reset_index(drop=True,inplace=True)\n",
    "\n",
    "    for ind in range(len(new_df_1)):\n",
    "        try:\n",
    "            title, lyrics = out_lyrics(new_df_1['lyrics_link'][ind])\n",
    "            new_path = re.sub('/', ':', path + '/' + new_df_1['folder_name'][ind])\n",
    "            year = new_df_1['year'][ind]\n",
    "            link = new_df_1['lyrics_link'][ind]\n",
    "            album = new_df_1['Album'][ind]\n",
    "\n",
    "            if os.path.exists(new_path):\n",
    "                pass\n",
    "            else:\n",
    "                os.mkdir(new_path)\n",
    "                \n",
    "            with open(new_path+'/' + title + '.txt', 'w') as file:\n",
    "                file.write('Song Name: ' + title + '\\n' +\n",
    "                          'Album: ' +  album + '|' + 'Year: ' + year + '\\n' +\n",
    "                          'link: ' + link + '-'*20 + '\\n\\n')\n",
    "                file.write(lyrics)\n",
    "\n",
    "        except Exception as e:\n",
    "            print(e)"
   ]
  },
  {
   "cell_type": "code",
   "execution_count": 12,
   "metadata": {
    "collapsed": true
   },
   "outputs": [],
   "source": [
    "def azlyrics_links(query):\n",
    "    '''\n",
    "    DEPRECATED by get_album_info, ask Kevin about next page\n",
    "    '''\n",
    "    query_link = \"http://search.azlyrics.com/search.php?\"+urlencode({\"q\": query})\n",
    "    \n",
    "    r=requests.get(query_link)\n",
    "    text = r.text\n",
    "    link_info = re.findall(r'[0-9]+. <a href=\\\"(.*?)</b><br>', text)\n",
    "    \n",
    "    extracted_info = []\n",
    "    \n",
    "    for item in link_info:\n",
    "        try:\n",
    "            extr_info = (re.findall(r'.*html' , item),\\\n",
    "                    re.findall(r'<b>(.*?)</b>' , item),\\\n",
    "                    re.findall(r'<b>([^<>]*)\\s*' , item)[1])\n",
    "            \n",
    "            extracted_info.append(extr_info)\n",
    "            \n",
    "        except:\n",
    "            pass\n",
    "    \n",
    "    return extracted_info"
   ]
  },
  {
   "cell_type": "code",
   "execution_count": 13,
   "metadata": {},
   "outputs": [
    {
     "data": {
      "text/plain": [
       "[(['https://www.azlyrics.com/lyrics/davidleeroth/thebeatlestune.html'],\n",
       "  ['The Beatles Tune'],\n",
       "  'David Lee Roth'),\n",
       " (['https://www.azlyrics.com/lyrics/joediffie/biggerthanthebeatles.html'],\n",
       "  ['Bigger Than The Beatles'],\n",
       "  'Joe Diffie'),\n",
       " (['https://www.azlyrics.com/lyrics/devendrabanhart/thebeatles.html'],\n",
       "  ['The Beatles'],\n",
       "  'Devendra Banhart'),\n",
       " (['https://www.azlyrics.com/lyrics/beatles/herecomesthesun.html'],\n",
       "  ['Here Comes The Sun'],\n",
       "  'The Beatles'),\n",
       " (['https://www.azlyrics.com/lyrics/beatles/acrosstheuniverse.html'],\n",
       "  ['Across The Universe'],\n",
       "  'The Beatles')]"
      ]
     },
     "execution_count": 13,
     "metadata": {},
     "output_type": "execute_result"
    }
   ],
   "source": [
    "azlyrics_links('The Beatles')"
   ]
  },
  {
   "cell_type": "code",
   "execution_count": 166,
   "metadata": {
    "scrolled": true
   },
   "outputs": [
    {
     "name": "stdout",
     "output_type": "stream",
     "text": [
      "[Errno 2] No such file or directory: 'Lyrics/Poets Of The Fall2006_Carnival Of Rust/All The Way / 4U.txt'\n",
      "Remote end closed connection without response\n",
      "Remote end closed connection without response\n",
      "Remote end closed connection without response\n",
      "Remote end closed connection without response\n",
      "Remote end closed connection without response\n",
      "Remote end closed connection without response\n",
      "Remote end closed connection without response\n",
      "Remote end closed connection without response\n",
      "Remote end closed connection without response\n",
      "Remote end closed connection without response\n",
      "Remote end closed connection without response\n",
      "Remote end closed connection without response\n",
      "Remote end closed connection without response\n",
      "Remote end closed connection without response\n",
      "Remote end closed connection without response\n",
      "Remote end closed connection without response\n",
      "Remote end closed connection without response\n",
      "Remote end closed connection without response\n",
      "Remote end closed connection without response\n",
      "Remote end closed connection without response\n",
      "Remote end closed connection without response\n",
      "Remote end closed connection without response\n",
      "Remote end closed connection without response\n",
      "Remote end closed connection without response\n",
      "Remote end closed connection without response\n",
      "Remote end closed connection without response\n",
      "Remote end closed connection without response\n",
      "Remote end closed connection without response\n",
      "Remote end closed connection without response\n"
     ]
    }
   ],
   "source": [
    "a = search_to_link('poets of the fall')\n",
    "b = url_raw(a)\n",
    "c = get_album_info(b)\n",
    "write_file(c)"
   ]
  },
  {
   "cell_type": "code",
   "execution_count": 96,
   "metadata": {},
   "outputs": [
    {
     "data": {
      "text/plain": [
       "dict_keys(['band_name', 'albums'])"
      ]
     },
     "execution_count": 96,
     "metadata": {},
     "output_type": "execute_result"
    }
   ],
   "source": [
    "c.keys()"
   ]
  },
  {
   "cell_type": "code",
   "execution_count": 158,
   "metadata": {
    "scrolled": true
   },
   "outputs": [
    {
     "name": "stdout",
     "output_type": "stream",
     "text": [
      "Carnival Of Rust\n",
      "\n",
      "D' you breathe the name of your saviour in your hour of need,\n",
      "And taste the blame if the flavor should remind you of greed?\n",
      "Of implication, insinuation and ill will, 'til you cannot lie still,\n",
      "In all this turmoil, before red cape and foil come closing in for a kill\n",
      "\n",
      "Come feed the rain\n",
      "'cause I'm thirsty for your love dancing underneath the skies of lust\n",
      "Yeah, feed the rain\n",
      "'cause without your love my life ain't nothing but this carnival of rust\n",
      "\n",
      "It's all a game, avoiding failure, when true colors will bleed\n",
      "All in the name of misbehavior and the things we don't need\n",
      "I lust for after no disaster can touch, touch us anymore\n",
      "And more than ever, I hope to never fall, where enough is not the same it was before\n",
      "\n",
      "Come feed the rain...\n",
      "'cause I'm thirsty for your love dancing underneath the skies of lust\n",
      "Yeah, feed the rain\n",
      "'cause without your love my life ain't nothing but this carnival of rust\n",
      "Yeah, feed the rain\n",
      "'cause I'm thirsty for your love dancing underneath the skies of lust\n",
      "Yeah, feed the rain\n",
      "'cause without your love my life ain't nothing but this carnival of rust\n",
      "\n",
      "Don't walk away, don't walk away, oh, when the world is burning\n",
      "Don't walk away, don't walk away, oh, when the heart is yearning\n",
      "Don't walk away, don't walk away, oh, when the world is burning\n",
      "Don't walk away, don't walk away, oh, when the heart is yearning\n"
     ]
    }
   ],
   "source": [
    "azlyrics_url = \"https://www.azlyrics.com/lyrics/poetsofthefall/carnivalofrust.html\"\n",
    "d = out_lyrics(azlyrics_url)\n",
    "print(d[0]+'\\n')\n",
    "print(d[1])"
   ]
  }
 ],
 "metadata": {
  "kernelspec": {
   "display_name": "Python 3",
   "language": "python",
   "name": "python3"
  },
  "language_info": {
   "codemirror_mode": {
    "name": "ipython",
    "version": 3
   },
   "file_extension": ".py",
   "mimetype": "text/x-python",
   "name": "python",
   "nbconvert_exporter": "python",
   "pygments_lexer": "ipython3",
   "version": "3.6.3"
  }
 },
 "nbformat": 4,
 "nbformat_minor": 2
}
